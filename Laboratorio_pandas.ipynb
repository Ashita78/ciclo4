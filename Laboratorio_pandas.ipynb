{
  "nbformat": 4,
  "nbformat_minor": 0,
  "metadata": {
    "colab": {
      "provenance": [],
      "include_colab_link": true
    },
    "kernelspec": {
      "name": "python3",
      "display_name": "Python 3"
    },
    "language_info": {
      "name": "python"
    }
  },
  "cells": [
    {
      "cell_type": "markdown",
      "metadata": {
        "id": "view-in-github",
        "colab_type": "text"
      },
      "source": [
        "<a href=\"https://colab.research.google.com/github/Ashita78/ciclo4/blob/main/Laboratorio_pandas.ipynb\" target=\"_parent\"><img src=\"https://colab.research.google.com/assets/colab-badge.svg\" alt=\"Open In Colab\"/></a>"
      ]
    },
    {
      "cell_type": "markdown",
      "source": [
        "**Los siguientes ejercicios ofrecen una visualización rápida y comparativa sobre la eficacia de Pandas**"
      ],
      "metadata": {
        "id": "SiqKd4DUWN5R"
      }
    },
    {
      "cell_type": "markdown",
      "source": [
        "*Recuerda siempre generar tu propia copia de este archivo en colab o bien descargar para ejecutar en jupyter notebooks, etc*"
      ],
      "metadata": {
        "id": "8zpnoCT6e7zI"
      }
    },
    {
      "cell_type": "code",
      "execution_count": null,
      "metadata": {
        "id": "hzuvh4LJSIL2"
      },
      "outputs": [],
      "source": [
        "import pandas as pd"
      ]
    },
    {
      "cell_type": "markdown",
      "source": [
        "# Ejercicio 1: Creación de DataFrame/Lista de Diccionarios\n",
        "Crea una estructura de datos que contenga información sobre estudiantes (nombre,\n",
        "edad y calificación)."
      ],
      "metadata": {
        "id": "dqHboBqZWO3C"
      }
    },
    {
      "cell_type": "code",
      "source": [
        "# Python puro\n",
        "students = [\n",
        "{\"name\": \"Alice\", \"age\": 20, \"grade\": 85},\n",
        "{\"name\": \"Bob\", \"age\": 21, \"grade\": 90},\n",
        "{\"name\": \"Charlie\", \"age\": 19, \"grade\": 95}\n",
        "]\n",
        "\n",
        "for student in students:\n",
        "print(student)"
      ],
      "metadata": {
        "id": "eJeKWs6eW5ce"
      },
      "execution_count": null,
      "outputs": []
    },
    {
      "cell_type": "code",
      "source": [
        "# Pandas\n",
        "data = {\n",
        "\"name\": [\"Alice\", \"Bob\", \"Charlie\"],\n",
        "\"age\": [20, 21, 19],\n",
        "\"grade\": [85, 90, 95]\n",
        "}\n",
        "\n",
        "df = pd.DataFrame(data)"
      ],
      "metadata": {
        "id": "E5x7279FXFk0"
      },
      "execution_count": null,
      "outputs": []
    },
    {
      "cell_type": "markdown",
      "source": [
        "# Ejercicio 2: Selección de Columnas\n",
        "Selecciona la columna de calificaciones."
      ],
      "metadata": {
        "id": "yxK3SGCOXPWX"
      }
    },
    {
      "cell_type": "code",
      "source": [
        "# Python puro\n",
        "grades = [student[\"grade\"] for student in students]\n",
        "print(grades)"
      ],
      "metadata": {
        "id": "piAhZkmcXWLu"
      },
      "execution_count": null,
      "outputs": []
    },
    {
      "cell_type": "code",
      "source": [
        "# Pandas\n",
        "grades = df[\"grade\"]\n",
        "print(grades)"
      ],
      "metadata": {
        "id": "WCgBUxQKXbGU"
      },
      "execution_count": null,
      "outputs": []
    },
    {
      "cell_type": "markdown",
      "source": [
        "# Ejercicio 3: Filtrar Datos\n",
        "Filtra los estudiantes con una calificación mayor a 85."
      ],
      "metadata": {
        "id": "MrIKxJV4XiKH"
      }
    },
    {
      "cell_type": "code",
      "source": [
        "# Python puro\n",
        "filtered_students = [student for student in\n",
        "students if student[\"grade\"] > 85]\n",
        "print(filtered_students)"
      ],
      "metadata": {
        "id": "zRIsuHX0XkvT"
      },
      "execution_count": null,
      "outputs": []
    },
    {
      "cell_type": "code",
      "source": [
        "# Pandas\n",
        "filtered_df = df[df[\"grade\"] > 85]\n",
        "print(filtered_df)"
      ],
      "metadata": {
        "id": "0axAoPvSXn91"
      },
      "execution_count": null,
      "outputs": []
    },
    {
      "cell_type": "markdown",
      "source": [
        "# Ejercicio 4: Ordenar Datos\n",
        "Ordena los estudiantes por edad."
      ],
      "metadata": {
        "id": "zEkgAl4vXuOs"
      }
    },
    {
      "cell_type": "code",
      "source": [
        "# Python puro\n",
        "sorted_students = sorted(students, key=lambda x: x[\"age\"])\n",
        "print(sorted_students)"
      ],
      "metadata": {
        "id": "EHzq3e0BXw3X"
      },
      "execution_count": null,
      "outputs": []
    },
    {
      "cell_type": "code",
      "source": [
        "# Pandas\n",
        "sorted_df = df.sort_values(by=\"age\")\n",
        "print(sorted_df)"
      ],
      "metadata": {
        "id": "3F8j366wXz2K"
      },
      "execution_count": null,
      "outputs": []
    },
    {
      "cell_type": "markdown",
      "source": [
        "# Ejercicio 5: Agregar Nueva Columna\n",
        "Agrega una nueva columna que indique si el estudiante aprobó (calificación >= 60)."
      ],
      "metadata": {
        "id": "h4gaPFUiX57Z"
      }
    },
    {
      "cell_type": "code",
      "source": [
        "# Python puro\n",
        "for student in students:\n",
        "student[\"passed\"] = student[\"grade\"] >= 60"
      ],
      "metadata": {
        "id": "vQjuRzCtX8dP"
      },
      "execution_count": null,
      "outputs": []
    },
    {
      "cell_type": "code",
      "source": [
        "# Pandas\n",
        "df[\"passed\"] = df[\"grade\"] >= 60"
      ],
      "metadata": {
        "id": "A9aXT5btX_n5"
      },
      "execution_count": null,
      "outputs": []
    },
    {
      "cell_type": "markdown",
      "source": [
        "# **RETO FINAL**"
      ],
      "metadata": {
        "id": "R1B8EDN6b8Aa"
      }
    },
    {
      "cell_type": "markdown",
      "source": [
        "*En esta ocasión me gustaría compartir con ustedes un pequeño reto para comenzar a hacer analisis de datos a partir del uso de numpy, pandas y sus clases teoricas de estadística.*\n",
        "\n",
        "*Este reto es opcional, pero sirve para poner en práctica lo aprendido. Tal véz hay cosas que a estas alturas aún te generan dudas, pero ¡no te preocupes! seguro al final de este bootcamp sabras dar solución a todo lo aquí planteado.*\n",
        "\n",
        "*Por último, me gustaría recordarte que aunque las matematicas son exactas, no existe una unica respuesta valida. **Ser cientifico de datos, implica ser curioso**\\.*"
      ],
      "metadata": {
        "id": "Gu9pAXAQcCxQ"
      }
    },
    {
      "cell_type": "markdown",
      "source": [
        "# Reto: Análisis de Datos de Ventas de Videojuegos\n",
        "## Objetivo:\n",
        "Realizar un análisis exploratorio de un conjunto de datos sobre ventas de videojuegos a nivel mundial para responder preguntas específicas y extraer insights valiosos sobre las tendencias de la industria."
      ],
      "metadata": {
        "id": "Q9Xs7lYeb6kh"
      }
    },
    {
      "cell_type": "markdown",
      "source": [
        "# Tareas:\n",
        "**1. Carga y limpieza de datos:**\n",
        "* Descarga el archivo videojuegos.csv desde este drive ( https://drive.google.com/file/d/1ekND7Q0N6p09_QiM64m43cVwVhmn3-aX/view?usp=share_link).\n",
        "* Cargar el conjunto de datos desde el archivo videojuegos.csv. (Así aprenderas a usar colab)\n",
        "* Verificar y manejar valores faltantes en las columnas críticas.\n",
        "* Asegurarse de que el año de lanzamiento esté en formato adecuado.\n",
        "\n",
        "**2. Análisis exploratorio:**\n",
        "* Calcular el número total de juegos lanzados por año.\n",
        "* Identificar las 10 plataformas con más títulos lanzados.\n",
        "* Determinar los 5 géneros más populares en términos de cantidad de juegos.\n",
        "\n",
        "**3. Análisis de ventas:**\n",
        "* Calcular las ventas totales por región y compararlas.\n",
        "* Encontrar el videojuego más vendido de cada género.\n",
        "* Analizar las tendencias de ventas de los videojuegos a lo largo de los años.\n",
        "\n",
        "**4. Visualización de datos:**\n",
        "* Crear gráficos para visualizar el número de juegos lanzados cada año.\n",
        "* Graficar las ventas globales por género.\n",
        "* Realizar un gráfico de barras que muestre las ventas por plataforma.\n",
        "\n",
        "**5. Insights y conclusiones:**\n",
        "* Extraer al menos tres insights interesantes del análisis.\n",
        "* Escribir conclusiones sobre las tendencias en la industria de videojuegos basadas en el análisis.\n"
      ],
      "metadata": {
        "id": "WVKicJ2oeBch"
      }
    }
  ]
}