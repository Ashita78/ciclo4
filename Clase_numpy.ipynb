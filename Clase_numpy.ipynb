{
  "nbformat": 4,
  "nbformat_minor": 0,
  "metadata": {
    "colab": {
      "provenance": [],
      "include_colab_link": true
    },
    "kernelspec": {
      "name": "python3",
      "display_name": "Python 3"
    },
    "language_info": {
      "name": "python"
    }
  },
  "cells": [
    {
      "cell_type": "markdown",
      "metadata": {
        "id": "view-in-github",
        "colab_type": "text"
      },
      "source": [
        "<a href=\"https://colab.research.google.com/github/Ashita78/ciclo4/blob/main/Clase_numpy.ipynb\" target=\"_parent\"><img src=\"https://colab.research.google.com/assets/colab-badge.svg\" alt=\"Open In Colab\"/></a>"
      ]
    },
    {
      "cell_type": "code",
      "execution_count": null,
      "metadata": {
        "id": "DEIVsSKIqipz"
      },
      "outputs": [],
      "source": [
        "import numpy as np"
      ]
    },
    {
      "cell_type": "markdown",
      "source": [
        "***¿Qué es una matriz?*** ⁉ ✋"
      ],
      "metadata": {
        "id": "Mojy5dje3FrK"
      }
    },
    {
      "cell_type": "markdown",
      "source": [
        "***¿Qué es un vector?*** ⁉ ✋"
      ],
      "metadata": {
        "id": "PpLmwXLZ4lsz"
      }
    },
    {
      "cell_type": "markdown",
      "source": [
        "# 1.- Matriz:"
      ],
      "metadata": {
        "id": "fmhIEUj362-0"
      }
    },
    {
      "cell_type": "markdown",
      "source": [
        "Una matriz multidimensional en NumPy es representada por el objeto ndarray.\n",
        "\n",
        "\n",
        " Este es un conjunto de elementos (usualmente números), todos del mismo tipo, organizados en una cuadrícula de N dimensiones.\n",
        "\n",
        "\n",
        " Cada elemento en el ndarray es identificado por una tupla de N índices, uno por cada dimensión de la matriz."
      ],
      "metadata": {
        "id": "DPjj1IHX1zvM"
      }
    },
    {
      "cell_type": "code",
      "source": [
        "# Crear una matriz 2D con NumPy\n",
        "matriz_2d = np.array([[1, 2, 3], [4, 5, 6]])"
      ],
      "metadata": {
        "id": "FIo4HVlOy9Kh"
      },
      "execution_count": null,
      "outputs": []
    },
    {
      "cell_type": "code",
      "source": [
        "print(matriz_2d)"
      ],
      "metadata": {
        "id": "5Hoipi8eHxYO",
        "colab": {
          "base_uri": "https://localhost:8080/"
        },
        "outputId": "7cd7dd50-8dc3-4891-a930-d85cd9bb0215"
      },
      "execution_count": null,
      "outputs": [
        {
          "output_type": "stream",
          "name": "stdout",
          "text": [
            "[[1 2 3]\n",
            " [4 5 6]]\n"
          ]
        }
      ]
    },
    {
      "cell_type": "markdown",
      "source": [
        "# 2.- Array:"
      ],
      "metadata": {
        "id": "Rah-gT7L3u3x"
      }
    },
    {
      "cell_type": "markdown",
      "source": [
        "Un array en NumPy, técnicamente es un ndarray, es simplemente un arreglo de elementos en N dimensiones.\n",
        "Puede ser 1D (una línea de elementos), 2D (una matriz de elementos), o incluso de mayor dimensionalidad.\n",
        "\n",
        "*En contextos de NumPy, \"array\" se refiere a ndarray a menos que se especifique lo contrario.*"
      ],
      "metadata": {
        "id": "fxhTkAfY3yjh"
      }
    },
    {
      "cell_type": "markdown",
      "source": [
        "# 3.- ¿Dónde esta el ♥ de NumPy?"
      ],
      "metadata": {
        "id": "PcUUuEmA4CNv"
      }
    },
    {
      "cell_type": "markdown",
      "source": [
        "El objeto más importante de NumPy es el **ndarray**, que es un array n-dimensional.\n",
        "\n",
        "Es una tabla de elementos (usualmente números), todos del mismo tipo, indexados por una tupla de enteros positivos. En NumPy, las dimensiones se llaman ejes.\n",
        "\n",
        "Propiedades de ndarray:\n",
        "\n",
        "* *ndim*: el número de ejes (dimensiones) del array.\n",
        "* *shape*: una tupla de enteros indicando el tamaño del array en cada dimensión.\n",
        "* *size*: el número total de elementos del array.\n",
        "* *dtype*: un objeto que describe el tipo de los elementos en el array.\n",
        "* *itemsize*: el tamaño en bytes de cada elemento del array.\n",
        "* *data*: el buffer que contiene los elementos actuales del array."
      ],
      "metadata": {
        "id": "x48aFGENy9ez"
      }
    },
    {
      "cell_type": "code",
      "source": [
        "a = np.array([1, 2, 3, 4, 5])"
      ],
      "metadata": {
        "id": "v_zRpBWeaCAp"
      },
      "execution_count": null,
      "outputs": []
    },
    {
      "cell_type": "code",
      "source": [
        "print(\"Array:\", a)\n",
        "print(\"Número de dimensiones:\", a.ndim)\n",
        "print(\"Forma del array:\", a.shape)\n",
        "print(\"Tamaño del array:\", a.size)\n",
        "print(\"Tipo de datos del array:\", a.dtype)\n",
        "print(\"Tamaño en bytes de cada elemento:\", a.itemsize)"
      ],
      "metadata": {
        "id": "wppvqP2vza_Y",
        "colab": {
          "base_uri": "https://localhost:8080/"
        },
        "outputId": "876c9f41-8178-45fe-b631-6d4b63bfe326"
      },
      "execution_count": null,
      "outputs": [
        {
          "output_type": "stream",
          "name": "stdout",
          "text": [
            "Array: [1 2 3 4 5]\n",
            "Número de dimensiones: 1\n",
            "Forma del array: (5,)\n",
            "Tamaño del array: 5\n",
            "Tipo de datos del array: int64\n",
            "Tamaño en bytes de cada elemento: 8\n"
          ]
        }
      ]
    },
    {
      "cell_type": "markdown",
      "source": [
        "# 4.- Tipos de Datos en NumPy:"
      ],
      "metadata": {
        "id": "oP3zU8AO21vc"
      }
    },
    {
      "cell_type": "markdown",
      "source": [
        "NumPy soporta una variedad de tipos numéricos que incluyen\n",
        "* **int** (enteros),\n",
        "* **float** (flotantes),\n",
        "* **complex** (complejos),\n",
        "* **bool** (booleanos), entre otros.\n",
        "\n",
        "Cuando creas un array, puedes especificar el tipo de datos utilizando el argumento dtype."
      ],
      "metadata": {
        "id": "eMFCGn-_zoHD"
      }
    },
    {
      "cell_type": "code",
      "source": [
        "# Creando arrays con diferentes tipos de datos\n",
        "b = np.array([1, 2, 3], dtype=np.float64)\n",
        "print(\"Array con tipo float64:\", b)\n"
      ],
      "metadata": {
        "id": "gVbnOf5sznMS",
        "colab": {
          "base_uri": "https://localhost:8080/"
        },
        "outputId": "5c1294c2-ab51-48cb-e5a5-a3f0b5f9742f"
      },
      "execution_count": null,
      "outputs": [
        {
          "output_type": "stream",
          "name": "stdout",
          "text": [
            "Array con tipo float64: [1. 2. 3.]\n"
          ]
        }
      ]
    },
    {
      "cell_type": "markdown",
      "source": [
        "Existen varias formas para inicializar nuevos arrays en NumPy, como np.zeros, np.ones, np.empty, etc., cada una con diferentes propósitos."
      ],
      "metadata": {
        "id": "hfboxeVzzw1-"
      }
    },
    {
      "cell_type": "code",
      "source": [
        "# Crear un array de ceros\n",
        "zeros_array = np.zeros((3,3))\n",
        "print(\"Array de ceros:\\n\", zeros_array)\n",
        "\n",
        "# Crear un array de unos\n",
        "ones_array = np.ones((2,2))\n",
        "print(\"Array de unos:\\n\", ones_array)\n",
        "\n",
        "# Crear un array con un rango de valores\n",
        "range_array = np.arange(10)\n",
        "print(\"Array de rango 0 a 9:\\n\", range_array)\n",
        "\n",
        "# Crear un array con valores espaciados uniformemente\n",
        "linspace_array = np.linspace(0, 1, 5)\n",
        "print(\"Array con linspace:\\n\", linspace_array)\n"
      ],
      "metadata": {
        "id": "J5in3Pswz2pk",
        "colab": {
          "base_uri": "https://localhost:8080/"
        },
        "outputId": "3ef20800-6041-454e-efbd-57d7e34c537e"
      },
      "execution_count": null,
      "outputs": [
        {
          "output_type": "stream",
          "name": "stdout",
          "text": [
            "Array de ceros:\n",
            " [[0. 0. 0.]\n",
            " [0. 0. 0.]\n",
            " [0. 0. 0.]]\n",
            "Array de unos:\n",
            " [[1. 1.]\n",
            " [1. 1.]]\n",
            "Array de rango 0 a 9:\n",
            " [0 1 2 3 4 5 6 7 8 9]\n",
            "Array con linspace:\n",
            " [0.   0.25 0.5  0.75 1.  ]\n"
          ]
        }
      ]
    },
    {
      "cell_type": "markdown",
      "source": [
        "# 5.- Operaciones Básicas\n",
        "NumPy permite realizar operaciones aritméticas elemento por elemento, incluyendo suma, resta, multiplicación, y división."
      ],
      "metadata": {
        "id": "s76l3m-B6kJY"
      }
    },
    {
      "cell_type": "code",
      "source": [
        "a = np.array([1, 2, 3])\n",
        "print(a)"
      ],
      "metadata": {
        "colab": {
          "base_uri": "https://localhost:8080/"
        },
        "id": "Mvs1YQiXdxRS",
        "outputId": "c73db9da-51ac-4561-b2b2-043961d66f15"
      },
      "execution_count": null,
      "outputs": [
        {
          "output_type": "stream",
          "name": "stdout",
          "text": [
            "[1 2 3]\n"
          ]
        }
      ]
    },
    {
      "cell_type": "code",
      "source": [
        "b = np.array([4, 5, 6])\n",
        "print(b)"
      ],
      "metadata": {
        "colab": {
          "base_uri": "https://localhost:8080/"
        },
        "id": "psmoM13gd3D8",
        "outputId": "18435aff-c943-4d03-f7b0-45b47ba7dcaa"
      },
      "execution_count": null,
      "outputs": [
        {
          "output_type": "stream",
          "name": "stdout",
          "text": [
            "[4 5 6]\n"
          ]
        }
      ]
    },
    {
      "cell_type": "code",
      "source": [
        "print(\"Suma:\", a + b)"
      ],
      "metadata": {
        "colab": {
          "base_uri": "https://localhost:8080/"
        },
        "id": "7TcZ53m9eD53",
        "outputId": "a2013c5d-85ed-4a1b-c329-2fb8ae4d2ed9"
      },
      "execution_count": null,
      "outputs": [
        {
          "output_type": "stream",
          "name": "stdout",
          "text": [
            "Suma: [5 7 9 5]\n"
          ]
        }
      ]
    },
    {
      "cell_type": "code",
      "source": [
        "# Suma, resta, multiplicación y división elemento por elemento\n",
        "print(\"Resta:\", a - b)\n",
        "print(\"Multiplicación:\", a * b)\n",
        "print(\"División:\", a / b)\n"
      ],
      "metadata": {
        "id": "zFsL-Ww86jPk",
        "colab": {
          "base_uri": "https://localhost:8080/"
        },
        "outputId": "d78a28a0-a8dc-452d-a48f-4e069f616f7f"
      },
      "execution_count": null,
      "outputs": [
        {
          "output_type": "stream",
          "name": "stdout",
          "text": [
            "Resta: [-3 -3 -3]\n",
            "Multiplicación: [ 4 10 18]\n",
            "División: [0.25 0.4  0.5 ]\n"
          ]
        }
      ]
    },
    {
      "cell_type": "markdown",
      "source": [
        "# 6._ Manipulación de Arrays\n",
        " NumPy permite manipular la forma y tamaño de los arrays de maneras muy flexibles."
      ],
      "metadata": {
        "id": "aWDPpcww7Lfw"
      }
    },
    {
      "cell_type": "code",
      "source": [
        "# Crear un array 3x3\n",
        "c = np.array([[1, 2, 3], [4, 5, 6], [7, 8, 9]])\n",
        "print(c)"
      ],
      "metadata": {
        "colab": {
          "base_uri": "https://localhost:8080/"
        },
        "id": "H6HBEmtDe-ZW",
        "outputId": "f4b697bb-382b-4a5f-b01d-53a00378b882"
      },
      "execution_count": null,
      "outputs": [
        {
          "output_type": "stream",
          "name": "stdout",
          "text": [
            "[[1 2 3]\n",
            " [4 5 6]\n",
            " [7 8 9]]\n"
          ]
        }
      ]
    },
    {
      "cell_type": "code",
      "source": [
        "# Cambiar la forma del array\n",
        "c_reshaped = c.reshape((1, 9))\n",
        "print(\"Array reorganizado:\\n\", c_reshaped)"
      ],
      "metadata": {
        "id": "4FmKJvyv6sM8",
        "colab": {
          "base_uri": "https://localhost:8080/"
        },
        "outputId": "452ee861-8ca8-41c5-d9ce-8343559daf36"
      },
      "execution_count": null,
      "outputs": [
        {
          "output_type": "stream",
          "name": "stdout",
          "text": [
            "Array reorganizado:\n",
            " [[1 2 3 4 5 6 7 8 9]]\n"
          ]
        }
      ]
    },
    {
      "cell_type": "markdown",
      "source": [
        "***¿A qué piensas que se pueda referir el concepto de aplanar array?*** ⁉ ✋"
      ],
      "metadata": {
        "id": "Ar40jGRs7cCU"
      }
    },
    {
      "cell_type": "code",
      "source": [
        "# Aplanar el array\n",
        "c_flattened = c.flatten()\n",
        "print(\"Array aplanado:\", c_flattened)"
      ],
      "metadata": {
        "id": "5nFyqKdM7WGz",
        "colab": {
          "base_uri": "https://localhost:8080/"
        },
        "outputId": "d19574dc-2a08-4f97-a2df-60dac7bf6668"
      },
      "execution_count": null,
      "outputs": [
        {
          "output_type": "stream",
          "name": "stdout",
          "text": [
            "Array aplanado: [1 2 3 4 5 6 7 8 9]\n"
          ]
        }
      ]
    },
    {
      "cell_type": "markdown",
      "source": [
        "***¿Qué es transponer un array?*** ⁉ ✋"
      ],
      "metadata": {
        "id": "W6XXhKpi7syX"
      }
    },
    {
      "cell_type": "code",
      "source": [
        "# Transponer el array\n",
        "c_transposed = c.transpose()\n",
        "print(\"Array transpuesto:\\n\", c_transposed)"
      ],
      "metadata": {
        "id": "k6CI5FMX7YRF",
        "colab": {
          "base_uri": "https://localhost:8080/"
        },
        "outputId": "2aef876a-004c-4613-bb8b-1d0536122251"
      },
      "execution_count": null,
      "outputs": [
        {
          "output_type": "stream",
          "name": "stdout",
          "text": [
            "Array transpuesto:\n",
            " [[1 4 7]\n",
            " [2 5 8]\n",
            " [3 6 9]]\n"
          ]
        }
      ]
    },
    {
      "cell_type": "markdown",
      "source": [
        "# 7._ Álgebra Lineal\n",
        "NumPy tiene un submódulo llamado numpy.linalg que proporciona muchas funciones para realizar operaciones de álgebra lineal."
      ],
      "metadata": {
        "id": "ZpgQlkw18HO_"
      }
    },
    {
      "cell_type": "code",
      "source": [
        "# Crear una matriz\n",
        "A = np.array([[1, 2], [3, 4]])\n",
        "print(A)"
      ],
      "metadata": {
        "id": "doNAn7jt8GcW",
        "colab": {
          "base_uri": "https://localhost:8080/"
        },
        "outputId": "f1ac509a-6a75-4959-9126-0918b62d55c0"
      },
      "execution_count": null,
      "outputs": [
        {
          "output_type": "stream",
          "name": "stdout",
          "text": [
            "[[1 2]\n",
            " [3 4]]\n"
          ]
        }
      ]
    },
    {
      "cell_type": "code",
      "source": [
        "# Calcular la inversa de la matriz\n",
        "inverse_A = np.linalg.inv(A)\n",
        "print(\"Inversa de la matriz:\\n\", inverse_A)"
      ],
      "metadata": {
        "id": "033DbVBq8Uxb",
        "colab": {
          "base_uri": "https://localhost:8080/"
        },
        "outputId": "7f545f6a-ed96-4a50-8fd4-d5fb9e15c8f1"
      },
      "execution_count": null,
      "outputs": [
        {
          "output_type": "stream",
          "name": "stdout",
          "text": [
            "Inversa de la matriz:\n",
            " [[-2.   1. ]\n",
            " [ 1.5 -0.5]]\n"
          ]
        }
      ]
    },
    {
      "cell_type": "code",
      "source": [
        "# Calcular el determinante\n",
        "det_A = np.linalg.det(A)\n",
        "print(\"Determinante de la matriz:\", det_A)"
      ],
      "metadata": {
        "id": "9fw2hph48VgA",
        "colab": {
          "base_uri": "https://localhost:8080/"
        },
        "outputId": "a68d690a-2d8f-4f6c-da6f-41b0d4d372f7"
      },
      "execution_count": null,
      "outputs": [
        {
          "output_type": "stream",
          "name": "stdout",
          "text": [
            "Determinante de la matriz: -2.0000000000000004\n"
          ]
        }
      ]
    },
    {
      "cell_type": "markdown",
      "source": [
        "***¿Sabes qué es un eigenvalor y eigenvector?*** ⁉ ✋"
      ],
      "metadata": {
        "id": "ab5K1AJL8fsz"
      }
    },
    {
      "cell_type": "code",
      "source": [
        "# Eigenvalores y eigenvectores\n",
        "eigenvalues, eigenvectors = np.linalg.eig(A)\n",
        "print(\"Eigenvalores:\", eigenvalues)\n",
        "print(\"Eigenvectores:\\n\", eigenvectors)"
      ],
      "metadata": {
        "id": "gI2eYgVG8aTQ",
        "colab": {
          "base_uri": "https://localhost:8080/"
        },
        "outputId": "afebce32-2c48-4672-f441-95f935f4160c"
      },
      "execution_count": null,
      "outputs": [
        {
          "output_type": "stream",
          "name": "stdout",
          "text": [
            "Eigenvalores: [-0.37228132  5.37228132]\n",
            "Eigenvectores:\n",
            " [[-0.82456484 -0.41597356]\n",
            " [ 0.56576746 -0.90937671]]\n"
          ]
        }
      ]
    },
    {
      "cell_type": "markdown",
      "source": [
        "# 3. Funciones Estadísticas\n",
        "NumPy ofrece una amplia gama de funciones estadísticas para trabajar con datos."
      ],
      "metadata": {
        "id": "wyPLJspv9QNB"
      }
    },
    {
      "cell_type": "markdown",
      "source": [
        "***¿Qué conceptos de estadística conoces?*** ⁉ ✋"
      ],
      "metadata": {
        "id": "cAcwsMe39fXe"
      }
    },
    {
      "cell_type": "code",
      "source": [
        "data = np.array([25,23,50,28,30,21,25,43,26,44,29,24])"
      ],
      "metadata": {
        "id": "y2TCr1WimHUG"
      },
      "execution_count": null,
      "outputs": []
    },
    {
      "cell_type": "code",
      "source": [
        "# Media y mediana\n",
        "print(\"Media:\", np.mean(data))\n",
        "print(\"Mediana:\", np.median(data))"
      ],
      "metadata": {
        "id": "dISXugLw9Pds",
        "colab": {
          "base_uri": "https://localhost:8080/"
        },
        "outputId": "b85ef050-0763-4ead-9216-7d97b9051cc0"
      },
      "execution_count": null,
      "outputs": [
        {
          "output_type": "stream",
          "name": "stdout",
          "text": [
            "Media: 36.916666666666664\n",
            "Mediana: 28.5\n"
          ]
        }
      ]
    },
    {
      "cell_type": "code",
      "source": [
        "# Máximo y mínimo\n",
        "print(\"Máximo:\", np.max(data))\n",
        "print(\"Mínimo:\", np.min(data))"
      ],
      "metadata": {
        "id": "Jl4ETQ0R9aoJ",
        "colab": {
          "base_uri": "https://localhost:8080/"
        },
        "outputId": "adc1b1a3-9ec2-413b-bb6f-1c6167d31a7c"
      },
      "execution_count": null,
      "outputs": [
        {
          "output_type": "stream",
          "name": "stdout",
          "text": [
            "Máximo: 50\n",
            "Mínimo: 21\n"
          ]
        }
      ]
    },
    {
      "cell_type": "code",
      "source": [
        "# Desviación estándar y varianza\n",
        "print(\"Desviación estándar:\", np.std(data))\n",
        "print(\"Varianza:\", np.var(data))"
      ],
      "metadata": {
        "id": "LLiuGD079XSm",
        "colab": {
          "base_uri": "https://localhost:8080/"
        },
        "outputId": "274895e2-cfcf-4a3e-a24b-4c573fe76298"
      },
      "execution_count": null,
      "outputs": [
        {
          "output_type": "stream",
          "name": "stdout",
          "text": [
            "Desviación estándar: 9.11348207632821\n",
            "Varianza: 83.05555555555556\n"
          ]
        }
      ]
    },
    {
      "cell_type": "markdown",
      "source": [
        "# Matriz Enmascarada (Masked Array)\n",
        "Una matriz enmascarada es una matriz que incluye una máscara que indica si un valor debe ser considerado válido o no. Esto es útil en situaciones donde algunos datos pueden ser incorrectos o faltantes. En NumPy, esto se maneja con numpy.ma donde ma significa \"masked array\"."
      ],
      "metadata": {
        "id": "o4XxYZjq2ayP"
      }
    },
    {
      "cell_type": "code",
      "source": [
        "masked_array = np.ma.array([1, 2, 3, 4], mask=[0, 1, 0, 1])\n",
        "masked_array"
      ],
      "metadata": {
        "colab": {
          "base_uri": "https://localhost:8080/"
        },
        "id": "KO7EPtQSoIJR",
        "outputId": "fa802c6f-fe9b-454d-91bc-a052ff688902"
      },
      "execution_count": null,
      "outputs": [
        {
          "output_type": "execute_result",
          "data": {
            "text/plain": [
              "masked_array(data=[1, --, 3, --],\n",
              "             mask=[False,  True, False,  True],\n",
              "       fill_value=999999)"
            ]
          },
          "metadata": {},
          "execution_count": 53
        }
      ]
    },
    {
      "cell_type": "code",
      "source": [
        "# Crear una matriz enmascarada\n",
        "masked_array = np.ma.array([1, 2, 3, 4], mask=[0, 1, 0, 1])\n",
        "print(\"Matriz enmascarada:\", masked_array)\n",
        "print(\"Datos de la matriz:\", masked_array.data)\n",
        "print(\"Máscara de la matriz:\", masked_array.mask)\n"
      ],
      "metadata": {
        "colab": {
          "base_uri": "https://localhost:8080/"
        },
        "id": "VaXBZWFT2duw",
        "outputId": "2a124cf1-796a-4e6e-be7b-aa3178513b68"
      },
      "execution_count": null,
      "outputs": [
        {
          "output_type": "stream",
          "name": "stdout",
          "text": [
            "Matriz enmascarada: [1 -- 3 --]\n",
            "Datos de la matriz: [1 2 3 4]\n",
            "Máscara de la matriz: [False  True False  True]\n"
          ]
        }
      ]
    },
    {
      "cell_type": "markdown",
      "source": [
        "***¿Para qué podría ser útil una matriz enmascarada?*** ⁉ ✋"
      ],
      "metadata": {
        "id": "fU2DPGOj73ZQ"
      }
    },
    {
      "cell_type": "code",
      "source": [
        "a"
      ],
      "metadata": {
        "id": "zBFjvcSx2lKi",
        "colab": {
          "base_uri": "https://localhost:8080/"
        },
        "outputId": "1a90bd85-eba6-40f2-d753-d4ed5f36a44b"
      },
      "execution_count": null,
      "outputs": [
        {
          "output_type": "execute_result",
          "data": {
            "text/plain": [
              "array([1, 2, 3])"
            ]
          },
          "metadata": {},
          "execution_count": 56
        }
      ]
    },
    {
      "cell_type": "markdown",
      "source": [
        "La **indexación** y el **rebanado** en NumPy son muy poderosos y permiten acceder y modificar partes de los arrays."
      ],
      "metadata": {
        "id": "u2mJmnpT0FvC"
      }
    },
    {
      "cell_type": "code",
      "source": [
        "# Acceder a elementos individuales\n",
        "print(\"Primer elemento de 'a':\", a[0])\n",
        "print(\"Último elemento de 'a':\", a[-1])\n",
        "\n",
        "# Rebanar un array\n",
        "sub_array = a[1:4]\n",
        "print(\"Sub-array desde el índice 1 al 3:\", sub_array)\n"
      ],
      "metadata": {
        "id": "BpUTfvh_z4xK",
        "colab": {
          "base_uri": "https://localhost:8080/"
        },
        "outputId": "d360dad5-33ed-4776-a863-2e0b2baca8ff"
      },
      "execution_count": null,
      "outputs": [
        {
          "output_type": "stream",
          "name": "stdout",
          "text": [
            "Primer elemento de 'a': 1\n",
            "Último elemento de 'a': 3\n",
            "Sub-array desde el índice 1 al 3: [2 3]\n"
          ]
        }
      ]
    }
  ]
}