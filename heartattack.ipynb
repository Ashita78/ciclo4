{
  "nbformat": 4,
  "nbformat_minor": 0,
  "metadata": {
    "colab": {
      "private_outputs": true,
      "provenance": [],
      "include_colab_link": true
    },
    "kernelspec": {
      "name": "python3",
      "display_name": "Python 3"
    },
    "language_info": {
      "name": "python"
    }
  },
  "cells": [
    {
      "cell_type": "markdown",
      "metadata": {
        "id": "view-in-github",
        "colab_type": "text"
      },
      "source": [
        "<a href=\"https://colab.research.google.com/github/Ashita78/ciclo4/blob/main/heartattack.ipynb\" target=\"_parent\"><img src=\"https://colab.research.google.com/assets/colab-badge.svg\" alt=\"Open In Colab\"/></a>"
      ]
    },
    {
      "cell_type": "markdown",
      "source": [
        "https://www.kaggle.com/datasets/waqi786/heart-attack-dataset\n",
        "De este dataset se tomo la información\n"
      ],
      "metadata": {
        "id": "CdJEjol4wJ0P"
      }
    },
    {
      "cell_type": "code",
      "execution_count": null,
      "metadata": {
        "id": "CicRH_T_QEzN"
      },
      "outputs": [],
      "source": [
        "import pandas as pd\n",
        "import numpy as np\n",
        "import matplotlib.pyplot as plt\n",
        "%matplotlib inline\n",
        "import os"
      ]
    },
    {
      "cell_type": "code",
      "source": [
        "from google.colab import drive\n",
        "drive.mount('/content/drive/',force_remount=True)"
      ],
      "metadata": {
        "id": "XyFNX3t0z2vI"
      },
      "execution_count": null,
      "outputs": []
    },
    {
      "cell_type": "code",
      "source": [
        "#ADVERTENCIA: Comentar esta celda si NO está trabajando dentro de Google Colaboratory\n",
        "from google.colab import drive\n",
        "drive.mount('/content/drive/',force_remount=True)\n",
        "os.getcwd()\n",
        "os.chdir(\"/content/drive/MyDrive/Notebooks Inteligencia artificial/\")\n"
      ],
      "metadata": {
        "id": "gaiPqzwvHBdB"
      },
      "execution_count": null,
      "outputs": []
    },
    {
      "cell_type": "markdown",
      "source": [
        "Caso de estudio :¿Que patrones existen entre los ataques del corazón y diferentes factores como estilo de vida e historia médica?\n"
      ],
      "metadata": {
        "id": "UtQRSBxTU2p0"
      }
    },
    {
      "cell_type": "markdown",
      "source": [
        "Objetivos: Al finalizar este caso\n",
        "- Se comprendra la influencia de los diferentes factores en los ataques del corazón.\n",
        "-Se mostrarán diferentes gráficos usando plotly"
      ],
      "metadata": {
        "id": "RkVoE4sHVUGx"
      }
    },
    {
      "cell_type": "markdown",
      "source": [
        "Se pasa a leer la base de datos heart attack sacada de Kaggle"
      ],
      "metadata": {
        "id": "Rilwtpe22b5h"
      }
    },
    {
      "cell_type": "code",
      "source": [
        "# Leer el archivo CSV\n",
        "df = pd.read_csv('heart_attack_dataset.csv',encoding='latin1')\n",
        "\n",
        "# Se muestran las primeras 4 filas del DataFrame para saber de que se trata el dataset\n",
        "print(df.head())"
      ],
      "metadata": {
        "id": "gsaqVy3VoUbl"
      },
      "execution_count": null,
      "outputs": []
    },
    {
      "cell_type": "code",
      "source": [
        "# Verificar si la columna 'tratamiento' existe en el DataFrame\n",
        "if 'treatment' in df.columns:\n",
        "    print(\"La columna 'treatment' existe en el DataFrame.\")\n",
        "\n",
        "    # Identificar los tipos de tratamiento\n",
        "    tipos_de_tratamiento = df['treatment'].unique()\n",
        "    print(\"Tipos de tratamiento en el dataset:\", tipos_de_tratamiento)\n",
        "    print(\"Número de tipos de tratamiento:\", len(tipos_de_tratamiento))\n",
        "else:\n",
        "    print(\"La columna 'tratamiento' no se encuentra en el DataFrame.\")"
      ],
      "metadata": {
        "id": "FnybgBXTvbeV"
      },
      "execution_count": null,
      "outputs": []
    },
    {
      "cell_type": "code",
      "source": [
        "# Obtener estadísticas descriptivas para todas las variables numéricas\n",
        "summary_stats = df.describe()\n",
        "print(summary_stats)"
      ],
      "metadata": {
        "id": "JQY81m3ZHyXQ",
        "collapsed": true
      },
      "execution_count": null,
      "outputs": []
    },
    {
      "cell_type": "markdown",
      "source": [
        "En este código, se utiliza el método .sum() para contar cuántas veces aparece cada valor en la columna “género”. Esto nos dará la cantidad total de hombres y mujeres en el conjunto de datos."
      ],
      "metadata": {
        "id": "qYocjcdlPA2F"
      }
    },
    {
      "cell_type": "code",
      "source": [
        "# Cuenta la cantidad de hombres y mujeres\n",
        "con_hombres = (df[\"Gender\"] == \"Male\").sum()\n",
        "con_mujeres = (df[\"Gender\"] == \"Female\").sum()\n",
        "\n",
        "print(f\"Cantidad de Hombres: {con_hombres}\")\n",
        "print(f\"Cantidad de Mujeres: {con_mujeres}\")"
      ],
      "metadata": {
        "id": "RVVr3B0CNXk2"
      },
      "execution_count": null,
      "outputs": []
    },
    {
      "cell_type": "markdown",
      "source": [
        "Hacer consultas query"
      ],
      "metadata": {
        "id": "7a9TVT3cf8Zc"
      }
    },
    {
      "cell_type": "code",
      "source": [],
      "metadata": {
        "id": "xqB2iyeq41-c"
      },
      "execution_count": null,
      "outputs": []
    },
    {
      "cell_type": "code",
      "source": [
        "import csv\n",
        "\n",
        "# Ruta al archivo CSV\n",
        "# archivo_csv = '../yo/Grupo 2/heart_attack_dataset.csv'\n",
        "\n",
        "# Inicializamos contadores\n",
        "LifestyleChanges = 0\n",
        "Angioplasty = 0\n",
        "\n",
        "#with open(archivo_csv, encoding='latin1') as fichero_csv:\n",
        "    #lector = csv.reader(fichero_csv)\n",
        "    # Saltamos la primera línea (encabezados)\n",
        "    #next(lector)\n",
        "\n",
        "    # Recorremos las filas del archivo\n",
        "    for column in lector:\n",
        "        # La primera columna está en la posición 0\n",
        "        valor_genero = column[7]\n",
        "\n",
        "        if valor_genero.lower() == 'lifestyle changes':\n",
        "            LifestyleChanges += 1\n",
        "        elif valor_genero.lower() == 'angioplasty':\n",
        "            Angioplasty += 1\n",
        "\n",
        "\n",
        "\n",
        "print(f\"Hay {LifestyleChanges} registros 'lifestyle changes' y {Angioplasty} registros 'angioplasty'.\")\n"
      ],
      "metadata": {
        "id": "nRzK-PjlX8F4"
      },
      "execution_count": null,
      "outputs": []
    }
  ]
}