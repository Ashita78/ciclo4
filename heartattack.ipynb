{
  "nbformat": 4,
  "nbformat_minor": 0,
  "metadata": {
    "colab": {
      "private_outputs": true,
      "provenance": [],
      "include_colab_link": true
    },
    "kernelspec": {
      "name": "python3",
      "display_name": "Python 3"
    },
    "language_info": {
      "name": "python"
    }
  },
  "cells": [
    {
      "cell_type": "markdown",
      "metadata": {
        "id": "view-in-github",
        "colab_type": "text"
      },
      "source": [
        "<a href=\"https://colab.research.google.com/github/Ashita78/ciclo4/blob/main/heartattack.ipynb\" target=\"_parent\"><img src=\"https://colab.research.google.com/assets/colab-badge.svg\" alt=\"Open In Colab\"/></a>"
      ]
    },
    {
      "cell_type": "markdown",
      "source": [
        "Presentado por : Juan David Bolivar\n",
        "                 Yaneth Patricia Montaña"
      ],
      "metadata": {
        "id": "O-JEELqFct0U"
      }
    },
    {
      "cell_type": "markdown",
      "source": [
        "#                                          ❤️ Heart Attack Risk Factors Dataset"
      ],
      "metadata": {
        "id": "j4DuJZM3IxUU"
      }
    },
    {
      "cell_type": "markdown",
      "source": [
        "**Propósitos**: Proyectar factores de riesgo de corazón teniendo en cuenta\n",
        "diferentes factores como estilos de vida, colesterol, Presión arterial, Genero\n",
        "\n"
      ],
      "metadata": {
        "id": "0E1TODhFM_RN"
      }
    },
    {
      "cell_type": "markdown",
      "source": [
        "**Objetivos: **Al finalizar este caso se mostrara la influencia de  diferentes factores en los ataques del corazón.\n",
        "Se mostrarán diferentes gráficos usando plotly y otras librerias"
      ],
      "metadata": {
        "id": "7CsP5-ucbTVj"
      }
    },
    {
      "cell_type": "markdown",
      "source": [
        "Se mostrará también diferentes tipos de diagramas para buscar información especifica del dataset."
      ],
      "metadata": {
        "id": "7zC5OR1WOySH"
      }
    },
    {
      "cell_type": "markdown",
      "source": [
        "Justificación\n",
        "\n",
        "-Identificar tempranamente a individuos en riesgo.\n",
        "-Desarrollar estrategias de prevención personalizadas.\n",
        "-Optimizar la asignación de recursos sanitarios.\n",
        "-Reducir la carga económica asociada a enfermedades cardíacas.\n",
        "-Mejorar la calidad de vida de la población.\n"
      ],
      "metadata": {
        "id": "IKNQa4UiN_G2"
      }
    },
    {
      "cell_type": "markdown",
      "source": [
        "Contexto analítico: Se utilizan datos en formato CSV sobre factores de riesgo del corazón utilizando este dataset https://www.kaggle.com/datasets/waqi786/heart-attack-dataset"
      ],
      "metadata": {
        "id": "lIPtj0rRPb3n"
      }
    },
    {
      "cell_type": "markdown",
      "source": [
        "Se pasa a importar algunas librerias para hacer los gráficos"
      ],
      "metadata": {
        "id": "5TJm6jBJTmJN"
      }
    },
    {
      "cell_type": "code",
      "execution_count": null,
      "metadata": {
        "id": "CicRH_T_QEzN"
      },
      "outputs": [],
      "source": [
        "import pandas as pd\n",
        "import numpy as np\n",
        "import matplotlib.pyplot as plt\n",
        "%matplotlib inline\n",
        "import os"
      ]
    },
    {
      "cell_type": "code",
      "source": [
        "#from google.colab import drive\n",
        "#drive.mount('/content/drive/',force_remount=True)"
      ],
      "metadata": {
        "id": "XyFNX3t0z2vI"
      },
      "execution_count": null,
      "outputs": []
    },
    {
      "cell_type": "code",
      "source": [
        "#ADVERTENCIA: Comentar esta celda si NO está trabajando dentro de Google Colaboratory\n",
        "from google.colab import drive\n",
        "drive.mount('/content/drive/',force_remount=True)\n",
        "os.getcwd()\n",
        "os.chdir(\"/content/drive/MyDrive/Notebooks Inteligencia artificial/\")\n"
      ],
      "metadata": {
        "id": "gaiPqzwvHBdB"
      },
      "execution_count": null,
      "outputs": []
    },
    {
      "cell_type": "code",
      "source": [
        "#os.chdir(\"/content/drive/MyDrive/Notebooks Inteligencia artificial/\")"
      ],
      "metadata": {
        "id": "PFLxcxck1ekY"
      },
      "execution_count": null,
      "outputs": []
    },
    {
      "cell_type": "markdown",
      "source": [
        "#                                              **Primeros pasos con el código**"
      ],
      "metadata": {
        "id": "jpiu_Y0Ma_h2"
      }
    },
    {
      "cell_type": "markdown",
      "source": [
        "Caso de estudio :¿Que patrones existen entre los ataques del corazón y diferentes factores como presión Blood pressure, Cholesterol, Smoking Status, chest Pain type?\n"
      ],
      "metadata": {
        "id": "UtQRSBxTU2p0"
      }
    },
    {
      "cell_type": "markdown",
      "source": [
        "Las columnas de las tablas son:\n",
        "\n",
        "\n",
        "Gender.\n",
        "Age,\n",
        "Blood pressure,\n",
        "Cholesterol,\n",
        "Has diabetes,\n",
        "Smoking Status,\n",
        "Chest pain test,\n",
        "Treatment,\n",
        "\n",
        "\n",
        "Género, Edad, Presión Arterial, Colesterol, Si tiene diabetes, Estado del fumador: en el pasado, actual, fue fumador, Tipos de dolores de pecho y  Tratamiento."
      ],
      "metadata": {
        "id": "RkVoE4sHVUGx"
      }
    },
    {
      "cell_type": "markdown",
      "source": [
        "-Gender: Male, female\n",
        "- Blood pressure :\n",
        "-Cholesterol: mg/dl = (miligramos por decilitros)\n",
        "-Has diabetes : Yes or not\n",
        "-Smoking status : frequency never,current, former\n",
        "- Chest Pain type: tipo de dolor en el pecho como: Typical Angina,Atypical Angina, Non-Anginal Pain, Aysmptomatic.\n",
        "(Angina Típica,Angina Atípica,Dolor No Anginoso, Asintomático)\n",
        "\n",
        "- Treatment: Lifestyle changes, Angioplasty,Medication.\n",
        "\n",
        "\n",
        "\n",
        "\n",
        "Fuente: https://www.kaggle.com/datasets/waqi786/heart-attack-dataset"
      ],
      "metadata": {
        "id": "Zld4-6LQd6Qi"
      }
    },
    {
      "cell_type": "markdown",
      "source": [
        "**Angina Típica** (Typical Angina): Se refiere a un tipo de dolor en el pecho que generalmente se desencadena por el esfuerzo físico o el estrés emocional. Es característico de la enfermedad coronaria y suele mejorar con el reposo o la nitroglicerina.\n",
        "\n",
        "**Angina Atípica**(Atypical Angina): Este término se utiliza para describir síntomas de dolor en el pecho que no cumplen completamente con los criterios de la angina típica. Puede manifestarse de diferentes maneras y no siempre está relacionado con el esfuerzo físico. Ejemplos de síntomas Molestia que se siente como rigidez, opresión, compresión, aplastamiento, ardor, asfixia o dolores\n",
        "-Molestia que ocurre en reposo y no desaparece fácilmente al tomar un medicamento,dificultad para respirar\n",
        "\n",
        "**Dolor No Anginoso** (Non-Anginal Pain): Se refiere al dolor en el pecho que no está relacionado con problemas cardíacos. Puede deberse a otras causas, como problemas musculoesqueléticos, digestivos o respiratorios.\n",
        "\n",
        "\n",
        "**Asintomático** (Asymptomatic): En este caso, no hay síntomas evidentes de dolor en el pecho. Las personas asintomáticas pueden tener enfermedad cardíaca sin experimentar molestias."
      ],
      "metadata": {
        "id": "dt0HKO21Mjv1"
      }
    },
    {
      "cell_type": "markdown",
      "source": [
        "**Tratamientos** :\n",
        "Angiosplastia, se trata en dilatar una arteria o vena estrecha u obstruida para restaurar el flujo sanguíneo."
      ],
      "metadata": {
        "id": "MAYxJC8gOgzw"
      }
    },
    {
      "cell_type": "markdown",
      "source": [
        "Se pasa a cargar y  leer la base de datos heart attack sacada de Kaggle con un Dataframe ya que esta estructura nos permite identificar el tipo de datos que tiene el df y una distribución de los datos."
      ],
      "metadata": {
        "id": "Rilwtpe22b5h"
      }
    },
    {
      "cell_type": "code",
      "source": [
        "import pandas as pd\n"
      ],
      "metadata": {
        "id": "NJzTbEAM2X59"
      },
      "execution_count": null,
      "outputs": []
    },
    {
      "cell_type": "code",
      "source": [
        "# Se lee el archivo CSV\n",
        "df = pd.read_csv('heart_attack_dataset.csv',encoding='latin1')\n",
        "\n",
        "# Se muestran las primeras 4 filas del DataFrame para saber de que se trata el dataset y se muestran los 8 columnas de las que consta el dataset\n",
        "print(df.head())"
      ],
      "metadata": {
        "id": "gsaqVy3VoUbl"
      },
      "execution_count": null,
      "outputs": []
    },
    {
      "cell_type": "markdown",
      "source": [
        "De acuerdo a lo anterior se puede ver que hay ocho columnas"
      ],
      "metadata": {
        "id": "QCGf-uKiiyj1"
      }
    },
    {
      "cell_type": "code",
      "source": [
        "# Inicializa las variables\n",
        "Lifestyle_Changes = 0\n",
        "Angioplasty = 0\n",
        "Coronary_Artery_Bypass_Graft_CABG = 0\n",
        "Medication = 0\n",
        "\n",
        "# Supongamos que valor_genero es una entrada del usuario\n",
        "valor_genero = input(\"Ingresa el valor de género: \")\n",
        "\n",
        "# Evalúa las opciones\n",
        "if valor_genero.lower() == 'lifestyle changes':\n",
        "    Lifestyle_Changes += 1\n",
        "elif valor_genero.lower() == 'angioplasty':\n",
        "    Angioplasty += 1\n",
        "elif valor_genero.lower() == 'coronary artery bypass graft (cabg)':\n",
        "    Coronary_Artery_Bypass_Graft_CABG += 1\n",
        "elif valor_genero.lower() == 'medication':\n",
        "    Medication += 1\n",
        "\n",
        "# Imprime los resultados\n",
        "print(f\"{Lifestyle_Changes} registros 'Lifestyle Changes'.\")\n",
        "print(f\"{Angioplasty} registros 'Angioplasty'.\")\n",
        "print(f\"{Coronary_Artery_Bypass_Graft_CABG} registros 'Coronary Artery Bypass Graft (CABG)'\")\n",
        "print(f\"{Medication} registros 'Medication'.\")"
      ],
      "metadata": {
        "id": "IP5U3Zea9-Mi",
        "collapsed": true
      },
      "execution_count": null,
      "outputs": []
    },
    {
      "cell_type": "markdown",
      "source": [
        "El usuario con este código puede averiguar toda la información que tiene una determinada columna."
      ],
      "metadata": {
        "id": "oCBkDlCz-Tge"
      }
    },
    {
      "cell_type": "markdown",
      "source": [
        "Aqui se ve la numeración de las filas\n",
        ",Nombre de las columnas\n",
        ",El número de no-nulos de cada columna\n",
        "Y el uso de memoria ram"
      ],
      "metadata": {
        "id": "oHPnQpcIturk"
      }
    },
    {
      "cell_type": "code",
      "source": [
        "print(df.info())"
      ],
      "metadata": {
        "id": "wkx1XSm6tRNx"
      },
      "execution_count": null,
      "outputs": []
    },
    {
      "cell_type": "markdown",
      "source": [
        "En esta tabla se puede ver que el dataset contiene 1000 filas y ocho columnas\n",
        "Tres columnas son de tipo int64 (números enteros): “Age”, “Blood Pressure (mmHg)” y “Cholesterol (mg/dL)”.\n",
        "\n",
        "Cinco columnas son de tipo object que se refiere a cadenas de texto, “Gender”, “Has Diabetes”, “Smoking Status”, “Chest Pain Type” y “Treatment”.\n",
        "\n",
        "La columna “Gender” contiene valores no nulos para todas las filas (1000 no nulos al iguales que las otras columnas. Lo que significa que todos los datos que contiene el dataset son válidos.\n",
        "\n",
        "\n"
      ],
      "metadata": {
        "id": "_Fhm2rvDX3KF"
      }
    },
    {
      "cell_type": "markdown",
      "source": [
        "Si tuvieramos valores nulos podriamos eliminarlos usando la formula df.isnull().sum()"
      ],
      "metadata": {
        "id": "wLfEgIABZAvi"
      }
    },
    {
      "cell_type": "code",
      "source": [
        "df.isnull().sum()"
      ],
      "metadata": {
        "id": "kyETsPhbWv49"
      },
      "execution_count": null,
      "outputs": []
    },
    {
      "cell_type": "markdown",
      "source": [
        "Para eliminar los valores null usamos la forma isnull y sum , al revisar se puede identificar que no hay valores nulos lo que significa que todos los datos son válidos.   "
      ],
      "metadata": {
        "id": "WH3BNl8iXJqO"
      }
    },
    {
      "cell_type": "markdown",
      "source": [
        "**Cantidad de hombres y mujeres**"
      ],
      "metadata": {
        "id": "pSKnrdlH9Do5"
      }
    },
    {
      "cell_type": "code",
      "source": [
        "# Cuenta la cantidad de hombres y mujeres\n",
        "con_hombres = (df[\"Gender\"] == \"Male\").sum()\n",
        "con_mujeres = (df[\"Gender\"] == \"Female\").sum()\n",
        "\n",
        "print(f\"Cantidad de Hombres: {con_hombres}\")\n",
        "print(f\"Cantidad de Mujeres: {con_mujeres}\")"
      ],
      "metadata": {
        "id": "RVVr3B0CNXk2"
      },
      "execution_count": null,
      "outputs": []
    },
    {
      "cell_type": "markdown",
      "source": [
        "Este data set cuenta con 490 hombres y 510 mujeres para el estudio\n"
      ],
      "metadata": {
        "id": "g8k5ZSoIh20z"
      }
    },
    {
      "cell_type": "markdown",
      "source": [
        "En este código, se utiliza el método .sum() para contar cuántas veces aparece cada valor en la columna “género”. Esto nos dará la cantidad total de hombres y mujeres en el conjunto de datos."
      ],
      "metadata": {
        "id": "qYocjcdlPA2F"
      }
    },
    {
      "cell_type": "markdown",
      "source": [
        "**Preprocesamiento de datos para simplificar el análisis en el futuro**\n",
        "\n"
      ],
      "metadata": {
        "id": "Nrz1vrndxJn-"
      }
    },
    {
      "cell_type": "markdown",
      "source": [
        "Cuando se van a analizar los datos nos encontramos con que estos no se encuentran completamente limpios por lo que es necesario realizar diferentes procedimientos para su limpieza y comprensión.\n",
        "\n",
        "Para ello se hace un análisis del dataset y se pasa a verificar si la columna treatment se encuentra en el dataframe o no, en este caso se puede ver que no se encuentra y puede ser debido a diferentes factores\n",
        "a) Hay falta de información\n",
        "b) Pueden tener relación con otras variables\n",
        "c) Faltan datos sobre los riesgos de ataques en el corazón como pasa en el presente estudio.\n",
        "\n",
        "Para lidiar con estos problemas se puede hacer una eliminación de los datos que hagan falta pero esto reduciría el tamaño de los datos y por lo tanto su representación a esta técnica se le llama descarte.\n",
        "\n",
        "O también se puede utilizar el metodo imputación que se hace usando la media o mediana o modelos de aprendizaje automático para predecir los valores que hagan falta."
      ],
      "metadata": {
        "id": "FaHZfjmKklQg"
      }
    },
    {
      "cell_type": "code",
      "source": [
        "# Verificar si la columna 'treatment' existe en el DataFrame\n",
        "if 'treatment' in df.columns:\n",
        "    print(\"La columna 'treatment' existe en el DataFrame.\")\n",
        "\n",
        "    # Identificar los tipos de tratamiento\n",
        "    tipos_de_tratamiento = df['treatment'].unique()\n",
        "    print(\"Tipos de tratamiento en el dataset:\", tipos_de_tratamiento)\n",
        "    print(\"Número de tipos de tratamiento:\", len(tipos_de_tratamiento))\n",
        "else:\n",
        "    print(\"La columna 'tratamiento' no se encuentra en el DataFrame.\")"
      ],
      "metadata": {
        "id": "Uud6Jm31kTul"
      },
      "execution_count": null,
      "outputs": []
    },
    {
      "cell_type": "code",
      "source": [
        "# Obtener estadísticas descriptivas para todas las variables numéricas\n",
        "summary_stats = df.describe()\n",
        "print(summary_stats)"
      ],
      "metadata": {
        "id": "JQY81m3ZHyXQ",
        "collapsed": true
      },
      "execution_count": null,
      "outputs": []
    },
    {
      "cell_type": "markdown",
      "source": [
        "**En esta tabla se muestran tres variables de salud: Edad, presióna arterial, y colesterol que se mide en mg/dl aquí se pueden identificar algunos datos. **\n",
        "bold text\n",
        "De acuerdo a lo anterior se puede identificar que la presión anterior de las personas del dataset es en promedio de 145.44 de presión sistólica lo que significa que la presión está alta ya que los valores promedio normal es de  120,elevada entre 120 y 129 y alta una presión de más de 130.\n",
        "\n",
        "De acuerdo a lo anterior se puede identificar que la presión anterior de las personas del dataset es en promedio de 145.44 lo que significa que la presión está alta.\n",
        "\n",
        "Con respecto al colesterol la media está en 223.789 lo que significa que está alto, ya que lo recomendado es que el valor total del colesterol esté en menos de 200 mg/dL\n",
        "\n",
        "A su vez se ve que el valor minimo de la presión arterial está en 94 mmG\n",
        "y la máxima alcanzó 200.\n",
        "\n"
      ],
      "metadata": {
        "id": "7LmQ9sHyZq_t"
      }
    },
    {
      "cell_type": "markdown",
      "source": [
        "-La tabla también muestra en count que hay 1000 observaciones en forma de filas\n",
        "- En la segunda fila hablan sobre la media que para la edad es de 60.338, en la presión arterial es de 145.440 y la media del colesterol 223.789\n",
        "\n",
        "- En STD se refiere a la desviación estándar que se encarga de medir la dispersión o variabilidad de los datos en la primera columna la desviación estándar es aproximadamente 17.317496, en la segunda columna, la desviación estándar es aproximadamente 31.756525,en la tercera columna, la desviación estándar es aproximadamente 42.787817.\n",
        "\n",
        "- Min (Mínimo): El valor mínimo en cada columna representa el valor más pequeño presente en los datos. Por ejemplo:\n",
        "En la primera columna, el valor mínimo es 30.\n",
        "En la segunda columna, el valor mínimo es 90.\n",
        "En la tercera columna, el valor mínimo es 150.\n",
        "\n",
        "25%, 50% (Mediana), 75% (Percentiles)\n",
        "Estos valores representan los percentiles.\n",
        "La mediana (50%) divide los datos en dos partes iguales.\n",
        "Por ejemplo:\n",
        "El 25% de los datos en la primera columna es menor o igual a 45.\n",
        "La mediana en la segunda columna es 146.\n",
        "El 75% de los datos en la tercera columna es menor o igual a 259.\n",
        "\n",
        "-\n",
        "\n",
        "\n",
        "Max (Máximo): El valor máximo en cada columna es el valor más grande presente en los datos. Por ejemplo:\n",
        "En la primera columna, el valor máximo es 89.\n",
        "En la segunda columna, el valor máximo es 199.\n",
        "En la tercera columna, el valor máximo es 299.\n",
        "En resumen, estas estadísticas proporcionan una visión general de la distribución y características de los datos en cada columna.\n",
        "\n",
        "\n",
        "\n",
        "\n",
        "\n"
      ],
      "metadata": {
        "id": "1AnT1QCalgkF"
      }
    },
    {
      "cell_type": "markdown",
      "source": [
        "**Promedios por generos**"
      ],
      "metadata": {
        "id": "pvqyPd2pToez"
      }
    },
    {
      "cell_type": "markdown",
      "source": [
        "**Promedio de colesterol en el genero masculino y femenino**"
      ],
      "metadata": {
        "id": "-ImGob2moPxn"
      }
    },
    {
      "cell_type": "code",
      "source": [
        "import pandas as pd\n",
        "\n",
        "# Hago un DataFrame llamado 'df'\n",
        "# Se filtran pacientes masculinos\n",
        "df_masculinos = df[df['Gender'] == 'Male']\n",
        "\n",
        "# Calcular el promedio del colesterol para pacientes masculinos\n",
        "promedio_colesterol_masculinos = df_masculinos['Cholesterol (mg/dL)'].mean()\n",
        "\n",
        "print(f\"El promedio del colesterol para pacientes masculinos es: {promedio_colesterol_masculinos:.2f} mg/dL\")\n"
      ],
      "metadata": {
        "id": "bPo8XMpzMvLT"
      },
      "execution_count": null,
      "outputs": []
    },
    {
      "cell_type": "code",
      "source": [
        "# Filtrar los datos para pacientes femeninos\n",
        "df_femeninos = df[df['Gender'] == 'Female']\n",
        "\n",
        "# Calcular el promedio del colesterol para pacientes masculinos\n",
        "promedio_colesterol_femeninos = df_femeninos['Cholesterol (mg/dL)'].mean()\n",
        "\n",
        "print(f\"El promedio del colesterol para pacientes femeninos es: {promedio_colesterol_femeninos:.2f} mg/dL\")"
      ],
      "metadata": {
        "id": "kxXyPoDjTyrl"
      },
      "execution_count": null,
      "outputs": []
    },
    {
      "cell_type": "markdown",
      "source": [
        "**Gráfico de barras del promedio del colesterol del genero femenino y masculino**"
      ],
      "metadata": {
        "id": "pgs6Yvn3KKHN"
      }
    },
    {
      "cell_type": "code",
      "source": [
        "import matplotlib.pyplot as plt\n",
        "\n",
        "# Datos\n",
        "categorias = ['Masculino', 'Femenino']\n",
        "promedios_colesterol = [225.04, 222.58]\n",
        "\n",
        "# Crear el gráfico de barras\n",
        "plt.bar(categorias, promedios_colesterol, color=['blue', 'pink'])\n",
        "plt.xlabel('Género')\n",
        "plt.ylabel('Promedio de Colesterol (mg/dL)')\n",
        "plt.title('Promedio de Colesterol por Género')\n",
        "\n",
        "# Mostrar el gráfico\n",
        "plt.show()"
      ],
      "metadata": {
        "id": "Yawdbst9KTh2"
      },
      "execution_count": null,
      "outputs": []
    },
    {
      "cell_type": "markdown",
      "source": [
        "En este gráfico de barras se puede ver que los promedios de colesterol del genero femenino y masculino son muy similares, se diferencian en 2.46 mg/dL.\n",
        "EL hombre tiene 225.04 y la mujer 222.58, esto quiere decir que el nivel de colesterol del hombre está un poco más elevado."
      ],
      "metadata": {
        "id": "4XxsWZ6rLPef"
      }
    },
    {
      "cell_type": "markdown",
      "source": [
        "**Frecuencia del estado de tabaquismo**"
      ],
      "metadata": {
        "id": "w8qOiB5a-xbl"
      }
    },
    {
      "cell_type": "code",
      "source": [
        "df = pd.read_csv('heart_attack_dataset.csv',encoding='latin1')\n",
        "import pandas as pd\n",
        "# Obtenemos las categorías únicas en la columna \"Smoking Status\"\n",
        "categorias_tabaquismo = df['Smoking Status'].unique()\n",
        "\n",
        "print(\"Categorías de estado de tabaquismo:\")\n",
        "print(categorias_tabaquismo)\n"
      ],
      "metadata": {
        "id": "KQFET8xonY2F"
      },
      "execution_count": null,
      "outputs": []
    },
    {
      "cell_type": "markdown",
      "source": [
        "**Nivel de tabaquismo en hombres y mujeres y frecuencias**"
      ],
      "metadata": {
        "id": "nrIJgUwNociG"
      }
    },
    {
      "cell_type": "code",
      "source": [
        "# Se hace el recuento de cada categoría en la columna \"Smoking Status\"\n",
        "recuento_tabaquismo = df['Smoking Status'].value_counts()\n",
        "\n",
        "print(\"Recuento de cada categoría de estado de tabaquismo:\")\n",
        "print(recuento_tabaquismo)"
      ],
      "metadata": {
        "id": "Ug0TT79bn775"
      },
      "execution_count": null,
      "outputs": []
    },
    {
      "cell_type": "markdown",
      "source": [
        "De acuerdo a lo anterior podemos ver que los valores de las personas que nunca, actualmente y antes fumaban fue similar, las que nunca fuman se diferencian en 26 personas. Y tan solo entre fumadores actuales y en el pasado solo de 2 personas."
      ],
      "metadata": {
        "id": "c-wXB0t5kGdH"
      }
    },
    {
      "cell_type": "markdown",
      "source": [
        "**Frecuencia del Tabaquismo**"
      ],
      "metadata": {
        "id": "51_cu3rkjLpP"
      }
    },
    {
      "cell_type": "code",
      "source": [
        "import matplotlib.pyplot as plt\n",
        "\n",
        "# Datos\n",
        "categorias = ['Never', 'Current', 'Former']\n",
        "frecuencia = [352, 325, 323]\n",
        "\n",
        "# Crear el gráfico de barras\n",
        "plt.bar(categorias, frecuencia, color=['green', 'orange', 'red'])\n",
        "plt.xlabel('Categoría de Tabaquismo')\n",
        "plt.ylabel('Frecuencia')\n",
        "plt.title('Frecuencia del Tabaquismo')\n",
        "\n",
        "# Mostrar el gráfico\n",
        "plt.show()"
      ],
      "metadata": {
        "id": "AJIiCyYKgJZq"
      },
      "execution_count": null,
      "outputs": []
    },
    {
      "cell_type": "code",
      "source": [
        "# Filtramos las filas correspondientes al género femenino\n",
        "mujeres_fumadoras_actuales = df[df['Gender'] == 'Female']['Smoking Status'].value_counts().get(\"Current\", 0)\n",
        "\n",
        "print(f\"La cantidad de mujeres que fuman actualmente es: {mujeres_fumadoras_actuales}\")\n"
      ],
      "metadata": {
        "id": "dnc5p5wClKfR"
      },
      "execution_count": null,
      "outputs": []
    },
    {
      "cell_type": "code",
      "source": [
        " #Filtramos las filas correspondientes al género masculino\n",
        "hombres_fumadores_actuales = df[df['Gender'] == 'Male']['Smoking Status'].value_counts().get(\"Current\", 0)\n",
        "\n",
        "print(f\"La cantidad de hombres que fuman actualmente es: {hombres_fumadores_actuales}\")\n"
      ],
      "metadata": {
        "id": "Z9umEtD2tunP"
      },
      "execution_count": null,
      "outputs": []
    },
    {
      "cell_type": "markdown",
      "source": [
        "Mirando lo anterior las mujeres en este fuman más que los hombres"
      ],
      "metadata": {
        "id": "vZvWlZ2Lw7Kq"
      }
    },
    {
      "cell_type": "code",
      "source": [
        "# Datos\n",
        "categorias = ['Hombres', 'Mujeres']\n",
        "cantidad_fumadores = [152, 173]\n",
        "\n",
        "# Crear el gráfico de barras\n",
        "plt.bar(categorias, cantidad_fumadores, color=['blue', 'pink'])\n",
        "plt.xlabel('Género')\n",
        "plt.ylabel('Cantidad de Fumadores Actuales')\n",
        "plt.title('Comparación de la Cantidad de Hombres y Mujeres que Fuman Actualmente')\n",
        "\n",
        "# Mostrar el gráfico\n",
        "plt.show()"
      ],
      "metadata": {
        "id": "Fx5O-OQ0aEyE"
      },
      "execution_count": null,
      "outputs": []
    },
    {
      "cell_type": "markdown",
      "source": [
        "Las mujeres que fuman enfrentan un  mayor riesgo cardiovascular en comparación con los hombres fumadores.\n",
        "Un estudio del British Medical Journal concluyó que las fumadoras tienen un 25% más de probabilidades de sufrir un infarto que los hombres fumadores .\n",
        "\n",
        "Para ver más del estudio se puede ir más en detalle en este link\n",
        "https://fundaciondelcorazon.com/blog-impulso-vital/2288-tabaco-mas-perjudicial-en-la-mujer-.html\n",
        "\n",
        "Además, el tabaco aumenta sufrir enfermedades cardíacas y accidentes cerebrovasculares (derrames) entre dos y cuatro veces .\n",
        "Impacto en la Incidencia de Ataques Cardíacos:\n",
        "El tabaquismo está directamente relacionado con la incidencia de ataques cardíacos (infartos).\n",
        "Las mujeres que fuman tienen un riesgo mayor de sufrir un infarto en comparación con las no fumadoras.\n",
        "\n"
      ],
      "metadata": {
        "id": "G94uhazf0tZO"
      }
    },
    {
      "cell_type": "markdown",
      "source": [
        "**Tipos de tratamientos**"
      ],
      "metadata": {
        "id": "_lVjWc7Brkf0"
      }
    },
    {
      "cell_type": "markdown",
      "source": [
        "El método .unique() en programación se utiliza para obtener los valores únicos de una colección de datos, como una lista, un arreglo o una columna en un DataFrame"
      ],
      "metadata": {
        "id": "TgOlPdgDsDQb"
      }
    },
    {
      "cell_type": "code",
      "source": [
        "# Se muestran  los tipos de tratamientos únicos\n",
        "tipos_de_tratamiento = df['Treatment'].unique()\n",
        "\n",
        "# Imprime los tipos de tratamientos\n",
        "print(\"Tipos de tratamientos disponibles:\")\n",
        "for tratamiento in tipos_de_tratamiento:\n",
        "    print(tratamiento)\n"
      ],
      "metadata": {
        "id": "zF8caJ6in5nW"
      },
      "execution_count": null,
      "outputs": []
    },
    {
      "cell_type": "code",
      "source": [
        "# Calculamos la frecuencia de cada tipo de tratamiento\n",
        "frecuencia_tratamientos = df['Treatment'].value_counts()\n",
        "\n",
        "# Imprimimos los resultados\n",
        "print(\"Frecuencia de los tipos de tratamientos:\")\n",
        "for tratamiento, cantidad in frecuencia_tratamientos.items():\n",
        "    print(f\"{tratamiento}: {cantidad}\")\n"
      ],
      "metadata": {
        "id": "u_UDhXrdpona"
      },
      "execution_count": null,
      "outputs": []
    },
    {
      "cell_type": "markdown",
      "source": [
        "Esto permite identificar que el tipo de tratamiento más recomendado es de Lifestyle Changes"
      ],
      "metadata": {
        "id": "770Td5UNrswv"
      }
    },
    {
      "cell_type": "code",
      "source": [
        "import matplotlib.pyplot as plt\n",
        "\n",
        "# Calculamos la frecuencia de cada tipo de tratamiento\n",
        "frecuencia_tratamientos = df['Treatment'].value_counts()\n",
        "\n",
        "# Creamos el gráfico de barras\n",
        "plt.figure(figsize=(10, 6))  # Tamaño de la figura\n",
        "plt.bar(frecuencia_tratamientos.index, frecuencia_tratamientos.values, color='skyblue')\n",
        "plt.xlabel('Tipos de Tratamiento')\n",
        "plt.ylabel('Frecuencia')\n",
        "plt.title('Frecuencia de Tipos de Tratamientos')\n",
        "plt.xticks(rotation=45)  # Rotamos las etiquetas del eje x para mayor legibilidad\n",
        "\n",
        "# Mostramos el gráfico\n",
        "plt.tight_layout()\n",
        "plt.show()"
      ],
      "metadata": {
        "id": "Kp2YhjPzs50x"
      },
      "execution_count": null,
      "outputs": []
    },
    {
      "cell_type": "markdown",
      "source": [
        "**Angioplasty**"
      ],
      "metadata": {
        "id": "6MMGHitOYrII"
      }
    },
    {
      "cell_type": "code",
      "source": [
        "# Filtramos las filas correspondientes al tratamiento \"Lifestyle Changes\" y género masculino\n",
        "tratamiento_lifestyle_hombres = df[(df['Treatment'] == 'Angioplasty') & (df['Gender'] == 'Male')]\n",
        "\n",
        "# Contamos cuántos pacientes masculinos han recibido este tratamiento\n",
        "cantidad_hombres_lifestyle = len(tratamiento_lifestyle_hombres)\n",
        "\n",
        "print(f\"La cantidad de hombres que han recibido el tratamiento 'Angioplasty' es: {cantidad_hombres_lifestyle}\")\n",
        "\n"
      ],
      "metadata": {
        "id": "hUls97MlYf1q"
      },
      "execution_count": null,
      "outputs": []
    },
    {
      "cell_type": "code",
      "source": [
        "tratamiento_lifestyle_hombres = df[(df['Treatment'] == 'Angioplasty') & (df['Gender'] == 'Female')]\n",
        "cantidad_hombres_lifestyle = len(tratamiento_lifestyle_hombres)\n",
        "\n",
        "print(f\"La cantidad de mujeres que han recibido el tratamiento 'Angioplasty' es: {cantidad_hombres_lifestyle}\")\n"
      ],
      "metadata": {
        "id": "Ox4jKVjyXQz6"
      },
      "execution_count": null,
      "outputs": []
    },
    {
      "cell_type": "markdown",
      "source": [
        "De acuerdo a esto más mujeres han recibido el tratamiento de Angioplasty"
      ],
      "metadata": {
        "id": "5HTE1XObbTaR"
      }
    },
    {
      "cell_type": "markdown",
      "source": [
        "**Lifestyle**"
      ],
      "metadata": {
        "id": "HnViYZgmY0qA"
      }
    },
    {
      "cell_type": "code",
      "source": [
        "tratamiento_lifestyle_mujeres = df[(df['Treatment'] == 'Lifestyle Changes') & (df['Gender'] == 'Female')]\n",
        "cantidad_mujeres_lifestyle = len(tratamiento_lifestyle_mujeres)\n",
        "\n",
        "print(f\"La cantidad de mujeres que han recibido el tratamiento 'Lifestyle' es: {cantidad_hombres_lifestyle}\")"
      ],
      "metadata": {
        "id": "Bd_sSjGOXQjI"
      },
      "execution_count": null,
      "outputs": []
    },
    {
      "cell_type": "code",
      "source": [
        "# Filtramos las filas correspondientes al tratamiento \"Lifestyle Changes\" y género masculino\n",
        "tratamiento_lifestyle_hombres = df[(df['Treatment'] == 'Lifestyle Changes') & (df['Gender'] == 'Female')]\n",
        "\n",
        "# Contamos cuántos pacientes masculinos han recibido este tratamiento\n",
        "cantidad_hombres_lifestyle = len(tratamiento_lifestyle_hombres)\n",
        "\n",
        "print(f\"La cantidad de hombres que han recibido el tratamiento 'Lifestyle Changes' es: {cantidad_hombres_lifestyle}\")"
      ],
      "metadata": {
        "id": "lxW9ltncYG7D"
      },
      "execution_count": null,
      "outputs": []
    },
    {
      "cell_type": "markdown",
      "source": [
        "De acuerdo a lo anterior más hombres han recibido el tratamiento de lifestyle"
      ],
      "metadata": {
        "id": "1frNXkAgb70G"
      }
    },
    {
      "cell_type": "markdown",
      "source": [
        "**Coronary Artery**"
      ],
      "metadata": {
        "id": "xoSRMHvqZoxD"
      }
    },
    {
      "cell_type": "code",
      "source": [
        "tratamiento_coronary_Artery_mujeres = df[(df['Treatment'] == 'Coronary Artery Bypass Graft (CABG)') & (df['Gender'] == 'Female')]\n",
        "cantidad_mujeres_tratamiento_coronary = len(tratamiento_coronary_Artery_mujeres)\n",
        "\n",
        "print(f\"La cantidad de mujeres que han recibido el tratamiento 'Coronary Artery Bypass Graft (CABG)' es: {cantidad_hombres_lifestyle}\")"
      ],
      "metadata": {
        "id": "1dyM0TkVZOtN"
      },
      "execution_count": null,
      "outputs": []
    },
    {
      "cell_type": "code",
      "source": [
        "tratamiento_coronary_hombres = df[(df['Treatment'] == 'Coronary Artery Bypass Graft (CABG)') & (df['Gender'] == 'Male')]\n",
        "cantidad_hombres_coronary = len(tratamiento_coronary_hombres)\n",
        "\n",
        "print(f\"La cantidad de hombres que han recibido el tratamiento 'Coronary Artery Bypass Graft (CABG)' es: {cantidad_hombres_coronary}\")"
      ],
      "metadata": {
        "id": "4gtiaedMZnD1"
      },
      "execution_count": null,
      "outputs": []
    },
    {
      "cell_type": "markdown",
      "source": [
        "De acuerdo a lo anterior los hombres han recibido más tratamiento del Coronary Artery Bypass"
      ],
      "metadata": {
        "id": "LmGDq3eRcF6n"
      }
    },
    {
      "cell_type": "markdown",
      "source": [
        "**Medication**"
      ],
      "metadata": {
        "id": "wmTmksZSaaMJ"
      }
    },
    {
      "cell_type": "code",
      "source": [
        "tratamiento_medication_mujeres = df[(df['Treatment'] == 'Medication') & (df['Gender'] == 'Female')]\n",
        "cantidad_mujeres_medication = len(tratamiento_medication_mujeres)\n",
        "\n",
        "print(f\"La cantidad de mujeres que han recibido el tratamiento 'Medication' es: {cantidad_mujeres_medication}\")"
      ],
      "metadata": {
        "id": "LpDKQI6KahYe"
      },
      "execution_count": null,
      "outputs": []
    },
    {
      "cell_type": "code",
      "source": [
        "tratamiento_medication_hombres = df[(df['Treatment'] == 'Medication') & (df['Gender'] == 'Male')]\n",
        "cantidad_hombres_medication = len(tratamiento_medication_hombres)\n",
        "\n",
        "print(f\"La cantidad de hombres que han recibido el tratamiento 'Medicacion' es: {cantidad_hombres_medication}\")"
      ],
      "metadata": {
        "id": "wspVH_OeavSD"
      },
      "execution_count": null,
      "outputs": []
    },
    {
      "cell_type": "markdown",
      "source": [
        "De acuerdo a lo anterior hay más mujeres recibiendo medicación que los hombres"
      ],
      "metadata": {
        "id": "TOXJcvmJcRxi"
      }
    },
    {
      "cell_type": "markdown",
      "source": [
        "**DIAGRAMAS DE DISPERSIÓN**"
      ],
      "metadata": {
        "id": "iBqMUW2RzJN5"
      }
    },
    {
      "cell_type": "markdown",
      "source": [
        "**Relación entre dos variables**"
      ],
      "metadata": {
        "id": "SxlEwLF7xGqX"
      }
    },
    {
      "cell_type": "markdown",
      "source": [
        "Para hacer la relación entre dos variables se usan un diagrama de dispersión en 2D que permite visualizar los datos. En el eje **X** se va a colocar la Age y en el **Y** el Chest Pain Type."
      ],
      "metadata": {
        "id": "qUQfHYC0-Yye"
      }
    },
    {
      "cell_type": "markdown",
      "source": [
        "**Age y su relación con el dolor de pecho**"
      ],
      "metadata": {
        "id": "_lsLYTv8qMuL"
      }
    },
    {
      "cell_type": "code",
      "source": [
        "import pandas as pd\n",
        "import matplotlib.pyplot as plt\n",
        "\n",
        "# Carga el conjunto de datos\n",
        "data = pd.read_csv(\"heart_attack_dataset.csv\")\n",
        "\n",
        "# Se extrae las columnas Age y Chest pain Type\n",
        "age = data[\"Age\"]\n",
        "chest_pain_type = data[\"Chest Pain Type\"]\n",
        "\n",
        "#  Se crea el gráfico de dispersión\n",
        "plt.figure(figsize=(8, 6))  # Tamaño opcional para ajustar la figura\n",
        "plt.scatter(age, chest_pain_type, alpha=0.6, c=\"blue\", marker=\"o\", label=\"Datos\")\n",
        "\n",
        "#  Se personaliza el gráfico\n",
        "plt.title(\"Diagrama de Dispersión: Edad vs. Tipo de Dolor en el Pecho\")\n",
        "plt.xlabel(\"Edad\")\n",
        "plt.ylabel(\"Tipo de Dolor en el Pecho\")\n",
        "plt.grid(True)\n",
        "plt.legend()\n",
        "\n",
        "# Muestra el gráfico\n",
        "plt.show()\n"
      ],
      "metadata": {
        "id": "oeu36rKJfIBU"
      },
      "execution_count": null,
      "outputs": []
    },
    {
      "cell_type": "markdown",
      "source": [
        " **Explicación**\n",
        " **-En el Eje x horizontal se muestra la variable (Edad)**, esta es una representación de la  edad de las personas en años que va desde los 20 hasta los 90 años.\n",
        "\n",
        "- En el eje y vertical se muestra el (Tipo de Dolor en el Pecho)\n",
        "- Esta variable tiene cuatro categorías:\n",
        "**Asintomático (Asymptomatic**): Representado en la parte superior del gráfico.\n",
        "**Dolor no anginoso (Non-anginal Pain) **bold text** : En el medio.\n",
        "**Angina atípica (Atypical Angina)**       : Un poco más abajo.\n",
        "**Angina típica (Typical Angina)** : En la parte inferior.\n",
        "\n",
        "\n",
        "**Puntos en el Gráfico:** Los puntos azules dispersos en el gráfico representan los datos, cada punto pertenece a un individuo.** La posición vertical** d**el punto indica el tipo de dolor en el pecho** que experimenta esa persona, mientras que **la posición horizontal muestra su edad**.\n",
        "\n",
        "\n",
        "**Interpretación:**\n",
        "**Si se observa una concentración de puntos en una región específica, significa que hay una relación entre la edad y el tipo de dolor en el pecho**. Por ejemplo, ¿ Se ve cómo **los puntos “Typical Angina”** tienden a estar en la parte inferior del gráfico? Esto sugiere que las personas mayores pueden experimentar más angina típica.\n",
        "\n",
        "\n",
        "También se puede notar que los puntos **“Asymptomatic”** están dispersos en toda la gama de edades, lo que indica que este tipo de dolor no está fuertemente relacionado con la edad.\n",
        "\n",
        "En resumen, este gráfico muestra cómo varía el tipo de dolor en el pecho en función de la edad. Es una herramienta útil para visualizar patrones y tendencias en datos médicos.\n",
        "\n",
        "\n",
        "**Más detalles **\n",
        "\n",
        "-**Asintomático (Asymptomatic)**: Estos puntos están en la parte superior del gráfico. Significa que las personas de diferentes edades pueden experimentar dolor en el pecho sin síntomas específicos. En otras palabras, no sienten dolor o malestar en el pecho de manera evidente.\n",
        "\n",
        "\n",
        "-**Dolor no anginoso (Non-anginal Pain)**: Estos puntos están en el medio del gráfico. Indican que hay una relación moderada entre la edad y este tipo de dolor en el pecho. Las personas más jóvenes y mayores pueden experimentar este tipo de dolor, pero no es tan común como el asintomático.\n",
        "\n",
        "\n",
        "**Angina atípica (Atypical Angina)**: Estos puntos están un poco más abajo. Sugiere que este tipo de dolor en el pecho está más relacionado con la edad. Es más común en personas de ciertas edades específicas. La posición más baja indica que las personas mayores pueden experimentar más angina atípica.\n",
        "\n",
        "**Angina típica (Typical Angina):** Estos puntos están en la parte inferior del gráfico. Esto significa que la angina típica está fuertemente relacionada con la edad. Es más común en personas mayores.\n",
        "\n",
        "En resumen, la disposición vertical de los puntos muestra cómo varía la prevalencia de diferentes tipos de dolor en el pecho según la edad. Los puntos más arriba o abajo indican la frecuencia relativa de cada tipo de dolor en diferentes grupos de edad.\n",
        "\n"
      ],
      "metadata": {
        "id": "N-j_qQ0zg9zd"
      }
    },
    {
      "cell_type": "markdown",
      "source": [
        "**Relación entre la edad y la diabetes**"
      ],
      "metadata": {
        "id": "ygXUFleytxyo"
      }
    },
    {
      "cell_type": "code",
      "source": [
        "import pandas as pd\n",
        "import matplotlib.pyplot as plt\n",
        "\n",
        "# Carga el conjunto de datos (asegúrate de tener el archivo heart_attack_dataset.csv en la misma carpeta)\n",
        "data = pd.read_csv(\"heart_attack_dataset.csv\")\n",
        "\n",
        "# Extrae las columnas Age y Has Diabetes\n",
        "age = data[\"Age\"]\n",
        "has_diabetes = data[\"Has Diabetes\"]\n",
        "\n",
        "# Crea el gráfico de dispersión\n",
        "plt.figure(figsize=(8, 6))  # Tamaño opcional para ajustar la figura\n",
        "plt.scatter(age, has_diabetes, alpha=0.6, c=\"orange\", marker=\"o\", label=\"Datos\")\n",
        "\n",
        "# Personalización del gráfico\n",
        "plt.title(\"Diagrama de Dispersión: Edad vs. Presencia de Diabetes\")\n",
        "plt.xlabel(\"Edad\")\n",
        "plt.ylabel(\"Tiene Diabetes\")\n",
        "plt.grid(True)\n",
        "plt.legend()\n",
        "\n",
        "# Muestra el gráfico\n",
        "plt.show()\n"
      ],
      "metadata": {
        "id": "ePQ9HjPOtdPL"
      },
      "execution_count": null,
      "outputs": []
    },
    {
      "cell_type": "markdown",
      "source": [
        "- En el Eje x posición horizontal se encuentra la Edad, se tiene la variable “Edad”. Esta representa la edad de las personas en años. Que van desde 30 hasta 90 años.\n",
        "\n",
        "Eje y ejer vertical se habla de si tienen Diabetes o no : En el eje vertical ( y esta variable categórica  tiene dos posibles valores:\n",
        "“Yes”: Representado en la parte superior del gráfico. Indica que la persona tiene diabetes.\n",
        "\n",
        "“No”: Representado en la parte inferior del gráfico. Indica que la persona no tiene diabetes.\n",
        "\n",
        "\n",
        "**Puntos en el Gráfico:** Los puntos naranjas dispersos en el gráfico representan los datos. Cada punto corresponde a un individuo. La posición vertical del punto indica si esa persona tiene o no diabetes, mientras que la posición horizontal muestra su edad.\n",
        "\n",
        "**Interpretación:**\n",
        "Al observar una concentración de puntos en una región específica, significa que hay una relación entre la edad y la presencia de diabetes. Por ejemplo, ¿ Se ve cómo hay más puntos **“Yes” (diabetes) **en la parte superior del gráfico? Esto sugiere que las personas mayores pueden tener una mayor probabilidad de tener diabetes.\n",
        "\n",
        "También se puede notar que los puntos** “No” (sin diabetes)** están dispersos en toda la gama de edades, lo que indica que la presencia de diabetes no está fuertemente relacionada con la edad."
      ],
      "metadata": {
        "id": "03eYwfNRt89g"
      }
    },
    {
      "cell_type": "code",
      "source": [
        "import pandas as pd\n",
        "import matplotlib.pyplot as plt\n",
        "\n",
        "# Cargar el conjunto de datos\n",
        "heart_attack_df = pd.read_csv(\"heart_attack_dataset.csv\")\n",
        "\n",
        "# Crear el diagrama de dispersión\n",
        "plt.figure(figsize=(10, 6))\n",
        "plt.scatter(heart_attack_df[\"Age\"], heart_attack_df[\"Treatment\"], alpha=0.6)\n",
        "\n",
        "# Etiquetas y título\n",
        "plt.xlabel(\"Edad\")\n",
        "plt.ylabel(\"Tratamiento\")\n",
        "plt.title(\"Diagrama de Dispersión: Edad vs. Tratamiento\")\n",
        "\n",
        "# Mostrar el gráfico\n",
        "plt.show()\n"
      ],
      "metadata": {
        "id": "VljAz9H4wKdt"
      },
      "execution_count": null,
      "outputs": []
    },
    {
      "cell_type": "markdown",
      "source": [
        "**Coronary Artery Bypass Graft (CABG):**\n",
        "- Los puntos azules en la línea correspondiente a CABG representan pacientes que recibieron este tratamiento.\n",
        "- Se observa que los pacientes que se sometieron a CABG están distribuidos en un rango amplio de edades, desde alrededor de 30 hasta 90 años.\n",
        "No parece haber una preferencia clara por una edad específica para este tratamiento.\n",
        "\n",
        "- **Medicación (Medication):**\n",
        "En el gráfico de dispersión, parece haber espacios en blanco o falta de puntos en la línea correspondiente a la medicación.\n",
        "Esto podría deberse a varias razones:\n",
        "**Falta de datos**: Es posible que no haya suficientes datos disponibles para pacientes que recibieron medicación en el conjunto de datos. Si la muestra es pequeña o si no se recopilaron suficientes datos para esta categoría, veríamos espacios vacíos en el gráfico.\n",
        "**Omisión intencional**: A veces, los datos pueden omitirse intencionalmente debido a la privacidad del paciente o a la falta de información completa en los registros médicos.\n",
        "**Características específicas**: También podría ser que la medicación se administre solo a un subconjunto específico de pacientes (por ejemplo, aquellos con ciertas afecciones médicas) y, por lo tanto, no se vea representada en todas las edades.\n",
        "\n",
        "\n",
        "\n",
        "**Angioplastia:**\n",
        "Los puntos azules en la línea de angioplastia representan pacientes que recibieron este tratamiento.\n",
        "Al igual que con CABG, los pacientes que se sometieron a angioplastia también están distribuidos en un rango amplio de edades.\n",
        "No hay una tendencia evidente hacia una edad particular para la angioplastia.\n",
        "\n",
        "**Cambios en el estilo de vida:**\n",
        "Los puntos azules en la línea de cambios en el estilo de vida representan pacientes que recibieron este tipo de tratamiento.\n",
        "Nuevamente, vemos que los pacientes que optaron por cambios en el estilo de vida abarcan diferentes edades.\n",
        "No hay una concentración significativa en una franja etaria específica para este tratamiento.\n",
        "\n",
        "En resumen, el gráfico muestra que los tres tratamientos (CABG, angioplastia y cambios en el estilo de vida) se aplican a pacientes de diversas edades sin una preferencia clara hacia una categoría específica. Esto sugiere que la elección del tratamiento no está fuertemente influenciada por la edad.\n",
        "\n",
        "\n"
      ],
      "metadata": {
        "id": "mcHPAeng2yuh"
      }
    },
    {
      "cell_type": "markdown",
      "source": [
        "**Edad y presión arterial comparación**"
      ],
      "metadata": {
        "id": "InlyY6OOgzpM"
      }
    },
    {
      "cell_type": "code",
      "source": [
        "# Carga el conjunto de datos (asegúrate de tener el archivo heart_attack_dataset.csv en la misma carpeta)\n",
        "data = pd.read_csv(\"heart_attack_dataset.csv\")\n",
        "\n",
        "# Extrae las columnas Age y Has Diabetes\n",
        "age = data[\"Age\"]\n",
        "has_diabetes = data[\"Has Diabetes\"]\n",
        "\n",
        "# Crea el gráfico de dispersión\n",
        "plt.figure(figsize=(8, 6))  # Tamaño opcional para ajustar la figura\n",
        "plt.scatter(age, has_diabetes, alpha=0.6, c=\"orange\", marker=\"o\", label=\"Datos\")\n",
        "\n",
        "# Personalización del gráfico\n",
        "plt.title(\"Diagrama de Dispersión: Edad vs. Presión Arterial\")\n",
        "plt.xlabel(\"Edad\")\n",
        "plt.ylabel(\"Tiene Diabetes\")\n",
        "plt.grid(True)\n",
        "plt.legend()"
      ],
      "metadata": {
        "id": "buK6cBUmhEej"
      },
      "execution_count": null,
      "outputs": []
    },
    {
      "cell_type": "markdown",
      "source": [
        "**Edad y Presión Arterial**"
      ],
      "metadata": {
        "id": "4gZOZuaiixmA"
      }
    },
    {
      "cell_type": "markdown",
      "source": [
        "Scatter Plot"
      ],
      "metadata": {
        "id": "Hv8D3djXrGKo"
      }
    },
    {
      "cell_type": "code",
      "source": [
        "import pandas as pd\n",
        "import matplotlib.pyplot as plt\n",
        "\n",
        "# Carga el conjunto de datos\n",
        "df = pd.read_csv(\"heart_attack_dataset.csv\")\n",
        "\n",
        "# EDA: Exploración de datos\n",
        "print(df.head())  # Muestra las primeras filas del DataFrame\n",
        "\n",
        "# Visualización de la relación entre Edad y Presión Arterial\n",
        "plt.figure(figsize=(8, 6))\n",
        "plt.scatter(df['Age'], df['Blood Pressure (mmHg)'], alpha=0.5)  # Reemplaza 'Presion Arterial' con 'Blood Pressure (mmHg)'\n",
        "plt.xlabel('Edad')\n",
        "plt.ylabel('Presión Arterial (mmHg)')\n",
        "plt.title('Relación entre Edad y Presión Arterial')\n",
        "plt.grid(True)\n",
        "plt.show()\n"
      ],
      "metadata": {
        "id": "dtJR_6yzp8U6"
      },
      "execution_count": null,
      "outputs": []
    },
    {
      "cell_type": "markdown",
      "source": [
        "**Explicación**\n",
        "\n",
        "**Ejes del Gráfico:**\n",
        "Eje X (Horizontal): Representa la edad (Age) de los individuos. Los valores en este eje van desde aproximadamente 20 hasta 90 años.\n",
        "Eje Y (Vertical): Representa la presión arterial (Blood Pressure) en milímetros de mercurio (mmHg). Los valores en este eje van desde aproximadamente 80 hasta 200 mmHg.\n",
        "\n",
        "\n",
        "**Puntos de Datos en el Gráfico:**\n",
        "Cada punto en el gráfico representa una medición de presión arterial tomada en diferentes edades.\n",
        "La dispersión de los puntos muestra cómo varía la presión arterial en función de la edad.\n",
        "Si los puntos están agrupados o siguen una tendencia específica, podríamos inferir una relación entre la edad y la presión arterial."
      ],
      "metadata": {
        "id": "G_rCHWkVqM4s"
      }
    },
    {
      "cell_type": "markdown",
      "source": [
        "Tendencias en el gráfico\n",
        "\n",
        "A continuación se pueden evidenciar diferentes tendencias.\n",
        "\n",
        "**1- Tendencia General:**\n",
        "Se puede ver que a medida que la edad aumenta, hay un aumento en la presión arterial.\n",
        "También se puede ver que la mayoría de los puntos tienden a agruparse en la parte superior del gráfico, lo que sugiere que las personas mayores tienden a tener una presión arterial más alta.\n",
        "\n",
        "**Variabilidad:**\n",
        "A pesar de la tendencia general, hay mucha variabilidad en la presión arterial a todas las edades.\n",
        "\n",
        "\n",
        "Algunas personas jóvenes también tienen presión arterial alta, y algunas personas mayores tienen presión arterial baja.\n",
        "\n",
        "**Outliers**\n",
        "Hay algunos puntos aislados que están lejos de la tendencia principal. Estos podrían ser valores atípicos o casos excepcionales.\n",
        "\n",
        "\n",
        "**Correlación Positiva:**\n",
        "En general, parece haber una correlación positiva entre la edad y la presión arterial. Esto significa que a medida que la edad aumenta, la presión arterial tiende a aumentar."
      ],
      "metadata": {
        "id": "6DoXvVGYsvs2"
      }
    },
    {
      "cell_type": "markdown",
      "source": [
        "Este gráfico muestra los datos de forma más dispersa sin haacer agrupación de los mismos."
      ],
      "metadata": {
        "id": "9YFq2EyFuxlO"
      }
    },
    {
      "cell_type": "markdown",
      "source": [
        "**Gráficos interactivos con el paquete Plotly**"
      ],
      "metadata": {
        "id": "Gd1QU-yX5S9A"
      }
    },
    {
      "cell_type": "markdown",
      "source": [
        "Los gráficos anteriores tienen una limitación por ser gráficos planos por lo que para tener una mejor visión de los datos se utiliza el paquete plotly"
      ],
      "metadata": {
        "id": "n7UfHD-38mjI"
      }
    },
    {
      "cell_type": "code",
      "source": [
        "pip install plotly\n"
      ],
      "metadata": {
        "id": "F8eh-bC97-pp"
      },
      "execution_count": null,
      "outputs": []
    },
    {
      "cell_type": "code",
      "source": [
        "import plotly.express as px\n",
        "import pandas as pd\n",
        "\n",
        "# Cargar el conjunto de datos\n",
        "heart_attack_df = pd.read_csv(\"heart_attack_dataset.csv\")\n",
        "\n",
        "# Crear el gráfico interactivo\n",
        "fig = px.scatter(heart_attack_df, x=\"Age\", y=\"Chest Pain Type\", color=\"Chest Pain Type\",\n",
        "                 title=\"Diagrama de Dispersión Interactivo: Edad vs. Tipo de Dolor en el Pecho\")\n",
        "\n",
        "# Personalizar el gráfico (opcional)\n",
        "fig.update_xaxes(title_text=\"Edad\")\n",
        "fig.update_yaxes(title_text=\"Tipo de Dolor en el Pecho\")\n",
        "\n",
        "# Mostrar el gráfico interactivo\n",
        "fig.show()\n"
      ],
      "metadata": {
        "id": "Mpz9tSKk90WJ"
      },
      "execution_count": null,
      "outputs": []
    },
    {
      "cell_type": "code",
      "source": [
        "import plotly.express as px\n",
        "import pandas as pd\n",
        "\n",
        "# Cargar el conjunto de datos (asegúrate de tener el archivo heart_attack_dataset.csv en la misma carpeta)\n",
        "data = pd.read_csv(\"heart_attack_dataset.csv\")\n",
        "\n",
        "# Crear el gráfico interactivo\n",
        "fig = px.scatter(data, x=\"Age\", y=\"Has Diabetes\", color=\"Has Diabetes\",\n",
        "                 title=\"Diagrama de Dispersión Interactivo: Edad vs. Presencia de Diabetes\")\n",
        "\n",
        "# Personalizar el gráfico (opcional)\n",
        "fig.update_xaxes(title_text=\"Edad\")\n",
        "fig.update_yaxes(title_text=\"Tiene Diabetes\")\n",
        "\n",
        "# Mostrar el gráfico interactivo\n",
        "fig.show()\n"
      ],
      "metadata": {
        "id": "-OtecMmm-wEB"
      },
      "execution_count": null,
      "outputs": []
    },
    {
      "cell_type": "code",
      "source": [
        "import plotly.express as px\n",
        "import pandas as pd\n",
        "\n",
        "# Cargar el conjunto de datos\n",
        "heart_attack_df = pd.read_csv(\"heart_attack_dataset.csv\")\n",
        "\n",
        "# Crear el gráfico interactivo\n",
        "fig = px.scatter(heart_attack_df, x=\"Age\", y=\"Treatment\", color=\"Treatment\",\n",
        "                 title=\"Diagrama de Dispersión Interactivo: Edad vs. Tratamiento\")\n",
        "\n",
        "# Personalizar el gráfico (opcional)\n",
        "fig.update_xaxes(title_text=\"Edad\")\n",
        "fig.update_yaxes(title_text=\"Tratamiento\")\n",
        "\n",
        "# Mostrar el gráfico interactivo\n",
        "fig.show()\n"
      ],
      "metadata": {
        "id": "A7EFYK7t_3eH"
      },
      "execution_count": null,
      "outputs": []
    },
    {
      "cell_type": "markdown",
      "source": [
        "**Viabilidad de un gráfico de lineas en este dataset**\n",
        "\n",
        "Los gráficos de dispersión permiten visualizar la relación entre dos variables pero no a través del tiempo por lo que se va a utilizar el gráfico de lineas.\n",
        "\n",
        "Un gráfico de lineas permite ver datos de series temporales y permite determinar tendencias o patrones a través del tiempo.\n",
        "\n",
        "Para este dataset no se cuenta con la información de años o fechas especificas por lo que no sería viable usar consultas con SQ O SQLITE\n",
        "\n",
        "\n",
        "Por lo que aqui se puede crear gráficos o visualizaciones, de acuerdo a las  columnas disponibles. Por ejemplo, se podria hacer un gráfico de barras para comparar diferentes grupos o una gráfica de dispersión para explorar relaciones entre variables, como se hizo anteriormente.\n",
        "\n"
      ],
      "metadata": {
        "id": "S0goZJjY-Ro8"
      }
    },
    {
      "cell_type": "markdown",
      "source": [
        "**Análisis sin información temporal**\n",
        "\n",
        "A pesar de no tener registros de fechas en el conjunto de datos, se puede realizar un análisis de distribución para comprender mejor la variabilidad y la forma de las variables, una forma de hacerlo es a través de los histogramas ya que en estos se puede visualizar la distribución de una variable numérica y así identificar patrones, valores atípicos o cualquier sesgo.  \n",
        "\n",
        "Estos valores usualmente se dividen en un rango de valores llamado bins que son\n",
        " agrupaciones poligonales que se crean a partir de un conjunto de datos de entidades de puntos."
      ],
      "metadata": {
        "id": "VrhKGDzXBNRm"
      }
    },
    {
      "cell_type": "markdown",
      "source": [
        "Se encargar de examinar la distribución de las variables y así se puede visualizar cómo se distribuyen los valores y asi se podrá identificar patrones, valores atípicos o sesgos."
      ],
      "metadata": {
        "id": "tI8xGWhVBMzY"
      }
    },
    {
      "cell_type": "code",
      "source": [
        "import pandas as pd\n",
        "\n",
        "# Carga el archivo CSV\n",
        "heart_data = pd.read_csv('heart_attack_dataset.csv')\n",
        "\n"
      ],
      "metadata": {
        "id": "_Pt_PncR1Vee"
      },
      "execution_count": null,
      "outputs": []
    },
    {
      "cell_type": "code",
      "source": [
        "import matplotlib.pyplot as plt\n",
        "\n",
        "plt.figure(figsize=(8, 6))\n",
        "plt.hist(heart_data['Age'], bins=20, color='skyblue', edgecolor='black')\n",
        "plt.xlabel('Edad')\n",
        "plt.ylabel('Frecuencia')\n",
        "plt.title('Distribución de Edades en Ataques Cardíacos')\n",
        "plt.grid(axis='y')\n",
        "plt.show()\n"
      ],
      "metadata": {
        "id": "6Wn6_Old1eS7"
      },
      "execution_count": null,
      "outputs": []
    },
    {
      "cell_type": "markdown",
      "source": [
        "**Descripción del gráfico**\n",
        "\n",
        "Este gráfico muestra la distribución de Edades en Ataques Cardíacos.\n",
        "\n",
        "-Título del Gráfico: “Distribución de Edades en Ataques Cardíacos.”\n",
        "\n",
        "Ejes del Gráfico: -Eje Horizontal (X): Representa las edades, con valores desde 30 hasta 90 años. -Eje Vertical (Y): Muestra la frecuencia de ataques cardíacos, con valores que van de 0 a 60.\n",
        "\n",
        "Barras: Cada barra representa la cantidad de ataques cardíacos en un grupo de edad específico, se muestra que los ataques cardíacos ocurren en un amplio rango de edades y varía su frecuencia de acuerdo a la edad, por lo que se concluye que no hay indicios de una edad específica dominante para los ataques cardíacos.\n",
        "\n",
        "\n",
        "- **Aunque cabe resaltar que dos picos**\n",
        "**1) A los 40  es el pico más alto\n",
        "Esto representa que la frecuencia de ataques cardíacos es mayor en personas de aproximadamente 40 años, esto se podría deber a varios factores, como estilo de vida, predisposición genética o condiciones médicas.\n",
        "\n",
        "**2) A los 70 es el segundo pico**\n",
        "Después de la edad de 40 años, la siguiente barra más alta corresponde a los años 70,esto sugiere que hay un aumento en la frecuencia de ataques cardíacos en personas mayores, alrededor de los 70 años.\n",
        "Es común que las enfermedades cardiovasculares aumenten con la edad, por lo que este segundo pico podría estar relacionado con el envejecimiento y factores de riesgo acumulativos."
      ],
      "metadata": {
        "id": "D_yHP8QlC1xp"
      }
    },
    {
      "cell_type": "markdown",
      "source": [
        "**Análisis de correlación**"
      ],
      "metadata": {
        "id": "uHmmxDGbIWyo"
      }
    },
    {
      "cell_type": "markdown",
      "source": [
        "El análisis de correlación es una técnica estadística que nos permite saber si existe una relación entre dos o más variables.\n"
      ],
      "metadata": {
        "id": "xwZqdX8y__VJ"
      }
    },
    {
      "cell_type": "markdown",
      "source": [
        "\n",
        "**Coeficiente de Correlación de Pearson**\n",
        "\n",
        "El más común y ampliamente utilizado.\n",
        "Varía entre -1 y 1 y un valor de -1 indica una correlación negativa perfecta, 1 indica una correlación positiva perfecta, y 0 significa que no hay correlación lineal.\n",
        "La fórmula para calcularlo es:\n",
        "\n",
        "\n",
        "r = covarianza de las variables\n",
        "\n",
        " $  ≈\\cdot \\sqrt[]{}$\n",
        "    _______________________________________________________________\n",
        "    varianza de la primera variable*varianza de la segunda variable\n"
      ],
      "metadata": {
        "id": "QGa034Eq9wJz"
      }
    },
    {
      "cell_type": "markdown",
      "source": [
        "**Edad vs. Presión arterial**\n",
        "\n",
        "-Se puede analizar la relación entre la edad y los niveles de presión arterial\n",
        "- Se puede revisar si aumentan con la edad\n"
      ],
      "metadata": {
        "id": "RU-48TPc7H_i"
      }
    },
    {
      "cell_type": "code",
      "source": [
        "import pandas as pd\n",
        "import numpy as np\n"
      ],
      "metadata": {
        "id": "y1x03j4zGVxr"
      },
      "execution_count": null,
      "outputs": []
    },
    {
      "cell_type": "code",
      "source": [
        "# Cambia 'ruta_del_archivo.csv' por la ubicación real de tu archivo CSV\n",
        "df = pd.read_csv('heart_attack_dataset.csv')\n"
      ],
      "metadata": {
        "id": "cTD28mW8GVrt"
      },
      "execution_count": null,
      "outputs": []
    },
    {
      "cell_type": "code",
      "source": [
        "# Asumiendo que las columnas se llaman 'Age' y 'BloodPressure'\n",
        "age_column = df['Age']\n",
        "bp_column = df['Blood Pressure (mmHg)']\n"
      ],
      "metadata": {
        "id": "Mt35I92lGbtE"
      },
      "execution_count": null,
      "outputs": []
    },
    {
      "cell_type": "code",
      "source": [
        "correlation_matrix = np.corrcoef(age_column, bp_column)\n",
        "pearson_correlation = correlation_matrix[0, 1]\n",
        "print(f\"Coeficiente de correlación de Pearson: {pearson_correlation:.4f}\")\n"
      ],
      "metadata": {
        "id": "EQ1GP0LYGgHu"
      },
      "execution_count": null,
      "outputs": []
    },
    {
      "cell_type": "markdown",
      "source": [
        "-0.0033 indica una correlación muy cercana a cero entre las variables “Edad” y “Presión Arterial”. En términos prácticos, esto significa que no hay una relación lineal significativa entre la edad de los individuos y sus niveles de presión arterial en ese conjunto de datos específico.\n",
        "\n",
        "En otras palabras, el hecho de que el valor de r sea tan próximo a cero sugiere que los cambios en la edad no están relacionados de manera predecible con los cambios en la presión arterial en esta muestra de datos. No se puede afirmar que la edad tenga un impacto directo en la presión arterial en base a esta correlación.\n",
        "\n",
        "\n",
        "\n"
      ],
      "metadata": {
        "id": "HbB-ZordL51i"
      }
    },
    {
      "cell_type": "markdown",
      "source": [
        "**Correlación entre Age y Cholesterol**"
      ],
      "metadata": {
        "id": "od79Cd4P-r-h"
      }
    },
    {
      "cell_type": "markdown",
      "source": [
        "**Explicación**"
      ],
      "metadata": {
        "id": "EbCBZCybBN_6"
      }
    },
    {
      "cell_type": "markdown",
      "source": [
        "-**Coeficiente de correlación** (Edad vs. Presión Arterial): -0.0033:\n",
        "Este valor cercano a cero sugiere que no hay una relación lineal importante entre la edad y la presión arterial en este conjunto de datos. ( A esto se llama correlación nula ya que no hay correlación significativa de las variables)  **(\"Correlación nula)**\n",
        "\n",
        "Es decir que los cambios en la edad no están relacionados de manera predecible con los cambios en la presión arterial en esta muestra.\n",
        "\n",
        "**-Coeficiente de correlación (Edad vs. Colesterol): 0.0017:**\n",
        " Este valor cercano a cero indica que no hay una correlación lineal fuerte entre la edad y los niveles de colesterol.\n",
        " No hay pruebas que determinen que la edad tenga una influencia grande en el\n",
        " impacto de los niveles del colesterol en bases a esta correlación en los datos.\n",
        "\n",
        "**Coeficiente de correlación (Presión Arterial vs. Colesterol): 0.0443:**\n",
        "Este valor también es cercano a cero, lo que sugiere una correlación débil entre la presión arterial y los niveles de colesterol.\n",
        "( A esta variable se le considera**correlación positiva** aunque un poco débil porque llega casi a cero)\n",
        "\n",
        "En resumen, en este conjunto de datos, la edad, la presión arterial y los niveles de colesterol no parecen estar fuertemente relacionados de manera predecible"
      ],
      "metadata": {
        "id": "WV9JoNt9Au-7"
      }
    },
    {
      "cell_type": "markdown",
      "source": [
        " El valor anterior indica una correlación extremadamente débil entre las variables “Edad” y los niveles de colesterol (“Colesterol (mg/dL)”)"
      ],
      "metadata": {
        "id": "W3G7BL2f4BzG"
      }
    },
    {
      "cell_type": "code",
      "source": [
        "import pandas as pd\n",
        "import numpy as np\n",
        "\n",
        "# Carga el conjunto de datos desde el archivo CSV\n",
        "df = pd.read_csv('heart_attack_dataset.csv')\n",
        "\n",
        "# Selecciona las columnas relevantes\n",
        "blood_pressure_column = df['Blood Pressure (mmHg)']\n",
        "cholesterol_column = df['Cholesterol (mg/dL)']\n",
        "smoking_status_column = df['Smoking Status']\n",
        "\n",
        "# Calcula la matriz de correlación\n",
        "correlation_matrix = np.corrcoef([blood_pressure_column, cholesterol_column])\n",
        "\n",
        "# Coeficientes de correlación\n",
        "pearson_bp_cholesterol = correlation_matrix[0, 1]\n",
        "\n",
        "print(f\"Coeficiente de correlación (Presión Arterial vs. Colesterol): {pearson_bp_cholesterol:.4f}\")\n"
      ],
      "metadata": {
        "id": "ah-u-PDmNGN6"
      },
      "execution_count": null,
      "outputs": []
    },
    {
      "cell_type": "code",
      "source": [
        "# Ver las categorías únicas de tratamiento\n",
        "unique_treatments = df[\"Treatment\"].unique()\n",
        "print(\"Categorías de tratamiento disponibles:\")\n",
        "print(unique_treatments)\n"
      ],
      "metadata": {
        "id": "G6-lh8G-n3Pl"
      },
      "execution_count": null,
      "outputs": []
    },
    {
      "cell_type": "code",
      "source": [
        "import pandas as pd\n",
        "\n",
        "# Se carga el dataset\n",
        "df = pd.read_csv(\"heart_attack_dataset.csv\")\n",
        "\n",
        "#  Se Filtran los datos para cada categoría de tratamiento\n",
        "angioplasty_df = df[df[\"Treatment\"] == \"Angioplastia\"]\n",
        "bypass_df = df[df[\"Treatment\"] == \"Cirugía de Bypass de Arteria Coronaria\"]"
      ],
      "metadata": {
        "id": "cYBZvVDQtjlg"
      },
      "execution_count": null,
      "outputs": []
    },
    {
      "cell_type": "code",
      "source": [
        "# Calcular correlación (usando la edad como indicador indirecto)\n",
        "correlation_angioplasty = angioplasty_df[\"Age\"].corr(angioplasty_df[\"Age\"])\n",
        "correlation_bypass = bypass_df[\"Age\"].corr(bypass_df[\"Age\"])\n",
        "\n",
        "print(f\"Correlación para Angioplastia: {correlation_angioplasty:.3f}\")\n",
        "print(f\"Correlación para Cirugía de Bypass: {correlation_bypass:.3f}\")"
      ],
      "metadata": {
        "id": "n2yi7FE3tq5N"
      },
      "execution_count": null,
      "outputs": []
    },
    {
      "cell_type": "markdown",
      "source": [
        "nan” (Not a Number) Esto significa que no hay suficiente variabilidad o que los datos son insuficientes para calcular una correlación."
      ],
      "metadata": {
        "id": "3RGoB7ukubAh"
      }
    },
    {
      "cell_type": "markdown",
      "source": [
        "**Tipos de correlación**"
      ],
      "metadata": {
        "id": "eqYtlrYFH9Ju"
      }
    },
    {
      "cell_type": "markdown",
      "source": [
        "\n"
      ],
      "metadata": {
        "id": "ZG9dz_Bh14Mh"
      }
    },
    {
      "cell_type": "markdown",
      "source": [
        "\n",
        "\n",
        "\n",
        "\n",
        "\n",
        "**Correlación Positiva:**\n",
        "\n",
        "Cuando dos variables aumentan juntas (por ejemplo, nivel de educación y salario).\n",
        "Si inviertes más en publicidad, las ventas también tienden a aumentar.\n",
        "\n",
        "\n",
        "\n",
        "**Correlación Negativa:**\n",
        "\n",
        "Cuando una variable aumenta mientras la otra disminuye (por ejemplo, horas de estudio y errores en un examen).\n",
        "Si el precio de un producto sube, la cantidad demandada tiende a disminuir.\n",
        "\n",
        "\n",
        "\n",
        "**Correlación Nula:**\n",
        "\n",
        "Cuando no hay una correlación significativa entre dos variables.\n",
        "No implica necesariamente que no haya relación; podría haber una relación no lineal.\n",
        "\n",
        "\n"
      ],
      "metadata": {
        "id": "UWpavVQF8NvP"
      }
    },
    {
      "cell_type": "markdown",
      "source": [
        "**Boxplot**"
      ],
      "metadata": {
        "id": "bKA6FY2DEHaj"
      }
    },
    {
      "cell_type": "markdown",
      "source": [
        "Si se quiere combinar la  visualización para la distribución de los datos con las estadísticas de resumen se puede hacer un diagram de caja o en Inglés llamado box plot que nos permite observar si hay valores extremos importantes y ayuda a revisar si los datos tienen un cambio grande o están sesgados."
      ],
      "metadata": {
        "id": "cYkWW2WFtP3m"
      }
    },
    {
      "cell_type": "markdown",
      "source": [
        "**Boxplot de la Presión Arterial**"
      ],
      "metadata": {
        "id": "gViMMh3zMhVW"
      }
    },
    {
      "cell_type": "code",
      "source": [
        "import pandas as pd\n",
        "import matplotlib.pyplot as plt\n",
        "df = pd.read_csv('heart_attack_dataset.csv')\n",
        "plt.boxplot(df['Blood Pressure (mmHg)'])\n",
        "plt.title('Boxplot de la Presión Arterial')\n",
        "plt.ylabel('Presión Arterial (mmHg)')\n",
        "plt.show()\n"
      ],
      "metadata": {
        "id": "JcpeNMcUE39m"
      },
      "execution_count": null,
      "outputs": []
    },
    {
      "cell_type": "markdown",
      "source": [
        "**Explicación del gráfico Boxplot de la presión arterial**"
      ],
      "metadata": {
        "id": "BuQPZaozQVuX"
      }
    },
    {
      "cell_type": "markdown",
      "source": [
        "El gráfico se titula “Boxplot de la Presión Arterial”. Esto significa que representa la distribución de los valores de presión arterial en un conjunto de datos."
      ],
      "metadata": {
        "id": "ru_lFB-EQPwE"
      }
    },
    {
      "cell_type": "markdown",
      "source": [
        "El Eje Y es la (Presión Arterial que se muestra de forma vertical y  muestra las mediciones de presión arterial en milímetros de mercurio (mmHg). El rango va desde 100 hasta 200 mmHg.\n",
        "\n",
        "**La Caja (Rectángulo)**:\n",
        "Representa el rango intercuartílico (IQR), que contiene el 50% central de los datos.\n",
        "La línea horizontal dentro de la caja es la mediana, que divide el conjunto de datos en dos partes iguales.\n",
        "\n",
        "**Los Bigotes (Whiskers): **\n",
        "Los bigotes se extienden desde la caja hacia los valores mínimo y máximo.\n",
        "Indican la variabilidad fuera de los cuartiles superior e inferior. Son las lineas que salen de las cajas.\n"
      ],
      "metadata": {
        "id": "-E-Nu4z3QyJT"
      }
    },
    {
      "cell_type": "markdown",
      "source": [
        "**Mediana (Q2**): La línea dentro del rectángulo representa la mediana, que es el valor que divide el conjunto de datos en dos partes iguales. En este caso, la mediana de la presión arterial está alrededor de 140 mmHg.(milimetros de mercurio)\n",
        "\n",
        "**Cuartiles (Q1 y Q3**):Se refieren al  rectángulo (la “caja”) abarca desde el primer cuartil (Q1) hasta el tercer cuartil (Q3). El Q1 está alrededor de 120 mmHg, y el Q3 está cerca de 160 mmHg. Esto significa que el 50% central de las mediciones de presión arterial se encuentra dentro de esta caja.\n",
        "\n",
        "\n",
        "**Bigotes (Whiskers)**: Los “bigotes” se extienden desde la caja hacia los valores mínimo y máximo. En este caso, los bigotes indican que la presión arterial varía desde aproximadamente 100 mmHg hasta 180 mmHg.\n",
        "\n",
        "\n",
        "**Valores Atípicos (Outliers)**: Los puntos fuera de los bigotes se consideran valores atípicos. Si ves puntos individuales más allá de los bigotes, son posibles valores extremos o anómalos.\n",
        "\n",
        "\n",
        "En resumen, este gráfico muestra cómo se distribuyen los valores de presión arterial, destacando la mediana y la variabilidad, en el gráfico no se ven puntos es decir que no hay valores extremos."
      ],
      "metadata": {
        "id": "DsgdRs4ANIil"
      }
    },
    {
      "cell_type": "code",
      "source": [
        "# Leer el archivo CSV\n",
        "df = pd.read_csv('heart_attack_dataset.csv',encoding='latin1')"
      ],
      "metadata": {
        "id": "m2aCETRAMS8E"
      },
      "execution_count": null,
      "outputs": []
    },
    {
      "cell_type": "markdown",
      "source": [
        "**Conversión de datos a números**"
      ],
      "metadata": {
        "id": "lFON0JpPj6Xv"
      }
    },
    {
      "cell_type": "markdown",
      "source": [
        "Antes de hacer el bloxplot es importante convertir los datos a números"
      ],
      "metadata": {
        "id": "1XZPA_vKZg-n"
      }
    },
    {
      "cell_type": "markdown",
      "source": [
        "Vamos a verificar si los datos en la columna “Treatment” del dataset “heart_attack_dataset.csv” son categóricos o numéricos. Para ello, utilizaremos algunas técnicas en Python."
      ],
      "metadata": {
        "id": "UPrERubla5ij"
      }
    },
    {
      "cell_type": "markdown",
      "source": [
        "**Pasos**"
      ],
      "metadata": {
        "id": "RqyiFwLfkHDe"
      }
    },
    {
      "cell_type": "code",
      "source": [
        "import pandas as pd\n",
        "\n",
        "# Carga el dataset, ruta con la ubicación real del archivo)\n",
        "df = pd.read_csv('heart_attack_dataset.csv')\n",
        "\n",
        "# Muestra los primeros registros\n",
        "print(df.head())\n"
      ],
      "metadata": {
        "id": "C62Btd9BazYf"
      },
      "execution_count": null,
      "outputs": []
    },
    {
      "cell_type": "code",
      "source": [
        "# Verifica el tipo de datos de la columna \"Treatment\"\n",
        "print(df['Treatment'].dtype)\n"
      ],
      "metadata": {
        "id": "mIbWu7_UbMgC"
      },
      "execution_count": null,
      "outputs": []
    },
    {
      "cell_type": "markdown",
      "source": [
        "Que los datos sean object significa que son datos categoricos, por lo que es necesario transformarlos a números usando la  técnica one-hot.\n",
        "\n"
      ],
      "metadata": {
        "id": "mhG2MQvEbXCr"
      }
    },
    {
      "cell_type": "code",
      "source": [
        "# Codificación one-hot (crea columnas binarias para cada categoría)\n",
        "df_encoded = pd.get_dummies(df, columns=['Treatment'], prefix='Treatment')\n",
        "\n"
      ],
      "metadata": {
        "id": "PsR5a2USbTtD"
      },
      "execution_count": null,
      "outputs": []
    },
    {
      "cell_type": "code",
      "source": [
        "import matplotlib.pyplot as plt\n",
        "import pandas as pd\n"
      ],
      "metadata": {
        "id": "fIr7-q41r7Ua"
      },
      "execution_count": null,
      "outputs": []
    },
    {
      "cell_type": "code",
      "source": [
        "etiquetas_tratamientos = ['Lifestyle Changes', 'Angioplasty', 'CABG', 'Medication']"
      ],
      "metadata": {
        "id": "9wa9Fe1DsC_u"
      },
      "execution_count": null,
      "outputs": []
    },
    {
      "cell_type": "code",
      "source": [
        "import pandas as pd\n",
        "import matplotlib.pyplot as plt\n",
        "\n",
        "# EL data' contiene los datos numéricos\n",
        "data = pd.DataFrame({\n",
        "    'Lifestyle Changes': [1.5, 2.0, 2.5, 3.0, 3.5],\n",
        "    'Angioplasty': [2.0, 2.5, 3.0, 3.5, 4.0],\n",
        "    'CABG': [1.0, 1.5, 2.0, 2.5, 3.0],\n",
        "    'Medication': [1.5, 2.0, 2.5, 3.0, 3.5]\n",
        "})\n",
        "\n",
        "plt.figure(figsize=(10, 6))\n",
        "plt.boxplot([data['Lifestyle Changes'], data['Angioplasty'], data['CABG'], data['Medication']], labels=['Lifestyle Changes', 'Angioplasty', 'CABG', 'Medication'])\n",
        "plt.title('Boxplot de Tratamientos (Valores Numéricos)')\n",
        "plt.ylabel('Valores')\n",
        "plt.show()\n"
      ],
      "metadata": {
        "id": "7Kvz7f7jvPOr"
      },
      "execution_count": null,
      "outputs": []
    },
    {
      "cell_type": "markdown",
      "source": [
        "**Explicación**"
      ],
      "metadata": {
        "id": "_Ea6EeNk3bab"
      }
    },
    {
      "cell_type": "markdown",
      "source": [
        "Los números que se ven (1.0, 1.5, 2.0, 2.5, 3.0, 3.5 y 4.0) representan los valores numéricos en el eje vertical del gráfico.Estos valores no están relacionados con las categorías de tratamiento directamente, sino que son una referencia para entender la distribución de los datos.\n",
        "\n",
        "Los valores en el eje Y indican la escala de medición utilizada en el gráfico.\n",
        "\n",
        "La función principal de estos valores es proporcionar una referencia visual para entender cómo se distribuyen los datos en relación con la mediana, los cuartiles y los posibles valores atípicos.\n",
        "\n",
        "\n",
        "En un gráfico de boxplot, el eje X generalmente representa las categorías o grupos que deseamos comparar. Para esta caso las categorías son los diferentes tratamientos: “Lifestyle Changes”, “Angioplasty”, “CABG” y “Medication”.\n",
        "\n",
        "\n"
      ],
      "metadata": {
        "id": "NFP6_Oqqh5Lr"
      }
    },
    {
      "cell_type": "markdown",
      "source": [
        "**Distribución de los Datos:**\n",
        "La caja representa el rango intercuartílico (IQR), que contiene el 50% central de los datos.\n",
        "La línea dentro de la caja es la mediana, que divide el conjunto de datos en dos partes iguales.\n",
        "Los bigotes indican la variabilidad fuera de los cuartiles superior e inferior.\n",
        "Los puntos fuera de los bigotes podrían ser valores atípicos o extremos.\n",
        "En resumen, este gráfico muestra cómo se distribuyen los valores numéricos de los diferentes tratamientos. Por ejemplo, la mediana de “Angioplasty” está más cerca del tercer cuartil, mientras que la de “Lifestyle Changes” está cerca del primer cuartil. Los valores atípicos también se representan en el gráfico."
      ],
      "metadata": {
        "id": "i2faYpswleNj"
      }
    },
    {
      "cell_type": "markdown",
      "source": [
        "**Seaborn**"
      ],
      "metadata": {
        "id": "7oz8W_nv3WgE"
      }
    },
    {
      "cell_type": "markdown",
      "source": [
        "Para mirar de una forma avanzada los patrones cícilos identificados en el dataset se utiliza la biblioteca seaborn."
      ],
      "metadata": {
        "id": "Fbl2vN14wtgV"
      }
    },
    {
      "cell_type": "markdown",
      "source": [
        "Con seaborn es más fácil crear los gráficos"
      ],
      "metadata": {
        "id": "MKsJyxK66fBI"
      }
    },
    {
      "cell_type": "markdown",
      "source": [
        "Pasos\n",
        "1) Importar la libreria pandas"
      ],
      "metadata": {
        "id": "ZwYXB-ev02Is"
      }
    },
    {
      "cell_type": "code",
      "source": [
        "import pandas as pd\n",
        "\n",
        "# Carga el conjunto de datos\n",
        "df = pd.read_csv(\"heart_attack_dataset.csv\")\n",
        "\n",
        "# Muestra las primeras filas\n",
        "print(df.head())\n"
      ],
      "metadata": {
        "id": "NNGTJygBdjl7"
      },
      "execution_count": null,
      "outputs": []
    },
    {
      "cell_type": "markdown",
      "source": [
        "Cuando se utiliza Seaborn para crear diferentes tipos de gráficos se pueden utilizar los diferentes gráficos dependiendo de la necesidad.\n",
        "\n",
        "\n",
        "**Para variables numéricas** (como Age, Blood Pressure, Cholesterol):\n",
        "Histogramas: sns.histplot(df['Age'])\n",
        "**bold text**\n",
        "\n",
        "**Gráficos de dispersión: sns.scatterplot(x='Age', y='Blood Pressure (mmg)', data=df)**\n",
        "**Boxplots**: sns.boxplot(x='Gender', y='Cholesterol', data=df)\n",
        "\n",
        "**Para variables categóricas **(como Gender, Has Diabetes, Smoking Status, Chest Pain Type, Treatment):\n",
        "**Gráficos de conteo**: sns.countplot(x='Gender', data=df)\n",
        "**Gráficos de barras:** sns.barplot(x='Smoking Status', y='Cholesterol', data=df)"
      ],
      "metadata": {
        "id": "yvth1lpl1hUn"
      }
    },
    {
      "cell_type": "code",
      "source": [
        "import pandas as pd\n",
        "import seaborn as sns\n",
        "import matplotlib.pyplot as plt\n",
        "\n",
        "# Carga el conjunto de datos\n",
        "df = pd.read_csv(\"heart_attack_dataset.csv\")\n",
        "\n",
        "# Ejemplo de gráfico de dispersión (Age vs. Blood Pressure)\n",
        "sns.scatterplot(x='Age', y='Blood Pressure (mmHg)', data=df)\n",
        "plt.xlabel('Edad')\n",
        "plt.ylabel('Presión Arterial (mmHg)')\n",
        "plt.title('Relación entre Edad y Presión Arterial')\n",
        "plt.show()\n",
        "\n"
      ],
      "metadata": {
        "id": "C9k0VX95360j"
      },
      "execution_count": null,
      "outputs": []
    },
    {
      "cell_type": "code",
      "source": [
        "# Ejemplo de gráfico de barras (Gender vs. Cholesterol)\n",
        "sns.barplot(x='Gender', y='Cholesterol (mg/dL)', data=df)\n",
        "plt.xlabel('Género')\n",
        "plt.ylabel('Colesterol')\n",
        "plt.title('Relación entre Género y Colesterol')\n",
        "plt.show()"
      ],
      "metadata": {
        "id": "DrwS2Bi739VE"
      },
      "execution_count": null,
      "outputs": []
    },
    {
      "cell_type": "markdown",
      "source": [
        "**Uso de lambdas y apply**"
      ],
      "metadata": {
        "id": "Tp8Vq-yM_wqd"
      }
    },
    {
      "cell_type": "markdown",
      "source": [
        "En este fragmento de código, estamos creando una nueva columna llamada “Status” en un DataFrame (supongo que df es un DataFrame). La columna “Status” se llenará con valores que indican si una persona tiene diabetes o no, basándose en la columna existente “Has Diabetes”.\n",
        "\n",
        "Uso de apply y lambda: **bold text**\n",
        "apply es un método de pandas que se utiliza para aplicar una función a cada elemento de una columna (o fila) en un DataFrame.\n",
        "lambda x: \"Diabetes\" if x == 1 else **\"No Diabetes\"** es una función lambda (anónima) que toma un valor x (en este caso, el valor de la columna “Has Diabetes”) y devuelve “Diabetes” si x es igual a 1,** o “No Diabetes” en caso contrario.**\n",
        "Resultado:\n",
        "\n",
        "Para cada fila en el DataFrame, se evalúa el valor en la columna “Has **Diabetes”**.\n",
        "Si el valor es 1 (lo que generalmente significa que la persona tiene diabetes), se asigna “Diabetes” a la columna “Status”.\n",
        "Si el valor no es 1 (lo que implica que la persona no tiene diabetes), se asigna “No Diabetes” a la columna “Status”."
      ],
      "metadata": {
        "id": "hedWVw-v_04i"
      }
    },
    {
      "cell_type": "code",
      "source": [
        "df[\"Status\"] = df[\"Has Diabetes\"].apply(lambda x: \"Diabetes\" if x == 1 else \"No Diabetes\")\n"
      ],
      "metadata": {
        "id": "ho2M7Ih_7hop"
      },
      "execution_count": null,
      "outputs": []
    },
    {
      "cell_type": "code",
      "source": [
        "df[\"Pain Level\"] = df[\"Chest Pain Type\"].apply(lambda x: \"Low\" if x == \"Typical Angina\" else (\"Medium\" if x == \"Atypical Angina\" else \"High\"))\n"
      ],
      "metadata": {
        "id": "miootef18HC8"
      },
      "execution_count": null,
      "outputs": []
    },
    {
      "cell_type": "code",
      "source": [
        "df[\"Smoking Status\"] = df[\"Smoking Status\"].apply(lambda x: \"Yes\" if x == \"Current Smoker\" else \"No\")\n"
      ],
      "metadata": {
        "id": "6dbsySJo7nWR"
      },
      "execution_count": null,
      "outputs": []
    },
    {
      "cell_type": "code",
      "source": [
        "df[\"Pain Level\"] = df[\"Chest Pain Type\"].apply(lambda x: \"Low\" if x == \"Typical Angina\" else (\"Medium\" if x == \"Atypical Angina\" else \"High\"))\n"
      ],
      "metadata": {
        "id": "gseczQmA7rwR"
      },
      "execution_count": null,
      "outputs": []
    },
    {
      "cell_type": "markdown",
      "source": [
        "**Gráfico de Barras para Género (“Gender”):**\n",
        "Visualizaremos la distribución de género en tu conjunto de datos"
      ],
      "metadata": {
        "id": "vebi-6Dm8baT"
      }
    },
    {
      "cell_type": "markdown",
      "source": [
        "El countplot se puede usar para visualizar datos categóricos"
      ],
      "metadata": {
        "id": "NAz-lYPkB3yQ"
      }
    },
    {
      "cell_type": "code",
      "source": [
        "sns.countplot(x='Gender', data=df)\n",
        "plt.xlabel('Género')\n",
        "plt.ylabel('Cantidad')\n",
        "plt.title('Distribución de Género')\n",
        "plt.show()\n"
      ],
      "metadata": {
        "id": "1umx1tGA7u8m"
      },
      "execution_count": null,
      "outputs": []
    },
    {
      "cell_type": "markdown",
      "source": [
        "**Gráfico de Torta para Estado de Diabetes (“Has Diabetes”):**\n",
        " Se muestra la proporción de personas con y sin diabetes:"
      ],
      "metadata": {
        "id": "62Y7h6hp8vsI"
      }
    },
    {
      "cell_type": "code",
      "source": [
        "df['Has Diabetes'].value_counts().plot(kind='pie', autopct='%1.1f%%')\n",
        "plt.title('Proporción de Personas con Diabetes')\n",
        "plt.ylabel('')\n",
        "plt.show()\n"
      ],
      "metadata": {
        "id": "79zdRi567u3y"
      },
      "execution_count": null,
      "outputs": []
    },
    {
      "cell_type": "code",
      "source": [
        "sns.countplot(x='Smoking Status', data=df)\n",
        "plt.xlabel('Estado de Fumador')\n",
        "plt.ylabel('Cantidad')\n",
        "plt.title('Distribución de Estado de Fumador')\n",
        "plt.show()\n"
      ],
      "metadata": {
        "id": "vaegI4vd9KjJ"
      },
      "execution_count": null,
      "outputs": []
    },
    {
      "cell_type": "markdown",
      "source": [
        "**Descripción:**\n",
        "El gráfico muestra una barra azul grande en el lado izquierdo, etiquetada como “No”. Esto indica a los no fumadores.\n",
        " Y No hay ninguna barra presente para los fumadores.\n",
        "El eje y está etiquetado como “Cantidad” y varía de 0 a 1000 en incrementos de 200."
      ],
      "metadata": {
        "id": "euuj_pfuDsxc"
      }
    },
    {
      "cell_type": "markdown",
      "source": [
        "**Gráfico de Barras para Tipo de Dolor en el Pecho (“Chest Pain Type”):**\n",
        "Se mostrará la cantidad de personas en cada tipo de dolor"
      ],
      "metadata": {
        "id": "1KVi5VM89byR"
      }
    },
    {
      "cell_type": "markdown",
      "source": [
        "Mostraremos la cantidad de personas en cada tipo de dolor\n"
      ],
      "metadata": {
        "id": "uDsrF9fX9jh3"
      }
    },
    {
      "cell_type": "code",
      "source": [
        "sns.countplot(x='Chest Pain Type', data=df)\n",
        "plt.xlabel('Tipo de Dolor en el Pecho')\n",
        "plt.ylabel('Cantidad')\n",
        "plt.title('Distribución de Tipo de Dolor en el Pecho')\n",
        "plt.show()\n"
      ],
      "metadata": {
        "id": "jM6L8Apw9phl"
      },
      "execution_count": null,
      "outputs": []
    },
    {
      "cell_type": "markdown",
      "source": [
        "**Mapa de correlaciones o Heatmap**"
      ],
      "metadata": {
        "id": "BzdMsCXCGQh_"
      }
    },
    {
      "cell_type": "markdown",
      "source": [
        "El mapa de calor permite visualizar la correlación entre diferentes variables, primero se hace una matriz de correlación, y luego usaremos Seaborn para mostrar la forma en forma de calor pero para hacerlo primero es necesario utilizar el método one-hot para transformar la información categorica en binaria."
      ],
      "metadata": {
        "id": "cgfi-0P0GdsH"
      }
    },
    {
      "cell_type": "code",
      "source": [
        "import pandas as pd\n",
        "\n",
        "# Carga el conjunto de datos\n",
        "df = pd.read_csv(\"heart_attack_dataset.csv\")\n",
        "\n",
        "# Muestra las primeras filas\n",
        "print(df.head())"
      ],
      "metadata": {
        "id": "zqTeF8bxMxt2"
      },
      "execution_count": null,
      "outputs": []
    },
    {
      "cell_type": "code",
      "source": [
        "import pandas as pd\n",
        "\n",
        "# Supongamos que estas son tus columnas categóricas\n",
        "columnas_categoricas = [\"Gender\", \"Has Diabetes\", \"Smoking Status\", \"Chest Pain Type\", \"Treatment\"]\n",
        "\n",
        "# Aplica la codificación one-hot a todas las columnas categóricas\n",
        "df_encoded = pd.get_dummies(df, columns=columnas_categoricas)\n",
        "\n",
        "# Codificación one-hot específica para Male en la columna Gender\n",
        "df_encoded[\"Gender_Male\"] = df[\"Gender\"].apply(lambda x: 1 if x == \"Male\" else 0)\n",
        "\n",
        "# Calcula la matriz de correlación\n",
        "correlation_matrix = df_encoded.corr()\n",
        "\n",
        "# Crea el mapa de calor\n",
        "import seaborn as sns\n",
        "import matplotlib.pyplot as plt\n",
        "\n",
        "plt.figure(figsize=(16, 10))\n",
        "sns.heatmap(correlation_matrix, annot=True, cmap=\"coolwarm\", vmin=-1, vmax=1)\n",
        "plt.title(\"Matriz de Correlación\")\n",
        "plt.show()\n"
      ],
      "metadata": {
        "id": "2bY9IOHrPBGe"
      },
      "execution_count": null,
      "outputs": []
    },
    {
      "cell_type": "markdown",
      "source": [
        "**Explicación**\n",
        "Este gráfico muestra una matriz de correlación entre diferentes variables.\n",
        "Cada celda en la matriz representa el coeficiente de correlación entre dos variables. Los valores pueden variar de -1 a 1.\n",
        "Los colores en las celdas van desde rojo hasta blanco y luego azul.\n",
        "\n",
        " **El rojo indica una correlación positiva fuerte**, mientras que el **azul indica una correlación negativa fuerte.**\n",
        "\n",
        " - **Las celdas más claras** indican una correlación más débil\n",
        "\n",
        "\n",
        "**Las variables que están  Incluidas son:**\n",
        "Las variables en esta matriz son:\n",
        "**Age (Edad):** La edad de los individuos.\n",
        "**Blood Pressure** (Presión Arterial) (mmHg): La presión arterial sistólica y diastólica.\n",
        "**Cholesterol** (Colesterol) (mg/dL): Niveles de colesterol en sangre.\n",
        "**Gender **(Género) (Male/Female): Género de los individuos.\n",
        "**Has Diabetes **(Tiene Diabetes) (Yes/No): Si los individuos tienen diabetes o no.\n",
        "**Smoking Status **(Estado de Fumador) (Current/Never/Former): Estado de fumador de los individuos.\n",
        "**Chest Pain Type **(Tipo de Dolor de Pecho): Diferentes tipos de dolor de pecho.\n",
        "**Treatment **(Tratamiento): Información sobre el tratamiento.\n",
        "\n",
        "**¿Como interpretar los datos?**\n",
        "Interpretación:\n",
        "Los valores que están cercanos a 1 indican una correlación positiva fuerte (si una variable aumenta, la otra también tiende a aumentar).\n",
        "\n",
        "**Los valores cercanos a -1 **indican una correlación negativa fuerte (si una variable aumenta, la otra tiende a disminuir).\n",
        "\n",
        "**Los valores cercanos a 0 indican una correlación débil o nula.**\n",
        "\n"
      ],
      "metadata": {
        "id": "qFUlDr2LS6PN"
      }
    },
    {
      "cell_type": "markdown",
      "source": [
        "**¿Como leer este mapa de calor?**\n",
        "0 = Correlación débil o nula\n",
        "-1 = Correlación correlación negativa\n"
      ],
      "metadata": {
        "id": "QSOl_Dhm4_jl"
      }
    },
    {
      "cell_type": "markdown",
      "source": [
        "Para evaluar la correlación entre dos variables específicas (digamos, “X” e “Y”), se busca la celda que se cruza entre la fila correspondiente a “X” y la columna correspondiente a “Y”.\n",
        "El valor en esa celda es el coeficiente de correlación entre “X” e “Y”\n",
        "\n",
        "**Ejemplo**\n",
        "Si se quiere mirar la relación entre “Age” (Edad) y “Blood Pressure” (Presión Arterial), busca la celda correspondiente a esas dos variables en la matriz\n",
        "\n"
      ],
      "metadata": {
        "id": "GMjwCpRGZ5Nz"
      }
    },
    {
      "cell_type": "markdown",
      "source": [
        "Los números predominantes señalan cada activo con su mismo, con cada categoria\n",
        "ejemplo 1 Age, alta correlación\n",
        "\n",
        "-1 Correlación negativa\n",
        "\n"
      ],
      "metadata": {
        "id": "RodUPngbzUqA"
      }
    },
    {
      "cell_type": "markdown",
      "source": [
        "**Machine learning**"
      ],
      "metadata": {
        "id": "A6CsMtVZGu7q"
      }
    },
    {
      "cell_type": "markdown",
      "source": [],
      "metadata": {
        "id": "52M5d7ffGxU0"
      }
    },
    {
      "cell_type": "markdown",
      "source": [
        "**Conclusiones**"
      ],
      "metadata": {
        "id": "_E4tAYSOR9zm"
      }
    },
    {
      "cell_type": "markdown",
      "source": [
        "Hemos  hecho un análisis minucioso de las causas de los ataques del corazón tomando como base 8 categorias que nos permitieron identificar que la mayoria de las personas del dataset no fuman pero sin embargo tienen otras condicionaes como el colesterol, la presión arterial alta y la edad lo que genera una propensión a sufrir de ataques del corazón.\n",
        "\n",
        "También nos dimos cuenta que el mejor tratamiento para combatir los ataques al corazón son los cambios de vida. (Lifestylechanges)"
      ],
      "metadata": {
        "id": "7LmyLRMIVsO4"
      }
    },
    {
      "cell_type": "markdown",
      "source": [
        "**Aprendizajes**\n",
        "\n",
        "-Aprendimos a identificar patrones de un dataset\n",
        "- Aprendimos a importar diferentes librerias\n",
        "- Creación de mapas de calor\n",
        "- Limpiar los datos y eliminar nulos en caso de que sea necesarios\n",
        "- Aprendimos a desglosar la información de un dataset para que una persona del común pueda leer y entender los datos.\n",
        "- Aprendimos que se debe aplicar la estrategia One-hot cuando los datos son categoricos para que podamos transformar los datos en código binario y se pueda hacer la relación de todos los datos."
      ],
      "metadata": {
        "id": "h_MQM2ZnU-e_"
      }
    },
    {
      "cell_type": "markdown",
      "source": [],
      "metadata": {
        "id": "URAtyWrl3lo2"
      }
    },
    {
      "cell_type": "markdown",
      "source": [
        "Comparación de Género: Puedes investigar si hay diferencias significativas entre géneros en términos de presión arterial, colesterol o cualquier otro factor. ¿Hay patrones distintos entre hombres y mujeres?\n",
        "Efecto del Tipo de Tratamiento: Si observas las columnas “Tratamiento” (como “Angioplastia” o “Cirugía de Bypass de Arteria Coronaria”), podrías analizar si hay correlaciones entre el tipo de tratamiento y los niveles de presión arterial o colesterol. ¿Un tratamiento específico se asocia con mejores resultados?\n",
        "Relación entre Estilo de Vida y Salud: Examina cómo los cambios en el estilo de vida (como la angioplastia o el bypass) afectan los marcadores de salud. ¿Hay mejoras notables después de ciertos tratamientos?\n",
        "Correlación entre Dolor en el Pecho y Otros Factores: Además de la edad, ¿existe alguna relación entre el tipo de dolor en el pecho y otros factores? Por ejemplo, ¿los pacientes con “Angina Típica” tienen niveles de colesterol diferentes a los de “Angina Atípica”?"
      ],
      "metadata": {
        "id": "xEc8oNPc8CsB"
      }
    },
    {
      "cell_type": "markdown",
      "source": [
        "\n",
        "\n",
        "\n",
        "\n",
        "\n",
        "**Análisis de correlación:**\n",
        "Investiga las relaciones entre diferentes variables. ¿Hay correlaciones positivas o negativas? Utiliza gráficos de dispersión o coeficientes de correlación (como el coeficiente de Pearson) para explorar estas relaciones.\n",
        "Por ejemplo, puedes analizar si existe una correlación entre el consumo de azúcar y el índice de masa corporal (IMC).\n",
        "Agrupación y segmentación:\n",
        "Agrupa tus datos en categorías o segmentos relevantes. Puedes utilizar técnicas como el análisis de clústeres (por ejemplo, k-means) o segmentación basada en reglas.\n",
        "Por ejemplo, si tienes datos de clientes, agrúpalos según su comportamiento de compra o preferencias.\n",
        "Comparación de grupos:\n",
        "Compara diferentes grupos o categorías. Puedes utilizar gráficos de barras o boxplots para visualizar diferencias entre grupos.\n",
        "Por ejemplo, compara los ingresos promedio entre diferentes niveles educativos.\n",
        "Análisis de texto:\n",
        "Si tienes datos de texto (como reseñas de productos o comentarios), realiza análisis de sentimiento o identifica palabras clave.\n",
        "Herramientas como el procesamiento de lenguaje natural (NLP) pueden ayudarte a extraer información relevante.\n",
        "Reducción de dimensionalidad:\n",
        "Si tienes muchas variables, considera técnicas como PCA (Análisis de Componentes Principales) para reducir la dimensionalidad y visualizar los datos en un espacio bidimensional.\n",
        "Esto es útil para explorar relaciones complejas entre múltiples variables.\n",
        "Visualización geoespacial:\n",
        "Si tienes datos con componentes geográficos, crea mapas para visualizar patrones espaciales.\n",
        "Por ejemplo, muestra la distribución de tiendas en diferentes áreas de una ciudad."
      ],
      "metadata": {
        "id": "sufR8n1Tzvo-"
      }
    },
    {
      "cell_type": "markdown",
      "source": [
        "Este gráfico muestra la distribución de Edades en Ataques Cardíacos.\n",
        "\n",
        "-**Título del Gráfico**: “Distribución de Edades en Ataques Cardíacos.”\n",
        "\n",
        "**Ejes del Gráfico:**\n",
        "**-Eje Horizontal (X)**: Representa las edades, con valores desde 30 hasta 90 años.\n",
        "**-Eje Vertical (Y):** Muestra la frecuencia de ataques cardíacos, con valores que van de 0 a 60.\n",
        "\n",
        "**Barras**: Cada barra representa la cantidad de ataques cardíacos en un grupo de edad específico.\n",
        "**Observaciones:**\n",
        "Los ataques cardíacos ocurren en un amplio rango de edades.\n",
        "La frecuencia varía según la edad.\n",
        "No hay una edad específica dominante para los ataques cardíacos; afectan a personas de diferentes grupos.\n"
      ],
      "metadata": {
        "id": "gOKxpmYP1ssv"
      }
    },
    {
      "cell_type": "markdown",
      "source": [
        "**Gráficos en 3D**"
      ],
      "metadata": {
        "id": "gfgKp8wAECjO"
      }
    },
    {
      "cell_type": "code",
      "source": [
        "import matplotlib.pyplot as plt\n",
        "import numpy as np\n",
        "\n",
        "# Crear datos de ejemplo (simplemente para ilustrar)\n",
        "X = np.linspace(-5, 5, 100)\n",
        "Y = np.linspace(-5, 5, 100)\n",
        "X, Y = np.meshgrid(X, Y)\n",
        "Z = np.sin(np.sqrt(X**2 + Y**2))  # Corregimos el cálculo de Z\n",
        "\n",
        "# Crear la figura y el eje 3D\n",
        "fig = plt.figure()\n",
        "ax = fig.add_subplot(111, projection='3d')\n",
        "\n",
        "# Graficar la superficie\n",
        "ax.plot_surface(X, Y, Z, cmap='viridis', alpha=0.7)  # Agregamos transparencia\n",
        "\n",
        "# Agregar una leyenda con valores predefinidos\n",
        "leyenda_x = 2.5\n",
        "leyenda_y = 2.5\n",
        "leyenda_z = np.sin(np.sqrt(leyenda_x**2 + leyenda_y**2))  # Calculamos el valor en ese punto\n",
        "\n",
        "# Mostrar la leyenda en el gráfico\n",
        "ax.text(leyenda_x, leyenda_y, leyenda_z, \"Value\", color='red', fontsize=12)\n",
        "\n",
        "# Etiquetas de los ejes\n",
        "ax.set_xlabel('Age')\n",
        "ax.set_ylabel('Cholesterol')\n",
        "ax.set_zlabel('Blood Pressure')\n",
        "\n",
        "# Título del gráfico\n",
        "plt.title('Gráfico 3D con Leyenda')\n",
        "\n",
        "# Mostrar el gráfico\n",
        "plt.show()\n"
      ],
      "metadata": {
        "id": "su2amaYS63ZR"
      },
      "execution_count": null,
      "outputs": []
    },
    {
      "cell_type": "code",
      "source": [
        "\n",
        "import matplotlib.pyplot as plt\n",
        "import numpy as np\n",
        "\n",
        "import pandas as pd\n",
        "\n",
        "# Ruta al archivo CSV (ajústala según tu ubicación)\n",
        "ruta_archivo = ('/content/drive/MyDrive/Notebooks Inteligencia artificial/heart_attack_dataset.csv')\n",
        "\n",
        "# Leer el archivo CSV en un DataFrame\n",
        "df = pd.read_csv(ruta_archivo)\n",
        "\n",
        "# Mostrar los primeros registros (por defecto, muestra los primeros 5)\n",
        "print(df.head())\n",
        "\n",
        "\n",
        "fig = plt.figure()\n",
        "ax = fig.add_subplot(111, projection='3d')\n",
        "\n",
        "# Datos de ejemplo\n",
        "X = np.linspace(-5, 5, 100)\n",
        "Y = np.linspace(-5, 5, 100)\n",
        "X, Y = np.meshgrid(X, Y)\n",
        "Z = np.sin(np.sqrt(X*2 + Y*2))\n",
        "\n",
        "ax.plot_surface(X, Y, Z, cmap='viridis')\n",
        "\n",
        "\n",
        "\n",
        "\n",
        "\n",
        "\n",
        "\n",
        "plt.show()"
      ],
      "metadata": {
        "id": "cCLkCvvHJw0Z"
      },
      "execution_count": null,
      "outputs": []
    },
    {
      "cell_type": "markdown",
      "source": [],
      "metadata": {
        "id": "UKmv7MFQJxkC"
      }
    },
    {
      "cell_type": "code",
      "source": [
        "import matplotlib.pyplot as plt\n",
        "import numpy as np\n",
        "\n",
        "# Crear datos de ejemplo (superficie sinusoidal)\n",
        "X = np.linspace(-5, 5, 100)\n",
        "Y = np.linspace(-5, 5, 100)\n",
        "X, Y = np.meshgrid(X, Y)\n",
        "Z = np.sin(X) * np.cos(Y)  # Función sinusoidal modificada\n",
        "\n",
        "# Crear la figura y el eje 3D\n",
        "fig = plt.figure()\n",
        "ax = fig.add_subplot(111, projection='3d')\n",
        "\n",
        "# Graficar la superficie\n",
        "ax.plot_surface(X, Y, Z, cmap='viridis', alpha=0.7)  # Agregamos transparencia\n",
        "\n",
        "# Etiquetas de los ejes\n",
        "ax.set_xlabel('Age')\n",
        "ax.set_ylabel('Cholesterol')\n",
        "ax.set_zlabel('Blood Pressure')\n",
        "\n",
        "# Título del gráfico\n",
        "plt.title('Gráfico 3D con Superficie Sinusoidal')\n",
        "\n",
        "# Mostrar el gráfico\n",
        "plt.show()\n"
      ],
      "metadata": {
        "id": "HC9fToRIJ3w4"
      },
      "execution_count": null,
      "outputs": []
    },
    {
      "cell_type": "markdown",
      "source": [
        "**Gráficos**"
      ],
      "metadata": {
        "id": "Pe30OLjRP1YP"
      }
    },
    {
      "cell_type": "code",
      "source": [
        "pip install pandas matplotlib"
      ],
      "metadata": {
        "id": "QfmtVplXRiFW"
      },
      "execution_count": null,
      "outputs": []
    },
    {
      "cell_type": "code",
      "source": [
        "# Verificar si la columna 'treatment' existe en el DataFrame\n",
        "if 'Age' in df.columns:\n",
        "    print(\"La columna 'Age' existe en el DataFrame.\")\n",
        "\n",
        "    # Identificar los tipos de tratamiento\n",
        "    tipos_de_tratamiento = df['Age'].unique()\n",
        "    print(\"Edades que hay :\", tipos_de_tratamiento)\n",
        "    print(\"Edades:\", len(tipos_de_tratamiento))\n",
        "else:\n",
        "    print(\"La columna 'Age' no se encuentra en el DataFrame.\")"
      ],
      "metadata": {
        "id": "UwG2zYja1c2O"
      },
      "execution_count": null,
      "outputs": []
    },
    {
      "cell_type": "code",
      "source": [
        "Age = df['Age']\n",
        "\n",
        "plt.figure(figsize=(10, 6))  # Opcional: ajusta el tamaño del gráfico\n",
        "\n",
        "plt.hist(Age, bins=20, color='skyblue', edgecolor='black')\n",
        "plt.xlabel('Age')\n",
        "plt.ylabel('Frequency')\n",
        "plt.title('Distribution of Age')\n",
        "\n",
        "plt.tight_layout()  # Opcional: ajusta los márgenes\n",
        "\n",
        "plt.show()"
      ],
      "metadata": {
        "id": "udOFrZ-8VnCy"
      },
      "execution_count": null,
      "outputs": []
    },
    {
      "cell_type": "markdown",
      "source": [
        "Se utiliza el gráfico de la edad porque es la categoria que habla de la frecuencia"
      ],
      "metadata": {
        "id": "WWmTDHB_UHiI"
      }
    },
    {
      "cell_type": "code",
      "source": [
        "df = pd.read_csv('heart_attack_dataset.csv',encoding='latin1')\n",
        "\n",
        "# Se muestran las primeras 4 filas del DataFrame para saber de que se trata el dataset y se muestran los 8 columnas de las que consta el dataset\n",
        "print(df.head())"
      ],
      "metadata": {
        "id": "-ERi7FcbRzNe"
      },
      "execution_count": null,
      "outputs": []
    },
    {
      "cell_type": "markdown",
      "source": [
        "**Regresión logística**"
      ],
      "metadata": {
        "id": "szi4mkD4AOx5"
      }
    },
    {
      "cell_type": "markdown",
      "source": [
        "Colocar las librerias necesarias, visualización libreria de datos\n",
        "Para el modelo de regresión logística se va a aplicar el modelo statsmodel"
      ],
      "metadata": {
        "id": "gjOUhRd3_-ht"
      }
    },
    {
      "cell_type": "markdown",
      "source": [
        "**statsmodels:**\n",
        "Esta biblioteca se utiliza para realizar análisis estadísticos y modelado en Python.\n",
        "\n",
        "**sklearn (Scikit-learn)**:\n",
        "Scikit-learn es una biblioteca de aprendizaje automático (machine learning) en Python.\n",
        "Proporciona una amplia variedad de algoritmos de clasificación, regresión, agrupamiento, reducción de dimensionalidad y más.\n",
        "\n",
        "**seaborn:**\n",
        "Seaborn es una biblioteca de visualización de datos basada en Matplotlib.\n",
        "\n",
        "**matplotlib.pyplot**\n",
        "Matplotlib es una biblioteca ampliamente utilizada para crear gráficos en Python.\n",
        "pyplot es un módulo dentro de Matplotlib que proporciona una interfaz similar a MATLAB para crear gráficos.\n"
      ],
      "metadata": {
        "id": "E1Z0cW8xbpF_"
      }
    },
    {
      "cell_type": "code",
      "source": [
        "import statsmodels.api as sm\n",
        "from sklearn.model_selection import train_test_split\n",
        "from sklearn.preprocessing import OrdinalEncoder\n",
        "import seaborn as sns\n",
        "import matplotlib.pyplot as plt"
      ],
      "metadata": {
        "id": "B-yOVEWm_g9R"
      },
      "execution_count": null,
      "outputs": []
    },
    {
      "cell_type": "markdown",
      "source": [
        "Sobre la librería scikit-learn\n",
        "\n",
        "→  Es una librería representativa de Machine Learning en Python.\n",
        "\n",
        "\n",
        "→  Para importar un algoritmo de Machine Learning como una clase:"
      ],
      "metadata": {
        "id": "3zmiCy00d4mQ"
      }
    },
    {
      "cell_type": "code",
      "source": [
        "data=pd.read_csv(\"/content/drive/MyDrive/Notebooks Inteligencia artificial/heart_attack_dataset.csv\")\n"
      ],
      "metadata": {
        "id": "ByCDrCxOBJtx"
      },
      "execution_count": null,
      "outputs": []
    },
    {
      "cell_type": "code",
      "source": [
        "data.shape"
      ],
      "metadata": {
        "id": "c9-7Msjp_xbf"
      },
      "execution_count": null,
      "outputs": []
    },
    {
      "cell_type": "markdown",
      "source": [
        "Cuenta con mil registros y 8 variables"
      ],
      "metadata": {
        "id": "dzgEvQOFCLKK"
      }
    },
    {
      "cell_type": "code",
      "source": [
        "data.info()"
      ],
      "metadata": {
        "id": "dZk1rdOsCK0y"
      },
      "execution_count": null,
      "outputs": []
    },
    {
      "cell_type": "markdown",
      "source": [
        "La mayoria de sus variables son categorias, tres variables que me indican que son de tipo entero."
      ],
      "metadata": {
        "id": "vDPN4JHwChqN"
      }
    },
    {
      "cell_type": "code",
      "source": [
        "data.isnull().sum()"
      ],
      "metadata": {
        "id": "oDDBgqM0CcDe"
      },
      "execution_count": null,
      "outputs": []
    },
    {
      "cell_type": "markdown",
      "source": [
        "Con data isnull reviso si hay valores faltantes , se ve que no hay existencia de valores nulos."
      ],
      "metadata": {
        "id": "HiidC-1rC3GS"
      }
    },
    {
      "cell_type": "code",
      "source": [
        "data.select_dtypes(include=\"O\").describe()"
      ],
      "metadata": {
        "id": "2s0ah1EsCzz6"
      },
      "execution_count": null,
      "outputs": []
    },
    {
      "source": [
        "from matplotlib import pyplot as plt\n",
        "import seaborn as sns\n",
        "_df_1.groupby('Gender').size().plot(kind='barh', color=sns.palettes.mpl_palette('Dark2'))\n",
        "plt.gca().spines[['top', 'right',]].set_visible(False)"
      ],
      "cell_type": "code",
      "metadata": {
        "id": "b2H5oapmSBFA"
      },
      "execution_count": null,
      "outputs": []
    },
    {
      "cell_type": "markdown",
      "source": [
        "Con data select se hace una descripción de todas las variables que son categoricas."
      ],
      "metadata": {
        "id": "tZkLci_VDObv"
      }
    },
    {
      "cell_type": "markdown",
      "source": [
        "Gender (Género):\n",
        "Hay dos valores únicos en la columna “Gender”: “Female” (Femenino) y “Male” (Masculino).\n",
        "El valor “Female” aparece con mayor frecuencia (510 veces).\n",
        "\n",
        "Has Diabetes (Tiene Diabetes):\n",
        "Hay dos valores únicos en la columna “Has Diabetes”: “Yes” (Sí) y “No”.\n",
        "El valor “Yes” (Sí) aparece con mayor frecuencia (517 veces).\n",
        "\n",
        "Smoking Status (Estado de Fumador):\n",
        "Hay tres valores únicos en la columna “Smoking Status”: “Never” (Nunca), “Current” (Actual) y “Former” (Anterior).\n",
        "El valor “Never” (Nunca) aparece con mayor frecuencia (352 veces).\n",
        "\n",
        "\n",
        "\n",
        "Chest Pain Type (Tipo de Dolor en el Pecho):\n",
        "Hay cuatro valores únicos en la columna “Chest Pain Type”: “Non-anginal Pain” (Dolor no anginoso), “Atypical Angina” (Angina atípica), “Typical Angina” (Angina típica) y “Asymptomatic” (Asintomático).\n",
        "El valor “Non-anginal Pain” (Dolor no anginoso) aparece con mayor frecuencia (261 veces).\n",
        "\n",
        "\n",
        "Treatment (Tratamiento):\n",
        "Hay cuatro valores únicos en la columna “Treatment”: “Lifestyle Changes” (Cambios en el estilo de vida), “Angioplasty”, “Coronary Artery Bypass Graft (CABG)” (Injerto de derivación de la arteria coronaria) y “Medication” (Medicación).\n",
        "El valor “Lifestyle Changes” (Cambios en el estilo de vida) aparece con mayor frecuencia (269 veces).\n",
        "\n",
        "\n",
        "\n",
        "\n"
      ],
      "metadata": {
        "id": "tmFYBy29QsST"
      }
    },
    {
      "cell_type": "code",
      "source": [
        "data.select_dtypes(exclude=\"O\").describe()"
      ],
      "metadata": {
        "id": "FO5dNOGdDLFT"
      },
      "execution_count": null,
      "outputs": []
    },
    {
      "cell_type": "code",
      "source": [
        "target=\"Churn\"\n",
        "var_num=[\"Age\",\"Blood Pressure\",\"Cholesterol\"]\n",
        "var_cat=[a for a in data.columns if a not in var_num+[target,\"customerID\"]]"
      ],
      "metadata": {
        "id": "tfUK5KkOElj6"
      },
      "execution_count": null,
      "outputs": []
    },
    {
      "cell_type": "code",
      "source": [
        "var_cat"
      ],
      "metadata": {
        "id": "S7TGdYeaE9yl"
      },
      "execution_count": null,
      "outputs": []
    },
    {
      "cell_type": "markdown",
      "source": [
        "Ahora aqui se buscan las variables númericas\n"
      ],
      "metadata": {
        "id": "qZsTkoXKDxhS"
      }
    },
    {
      "cell_type": "code",
      "source": [
        "dftarget_des=data[\"Treatment\"].value_counts().reset_index()#*100/len(data)"
      ],
      "metadata": {
        "id": "Pd3b5rmJFMAn"
      },
      "execution_count": null,
      "outputs": []
    },
    {
      "cell_type": "code",
      "source": [
        "dftarget_des[\"%total\"]=100*(dftarget_des[\"count\"]/sum(dftarget_des[\"count\"])).round(2)\n",
        "dftarget_des"
      ],
      "metadata": {
        "id": "j9Cl0NFcGG3E"
      },
      "execution_count": null,
      "outputs": []
    },
    {
      "cell_type": "markdown",
      "source": [
        "Esta tabla representa información sobre diferentes tratamientos y su distribución en un conjunto de datos. Vamos a analizarla:\n",
        "\n",
        "**Tratamientos:**\n",
        "Los cuatro tratamientos enumerados son:\n",
        "Lifestyle Changes (Cambios en el estilo de vida).\n",
        "Coronary Artery Bypass Graft (CABG) (Injerto de derivación de la arteria coronaria).\n",
        "Angioplasty (Angioplastia).\n",
        "Medication (Medicación).\n",
        "Conteo y Porcentaje Total:\n",
        "Para cada tratamiento, se proporciona la cantidad de registros (pacientes) que recibieron ese tratamiento.\n",
        "El porcentaje total muestra la proporción de cada tratamiento con respecto al total de registros.\n",
        "Ejemplo de Interpretación:\n",
        "Hay 269 registros (27%) de pacientes que realizaron cambios en su estilo de vida como tratamiento.\n",
        "El CABG (injerto de derivación de la arteria coronaria) se realizó en 252 pacientes (25%).\n",
        "La angioplastia se llevó a cabo en 247 pacientes (25%).\n",
        "La medicación fue el tratamiento para 232 pacientes (23%)."
      ],
      "metadata": {
        "id": "n8Hx9TEHead-"
      }
    },
    {
      "cell_type": "code",
      "source": [
        "! pip install cufflinks"
      ],
      "metadata": {
        "id": "5iCGFDtE8yWk"
      },
      "execution_count": null,
      "outputs": []
    },
    {
      "cell_type": "markdown",
      "source": [
        "La libreria cufflinks me permite crear gráficos interactivos"
      ],
      "metadata": {
        "id": "Nzj3fI8w8_ll"
      }
    },
    {
      "cell_type": "code",
      "source": [
        "import seaborn as sns\n",
        "import matplotlib.pyplot as plt\n",
        "\n",
        "# Supongamos que 'data' es tu DataFrame original\n",
        "plt.figure(figsize=(8, 6))  # Ajusta el tamaño del gráfico\n",
        "\n",
        "# Crea un gráfico de barras utilizando Seaborn\n",
        "sns.countplot(x=data[\"Treatment\"], hue=data[\"Treatment\"], palette=\"Set2\")\n",
        "\n",
        "# Agrega etiquetas a las barras\n",
        "for p in plt.gca().patches:\n",
        "    plt.gca().annotate(f\"{p.get_height()}\", (p.get_x() + p.get_width() / 2, p.get_height()), ha=\"center\", va=\"bottom\")\n",
        "\n",
        "plt.xlabel(\"Tratamiento\")\n",
        "plt.ylabel(\"Cantidad\")\n",
        "plt.title(\"Distribución de Tipos de Tratamiento\")\n",
        "\n",
        "plt.tight_layout()  # Ajusta los márgenes\n",
        "\n",
        "plt.show()"
      ],
      "metadata": {
        "id": "KX7bSoXRbC7X"
      },
      "execution_count": null,
      "outputs": []
    },
    {
      "cell_type": "markdown",
      "source": [
        "https://www.youtube.com/watch?v=BbAhzkohbws&t=166s mirar\n",
        "minuto 9:09\n"
      ],
      "metadata": {
        "id": "NKSWSpSUHJcx"
      }
    },
    {
      "cell_type": "code",
      "source": [
        "def plot_cat(df,lista,fi_col,hue=None):\n",
        "\n",
        "    plt.figure(figsize=(20,15))\n",
        "    plt.subplots_adjust(top=1.2,hspace=0.5)\n",
        "    for i,j in enumerate(lista):\n",
        "        plt.subplot(*fi_col,i+1)\n",
        "        sns.countplot(data=df,x=j,hue=j if not bool(hue) else hue,)\n",
        "        plt.xticks(rotation=45)\n",
        "        plt.title(f'variable: {j}',fontsize=20)"
      ],
      "metadata": {
        "id": "FAnWzNhyG0zf"
      },
      "execution_count": null,
      "outputs": []
    },
    {
      "cell_type": "markdown",
      "source": [
        "Hacer consultas query"
      ],
      "metadata": {
        "id": "7a9TVT3cf8Zc"
      }
    },
    {
      "cell_type": "code",
      "source": [
        "!pip install sqlalchemy"
      ],
      "metadata": {
        "id": "xqB2iyeq41-c"
      },
      "execution_count": null,
      "outputs": []
    },
    {
      "cell_type": "markdown",
      "source": [
        "Preprocesamiento de datos para simplificar el análisis en el futuro"
      ],
      "metadata": {
        "id": "MsWEUrDK6eau"
      }
    },
    {
      "cell_type": "markdown",
      "source": [
        "En el mundo real, a menudo no podemos darnos el lujo de manejar datos perfectamente limpios y formateados. Por lo tanto, tendremos que realizar algunas operaciones en los datos proporcionados para obtener un formato que permita un análisis posterior.\n",
        "\n",
        "Por ejemplo, la columna ```Value``` es un valor numérico, pero actualmente está en formato de cadena, lo que dificulta la realización de operaciones matemáticas en ella. Esto se debe a que a esta columna le faltan algunos valores, que se registran como \"Not Available\":"
      ],
      "metadata": {
        "id": "axwgyl8j6op-"
      }
    },
    {
      "cell_type": "markdown",
      "source": [
        "A la hora de escribir una `consulta compleja` como la anterior se ebe evitar escribir mucho código y mas bien adoptar una estrategia que permita automatizar cualquier cambio futuro. Por ejemplo: Si las recodificaciones cambiaran, deberíamos borrar el texto actual y sutiruirlo por uno nuevo.\n",
        "\n",
        "Dos posibles enfoques serían:\n",
        "\n",
        "1. Crear una tabla de equivalencias con el diccionario y usar un `INNER JOIN`\n",
        "\n",
        "2. Crear un ciclo `for` que sustituya las tiquetas secuencialmente el lugar de toas al tiempo.\n",
        "\n",
        "\n",
        "\n",
        "A continuación se muestra como aplicar ambos enfoques:"
      ],
      "metadata": {
        "id": "BJMbZhxp7sYt"
      }
    },
    {
      "cell_type": "markdown",
      "source": [
        "**Gráficos interactivos con el paquete plotly**"
      ],
      "metadata": {
        "id": "ORJhG_TZbr5g"
      }
    },
    {
      "cell_type": "code",
      "source": [],
      "metadata": {
        "id": "hhGCfBG-8-NG"
      },
      "execution_count": null,
      "outputs": []
    },
    {
      "cell_type": "code",
      "source": [
        "import statsmodels.api as sm\n",
        "from sklearn.model_selection import train_test_split\n",
        "from sklearn.preprocessing import OrdinalEncoder\n",
        "import seaborn as sns\n",
        "import matplotlib.pyplot as plt"
      ],
      "metadata": {
        "id": "YFjqdt5n9d0E"
      },
      "execution_count": null,
      "outputs": []
    },
    {
      "cell_type": "code",
      "source": [
        "heart_attack_dataset_df =pd.DataFrame"
      ],
      "metadata": {
        "id": "UEBoQk277gi_"
      },
      "execution_count": null,
      "outputs": []
    },
    {
      "cell_type": "code",
      "source": [
        "energy_short_df = pd.DataFrame(energy_short_dict.items()\n",
        "                              , columns=[\"etiquetas_ant\",\"etiquetas_new\"])\n",
        "\n",
        "display(energy_short_df)"
      ],
      "metadata": {
        "id": "J7yqx_oC7Y5l"
      },
      "execution_count": null,
      "outputs": []
    },
    {
      "cell_type": "markdown",
      "source": [
        "El módulo sklearn.datasets incluye utilidades para cargar datasets, incluyendo métodos para cargar y buscar datasets populares de referencia. También tiene algunos generadores de datos artificiales."
      ],
      "metadata": {
        "id": "TVYB_PV5fL6z"
      }
    },
    {
      "cell_type": "code",
      "source": [
        "# !pip install scikit-learn\n",
        "import sys\n",
        "import sklearn\n",
        "print(sklearn.__version__)\n",
        "sys.version"
      ],
      "metadata": {
        "id": "kuhKy5vbfWHr"
      },
      "execution_count": null,
      "outputs": []
    },
    {
      "cell_type": "code",
      "source": [
        "Mirar"
      ],
      "metadata": {
        "id": "t4ctdtqXipX2"
      },
      "execution_count": null,
      "outputs": []
    },
    {
      "cell_type": "code",
      "source": [
        "# Importa la biblioteca necesaria\n",
        "from sklearn.datasets import fetch_openml\n",
        "\n",
        "# Carga el conjunto de datos \"Heart Attack Analysis & Prediction\"\n",
        "heart_attack_dataset.csv = fetch_openml(name=\"heart_attack_dataset\")\n",
        "\n",
        "# Accede a los datos y las características\n",
        "X = heart_attack_dataset.data  # Matriz de características\n",
        "y = heart_attack_dataset.target  # Etiquetas (0 o 1 para enfermedad cardíaca)\n",
        "\n",
        "# También puedes obtener información sobre las características:\n",
        "feature_names = heart_attack_dataset.feature_names\n",
        "target_names = heart_attack_dataset.target_names\n",
        "\n",
        "print(\"Información sobre las características:\")\n",
        "print(feature_names)\n",
        "print(\"\\nNombres de las etiquetas:\")\n",
        "print(target_names)"
      ],
      "metadata": {
        "id": "D9t7biJjhoFi"
      },
      "execution_count": null,
      "outputs": []
    },
    {
      "cell_type": "code",
      "source": [
        "!pip install plotly"
      ],
      "metadata": {
        "id": "j2hNpzAGwYv-"
      },
      "execution_count": null,
      "outputs": []
    },
    {
      "cell_type": "code",
      "source": [
        "!pip install cufflinks"
      ],
      "metadata": {
        "id": "h28UkAWBxvQo"
      },
      "execution_count": null,
      "outputs": []
    },
    {
      "cell_type": "code",
      "source": [
        "import cufflinks as cf\n",
        "import pandas as pd\n",
        "\n",
        "# Configuración para trabajar sin conexión\n",
        "cf.go_offline()\n",
        "\n",
        "# Crear un DataFrame (reemplaza esto con tus datos)\n",
        "df = pd.DataFrame({\n",
        "    'Gender': ['Male', 'Female', 'Male', 'Female'],\n",
        "    'Age': [30, 25, 40, 35]\n",
        "})\n",
        "\n",
        "# Trazar un gráfico de líneas\n",
        "df.iplot(kind='line', x='Gender', y='Age', xTitle='Gender', yTitle='Age')\n"
      ],
      "metadata": {
        "id": "XUEhbh6Lx0nQ"
      },
      "execution_count": null,
      "outputs": []
    },
    {
      "cell_type": "code",
      "source": [
        "pd.read_csv('/content/drive/MyDrive/Notebooks Inteligencia artificial/heart_attack_dataset.csv')\n",
        "df_segundo = pd.read_csv('/content/drive/MyDrive/Notebooks Inteligencia artificial/heart_attack_dataset.csv')\n",
        "df_segundo.iplot(kind='line', xTitle='Gender', yTitle='Age')"
      ],
      "metadata": {
        "id": "Kj7I1prmwrnZ"
      },
      "execution_count": null,
      "outputs": []
    },
    {
      "cell_type": "code",
      "source": [
        "pd.read_csv('/content/drive/MyDrive/Notebooks Inteligencia artificial/heart_attack_dataset.csv')"
      ],
      "metadata": {
        "id": "iKW6Tpo3y3Hy"
      },
      "execution_count": null,
      "outputs": []
    },
    {
      "cell_type": "code",
      "source": [
        "!pip install plotly\n"
      ],
      "metadata": {
        "id": "U07uL7XKza1i"
      },
      "execution_count": null,
      "outputs": []
    },
    {
      "cell_type": "markdown",
      "source": [
        "**Gráficos interactivos**"
      ],
      "metadata": {
        "id": "ysSQFJ2h9agg"
      }
    },
    {
      "cell_type": "code",
      "source": [
        "import pandas as pd\n",
        "import plotly.express as px\n"
      ],
      "metadata": {
        "id": "0IrCb3m90HI2"
      },
      "execution_count": null,
      "outputs": []
    },
    {
      "cell_type": "code",
      "source": [
        "df = pd.read_csv('/content/drive/MyDrive/Notebooks Inteligencia artificial/heart_attack_dataset.csv')\n",
        "df.head()"
      ],
      "metadata": {
        "id": "YNLksPCB9_a9"
      },
      "execution_count": null,
      "outputs": []
    },
    {
      "cell_type": "code",
      "source": [
        "df = pd.read_csv('/content/drive/MyDrive/Notebooks Inteligencia artificial/heart_attack_dataset.csv')\n",
        "df.columns"
      ],
      "metadata": {
        "id": "FeguasPO9ZJI"
      },
      "execution_count": null,
      "outputs": []
    },
    {
      "cell_type": "code",
      "source": [
        "fig = px.scatter_3d(df, x='Gender', y='Age', color='Chest Pain Type')\n",
        "fig.show()"
      ],
      "metadata": {
        "id": "PSv3Mz---rS2"
      },
      "execution_count": null,
      "outputs": []
    },
    {
      "cell_type": "code",
      "source": [],
      "metadata": {
        "id": "lawoXM-YAKP7"
      },
      "execution_count": null,
      "outputs": []
    },
    {
      "cell_type": "code",
      "source": [
        "%matplotlib inline\n"
      ],
      "metadata": {
        "id": "0pz8ZMUOzqtN"
      },
      "execution_count": null,
      "outputs": []
    },
    {
      "cell_type": "markdown",
      "source": [],
      "metadata": {
        "id": "_L1VGZIuyk6Z"
      }
    },
    {
      "cell_type": "code",
      "source": [
        "import matplotlib.pyplot as plt\n",
        "\n",
        "# Supongamos que quieres trazar una gráfica de líneas para la columna 'Age'\n",
        "plt.plot(df_segundo['Gender'], df_segundo['Age'])\n",
        "plt.xlabel('Género')\n",
        "plt.ylabel('Edad')\n",
        "plt.title('Relación entre Género y Edad')\n",
        "plt.show()"
      ],
      "metadata": {
        "id": "hzHLP5o2v5sc"
      },
      "execution_count": null,
      "outputs": []
    },
    {
      "cell_type": "code",
      "source": [
        "#Importar bibliotecas\n",
        "\n",
        "import datetime\n",
        "from datetime import date\n",
        "import pandas as pd\n",
        "import numpy as np\n",
        "from plotly import __version__\n",
        "%matplotlib inline\n",
        "\n",
        "import plotly.offline as pyo\n",
        "import plotly.graph_objs as go\n",
        "from plotly.offline import iplot\n",
        "\n",
        "import cufflinks as cf\n",
        "from plotly.offline import download_plotlyjs, init_notebook_mode, plot, iplot\n",
        "\n",
        "\n",
        "cf.go_offline()"
      ],
      "metadata": {
        "id": "58xgkOuvv5Qp"
      },
      "execution_count": null,
      "outputs": []
    },
    {
      "cell_type": "code",
      "source": [
        "#Establecer el cuaderno en falso\n",
        "\n",
        "init_notebook_mode(connected=False)\n",
        "#Crear función para Colab copiada de: [1 , 2]\n",
        "\n",
        "def configure_plotly_browser_state():\n",
        "  import IPython\n",
        "  display(IPython.core.display.HTML('''\n",
        "        <script src=\"/static/components/requirejs/require.js\"></script>\n",
        "        <script>\n",
        "          requirejs.config({\n",
        "            paths: {\n",
        "              base: '/static/base',\n",
        "              plotly: 'https://cdn.plot.ly/plotly-1.5.1.min.js?noext',\n",
        "            },\n",
        "          });\n",
        "        </script>\n",
        "        '''))"
      ],
      "metadata": {
        "id": "_66iV_wK1fSq"
      },
      "execution_count": null,
      "outputs": []
    },
    {
      "cell_type": "code",
      "source": [
        "df_segundo = pd.read_csv('/content/drive/MyDrive/Notebooks Inteligencia artificial/heart_attack_dataset.csv')\n",
        "df_segundo.iplot(kind='line', xTitle='Gender', yTitle='Age')"
      ],
      "metadata": {
        "id": "PjmY1zc42M9_"
      },
      "execution_count": null,
      "outputs": []
    },
    {
      "cell_type": "code",
      "source": [
        "\n",
        "df_segundo = pd.read_csv('/content/drive/MyDrive/tech/heart_attack_dataset.csv')\n",
        "df_segundo.iplot(kind='line', xTitle='Gender', yTitle='Age')\n"
      ],
      "metadata": {
        "id": "wX197GfE16-w"
      },
      "execution_count": null,
      "outputs": []
    },
    {
      "cell_type": "code",
      "source": [
        "df = pd.DataFrame({\n",
        "    'month': ['January', 'February', 'March', 'April', 'May', 'June', 'July', 'August', 'September', 'October', 'November', 'December'],\n",
        "    'Year_2018': [3.26, 6.11, 4.86, 6.53, 4.45, 3.86, 8.04, 7.59, 1.48, 4.75, 7.27, 11.83],\n",
        "    'Year_1996': [8.26, 3.82, 6.42, 2.91, 2.12, 1.70, 2.14, 4.66, 4.32, 0.89, 3.22, 4.14]\n",
        "}\n",
        ")\n",
        "df"
      ],
      "metadata": {
        "id": "zmitqexf1slO"
      },
      "execution_count": null,
      "outputs": []
    },
    {
      "cell_type": "code",
      "source": [
        "configure_plotly_browser_state()\n",
        "df.iplot(kind='line',x='month',y=['Year_2018', 'Year_1996'], color=['white', 'gold'],\n",
        "theme='solar', mode='markers+lines',title='Annual Rainfall in the city Peachtree City, GA')\n",
        "plt.show()"
      ],
      "metadata": {
        "id": "Hgb54VEq2oqa"
      },
      "execution_count": null,
      "outputs": []
    }
  ]
}