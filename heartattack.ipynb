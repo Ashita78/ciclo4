{
  "nbformat": 4,
  "nbformat_minor": 0,
  "metadata": {
    "colab": {
      "private_outputs": true,
      "provenance": [],
      "include_colab_link": true
    },
    "kernelspec": {
      "name": "python3",
      "display_name": "Python 3"
    },
    "language_info": {
      "name": "python"
    }
  },
  "cells": [
    {
      "cell_type": "markdown",
      "metadata": {
        "id": "view-in-github",
        "colab_type": "text"
      },
      "source": [
        "<a href=\"https://colab.research.google.com/github/Ashita78/ciclo4/blob/main/heartattack.ipynb\" target=\"_parent\"><img src=\"https://colab.research.google.com/assets/colab-badge.svg\" alt=\"Open In Colab\"/></a>"
      ]
    },
    {
      "cell_type": "markdown",
      "source": [
        "Propósitos: Proyectar factores de riesgo de corazón teniendo en cuenta\n",
        "diferentes factores como estilos de vida, historia médica.\n",
        "\n"
      ],
      "metadata": {
        "id": "0E1TODhFM_RN"
      }
    },
    {
      "cell_type": "markdown",
      "source": [
        "Se mostrará también diferentes tipos de diagramas para buscar información especifica del dataset."
      ],
      "metadata": {
        "id": "7zC5OR1WOySH"
      }
    },
    {
      "cell_type": "markdown",
      "source": [
        "Objetivos: Al finalizar este caso\n",
        "\n",
        "Se comprendera la influencia de los diferentes factores en los ataques del corazón.\n",
        "Se mostrarán diferentes gráficos usando plotly"
      ],
      "metadata": {
        "id": "7CsP5-ucbTVj"
      }
    },
    {
      "cell_type": "markdown",
      "source": [
        "Justificación\n",
        "\n",
        "Identificar tempranamente a individuos en riesgo.\n",
        "Desarrollar estrategias de prevención personalizadas.\n",
        "Optimizar la asignación de recursos sanitarios.\n",
        "Reducir la carga económica asociada a enfermedades cardíacas.\n",
        "Mejorar la calidad de vida de la población.\n"
      ],
      "metadata": {
        "id": "IKNQa4UiN_G2"
      }
    },
    {
      "cell_type": "markdown",
      "source": [
        "Contexto analítico: Se utilizan datos en formato CSV sobre factores de riesgo del corazón utilizando este dataset https://www.kaggle.com/datasets/waqi786/heart-attack-dataset"
      ],
      "metadata": {
        "id": "lIPtj0rRPb3n"
      }
    },
    {
      "cell_type": "markdown",
      "source": [],
      "metadata": {
        "id": "akDfJ6BtbO4D"
      }
    },
    {
      "cell_type": "markdown",
      "source": [
        "Se pasa a importar algunas librerias para hacer los gráficos"
      ],
      "metadata": {
        "id": "5TJm6jBJTmJN"
      }
    },
    {
      "cell_type": "code",
      "execution_count": null,
      "metadata": {
        "id": "CicRH_T_QEzN"
      },
      "outputs": [],
      "source": [
        "import pandas as pd\n",
        "import numpy as np\n",
        "import matplotlib.pyplot as plt\n",
        "%matplotlib inline\n",
        "import os"
      ]
    },
    {
      "cell_type": "markdown",
      "source": [
        "En Google Colab, se puede trabajar con SQLAlchemy, una librería de Python que facilita se encarga de dar acceso a bases de datos relacionales y permite realizar operaciones sobre ellas. Veamos cómo puedes usar SQLAlchemy en Colab:\n",
        "1) Se Crea un Engine (Motor) para la Base de Datos:\n",
        "2)  El engine es el punto de entrada a la base de datos y permite que SQLAlchemy se comunique con ella.\n"
      ],
      "metadata": {
        "id": "1yeU2FLVVyPy"
      }
    },
    {
      "cell_type": "markdown",
      "source": [
        "Sqlite es una versión ligera de SQL"
      ],
      "metadata": {
        "id": "l5_-m8hrZ2iO"
      }
    },
    {
      "cell_type": "code",
      "source": [
        "from sqlalchemy import create_engine\n",
        "import os\n",
        "\n",
        "# Crear el engine para la base de datos chinook.db\n",
        "engine = create_engine(os.path.join('sqlite:///','data', 'heart_attack_database.db'))"
      ],
      "metadata": {
        "id": "nNePJ5dEWG_f"
      },
      "execution_count": null,
      "outputs": []
    },
    {
      "cell_type": "code",
      "source": [
        "query = \"SELECT name FROM sqlite_master WHERE type='table'\"\n",
        "import pandas as pd\n",
        "df = pd.read_sql(query, con=engine)\n",
        "df"
      ],
      "metadata": {
        "id": "DX2WRaVnWnww"
      },
      "execution_count": null,
      "outputs": []
    },
    {
      "cell_type": "markdown",
      "source": [
        "Se usa el paquete sqalchemy"
      ],
      "metadata": {
        "id": "zHvR2BvfW6HR"
      }
    },
    {
      "cell_type": "markdown",
      "source": [
        "Lenguaje de consulta estructurado SQL"
      ],
      "metadata": {
        "id": "9ae56FZwXGcq"
      }
    },
    {
      "cell_type": "markdown",
      "source": [
        "Se va a utilizar el lenguaje de consulta estructurado ya que este permite la comunicación con las based de datos relacionales de una forma eficiente para poder extraer datos."
      ],
      "metadata": {
        "id": "fH8vVqeiYVEC"
      }
    },
    {
      "cell_type": "markdown",
      "source": [
        "Se usará el paquete sqlalchemy para hacer queries (consultas) unido con pandas."
      ],
      "metadata": {
        "id": "NdjLzdk6ZLK2"
      }
    },
    {
      "cell_type": "code",
      "source": [
        "import sqlalchemy\n",
        "import os\n",
        "\n",
        "version_sqlalchemy = sqlalchemy.__version__  ## Almacena como texto la versión actual de sqlalchemy\n",
        "print(\"la versión instalada de sqlalchemy es la: \", version_sqlalchemy)\n",
        "\n",
        "version_mayor = int(version_sqlalchemy.split(\".\")[0])  ## Extrae el primer número de la versión (índice 0)\n",
        "print(version_mayor)\n",
        "\n",
        "paquete = \"pansql\" ## por defecto trata de instalar pansql\n",
        "\n",
        "if version_mayor >= 2:                       # Prueba si la versión mayor de sqlalchemy es igual o superior a 2\n",
        "  os.system(\"pip install \" + paquete)           # de ser así instala el paquete  \"pansql\"\n",
        "  print(\"Se instaló \" + paquete)                # Confirma la instalación del paquete\n",
        "else:                                        # De lo contario (la versión mayor es inferior a 2)\n",
        "  paquete = \"pandasql\"                          # cambia el paquete objetivo a \"pandasql\"\n",
        "  os.system(\"pip install \" + paquete)           # instala el paquete  \"pandasql\"\n",
        "  print(\"Se instaló \" + paquete)                # Confirma la instalación del paquete\n",
        "\n",
        "exec('from ' + paquete +  ' import sqldf')      # Carga la función que permite ejecutar SQL con dataframes de pandas\n",
        "print(\"Se cargó la función sqldf\")"
      ],
      "metadata": {
        "id": "NyMeU2FKWznY"
      },
      "execution_count": null,
      "outputs": []
    },
    {
      "cell_type": "code",
      "source": [],
      "metadata": {
        "id": "QXBqLDdaY1Y8"
      },
      "execution_count": null,
      "outputs": []
    },
    {
      "cell_type": "markdown",
      "source": [
        "Con %sql lite se puede trabajar con base de datos SQLITE o POSTGRESQL"
      ],
      "metadata": {
        "id": "QlRH3I_5Uc1i"
      }
    },
    {
      "cell_type": "code",
      "source": [
        "%load_ext sql\n",
        "%sql sqlite:///mi_basededatos.db\n",
        "%sql SELECT * FROM mi_tabla WHERE columna = 'valor'"
      ],
      "metadata": {
        "id": "n9YAO7OKUSX2"
      },
      "execution_count": null,
      "outputs": []
    },
    {
      "cell_type": "code",
      "source": [],
      "metadata": {
        "id": "LzC8UvK1Vq_v"
      },
      "execution_count": null,
      "outputs": []
    },
    {
      "cell_type": "code",
      "source": [
        "#from google.colab import drive\n",
        "#drive.mount('/content/drive/',force_remount=True)"
      ],
      "metadata": {
        "id": "XyFNX3t0z2vI"
      },
      "execution_count": null,
      "outputs": []
    },
    {
      "cell_type": "code",
      "source": [
        "#ADVERTENCIA: Comentar esta celda si NO está trabajando dentro de Google Colaboratory\n",
        "from google.colab import drive\n",
        "drive.mount('/content/drive/',force_remount=True)\n",
        "os.getcwd()\n",
        "os.chdir(\"/content/drive/MyDrive/Notebooks Inteligencia artificial/\")\n"
      ],
      "metadata": {
        "id": "gaiPqzwvHBdB"
      },
      "execution_count": null,
      "outputs": []
    },
    {
      "cell_type": "markdown",
      "source": [
        "                                              Primeros pasos con el código"
      ],
      "metadata": {
        "id": "jpiu_Y0Ma_h2"
      }
    },
    {
      "cell_type": "markdown",
      "source": [],
      "metadata": {
        "id": "wNVwHfAFbL8q"
      }
    },
    {
      "cell_type": "markdown",
      "source": [
        "Caso de estudio :¿Que patrones existen entre los ataques del corazón y diferentes factores como estilo de vida e historia médica?\n"
      ],
      "metadata": {
        "id": "UtQRSBxTU2p0"
      }
    },
    {
      "cell_type": "markdown",
      "source": [
        "Los datos de heart attack dataset muestran las siguientes categorias\n",
        "Gender\n",
        "Age\n",
        "Blood pressure\n",
        "Cholesterol\n",
        "Has diabetes\n",
        "Smoking Status\n",
        "Chest pain test\n",
        "Treatment"
      ],
      "metadata": {
        "id": "RkVoE4sHVUGx"
      }
    },
    {
      "cell_type": "markdown",
      "source": [
        "Se pasa a leer la base de datos heart attack sacada de Kaggle"
      ],
      "metadata": {
        "id": "Rilwtpe22b5h"
      }
    },
    {
      "cell_type": "code",
      "source": [
        "# Leer el archivo CSV\n",
        "df = pd.read_csv('heart_attack_dataset.csv',encoding='latin1')\n",
        "\n",
        "# Se muestran las primeras 4 filas del DataFrame para saber de que se trata el dataset\n",
        "print(df.head())"
      ],
      "metadata": {
        "id": "gsaqVy3VoUbl"
      },
      "execution_count": null,
      "outputs": []
    },
    {
      "cell_type": "code",
      "source": [
        "# Verificar si la columna 'tratamiento' existe en el DataFrame\n",
        "if 'treatment' in df.columns:\n",
        "    print(\"La columna 'treatment' existe en el DataFrame.\")\n",
        "\n",
        "    # Identificar los tipos de tratamiento\n",
        "    tipos_de_tratamiento = df['treatment'].unique()\n",
        "    print(\"Tipos de tratamiento en el dataset:\", tipos_de_tratamiento)\n",
        "    print(\"Número de tipos de tratamiento:\", len(tipos_de_tratamiento))\n",
        "else:\n",
        "    print(\"La columna 'tratamiento' no se encuentra en el DataFrame.\")"
      ],
      "metadata": {
        "id": "FnybgBXTvbeV"
      },
      "execution_count": null,
      "outputs": []
    },
    {
      "cell_type": "code",
      "source": [
        "# Obtener estadísticas descriptivas para todas las variables numéricas\n",
        "summary_stats = df.describe()\n",
        "print(summary_stats)"
      ],
      "metadata": {
        "id": "JQY81m3ZHyXQ",
        "collapsed": true
      },
      "execution_count": null,
      "outputs": []
    },
    {
      "cell_type": "markdown",
      "source": [
        "En este código, se utiliza el método .sum() para contar cuántas veces aparece cada valor en la columna “género”. Esto nos dará la cantidad total de hombres y mujeres en el conjunto de datos."
      ],
      "metadata": {
        "id": "qYocjcdlPA2F"
      }
    },
    {
      "cell_type": "code",
      "source": [
        "# Cuenta la cantidad de hombres y mujeres\n",
        "con_hombres = (df[\"Gender\"] == \"Male\").sum()\n",
        "con_mujeres = (df[\"Gender\"] == \"Female\").sum()\n",
        "\n",
        "print(f\"Cantidad de Hombres: {con_hombres}\")\n",
        "print(f\"Cantidad de Mujeres: {con_mujeres}\")"
      ],
      "metadata": {
        "id": "RVVr3B0CNXk2"
      },
      "execution_count": null,
      "outputs": []
    },
    {
      "cell_type": "markdown",
      "source": [
        "**Regresión logística**"
      ],
      "metadata": {
        "id": "szi4mkD4AOx5"
      }
    },
    {
      "cell_type": "markdown",
      "source": [
        "Colocar las librerias necesarias, visualización libreria de datos\n",
        "Para el modelo de regresión logística se va a aplicar el modelo statsmodel"
      ],
      "metadata": {
        "id": "gjOUhRd3_-ht"
      }
    },
    {
      "cell_type": "code",
      "source": [
        "import statsmodels.api as sm\n",
        "from sklearn.model_selection import train_test_split\n",
        "from sklearn.preprocessing import OrdinalEncoder\n",
        "import seaborn as sns\n",
        "import matplotlib.pyplot as plt"
      ],
      "metadata": {
        "id": "B-yOVEWm_g9R"
      },
      "execution_count": null,
      "outputs": []
    },
    {
      "cell_type": "code",
      "source": [
        "data=pd.read_csv(\"/content/drive/MyDrive/Notebooks Inteligencia artificial/heart_attack_dataset.csv\")\n"
      ],
      "metadata": {
        "id": "ByCDrCxOBJtx"
      },
      "execution_count": null,
      "outputs": []
    },
    {
      "cell_type": "code",
      "source": [
        "data.shape"
      ],
      "metadata": {
        "id": "c9-7Msjp_xbf"
      },
      "execution_count": null,
      "outputs": []
    },
    {
      "cell_type": "markdown",
      "source": [
        "Cuenta con mil registros y 8 variables"
      ],
      "metadata": {
        "id": "dzgEvQOFCLKK"
      }
    },
    {
      "cell_type": "code",
      "source": [
        "data.info()"
      ],
      "metadata": {
        "id": "dZk1rdOsCK0y"
      },
      "execution_count": null,
      "outputs": []
    },
    {
      "cell_type": "markdown",
      "source": [
        "La mayoria de sus variables son categorias, tres variables que me indican que son de tipo entero."
      ],
      "metadata": {
        "id": "vDPN4JHwChqN"
      }
    },
    {
      "cell_type": "code",
      "source": [
        "data.isnull().sum()"
      ],
      "metadata": {
        "id": "oDDBgqM0CcDe"
      },
      "execution_count": null,
      "outputs": []
    },
    {
      "cell_type": "markdown",
      "source": [
        "Con data isnull reviso si hay valores faltantes , se ve que no hay existencia de valores nulos."
      ],
      "metadata": {
        "id": "HiidC-1rC3GS"
      }
    },
    {
      "cell_type": "code",
      "source": [
        "data.select_dtypes(include=\"O\").describe()"
      ],
      "metadata": {
        "id": "2s0ah1EsCzz6"
      },
      "execution_count": null,
      "outputs": []
    },
    {
      "cell_type": "markdown",
      "source": [
        "Con data select se hace una descripción de todas las variables que son categoricas."
      ],
      "metadata": {
        "id": "tZkLci_VDObv"
      }
    },
    {
      "cell_type": "code",
      "source": [
        "data.select_dtypes(exclude=\"O\").describe()"
      ],
      "metadata": {
        "id": "FO5dNOGdDLFT"
      },
      "execution_count": null,
      "outputs": []
    },
    {
      "cell_type": "code",
      "source": [
        "target=\"Churn\"\n",
        "var_num=[\"Age\",\"Blood Pressure\",\"Cholesterol\"]\n",
        "var_cat=[a for a in data.columns if a not in var_num+[target,\"customerID\"]]"
      ],
      "metadata": {
        "id": "tfUK5KkOElj6"
      },
      "execution_count": null,
      "outputs": []
    },
    {
      "cell_type": "code",
      "source": [
        "var_cat"
      ],
      "metadata": {
        "id": "S7TGdYeaE9yl"
      },
      "execution_count": null,
      "outputs": []
    },
    {
      "cell_type": "markdown",
      "source": [
        "Ahora aqui se buscan las variables númericas\n"
      ],
      "metadata": {
        "id": "qZsTkoXKDxhS"
      }
    },
    {
      "cell_type": "code",
      "source": [
        "dftarget_des=data[\"Treatment\"].value_counts().reset_index()#*100/len(data)"
      ],
      "metadata": {
        "id": "Pd3b5rmJFMAn"
      },
      "execution_count": null,
      "outputs": []
    },
    {
      "cell_type": "code",
      "source": [
        "dftarget_des[\"%total\"]=100*(dftarget_des[\"count\"]/sum(dftarget_des[\"count\"])).round(2)\n",
        "dftarget_des"
      ],
      "metadata": {
        "id": "j9Cl0NFcGG3E"
      },
      "execution_count": null,
      "outputs": []
    },
    {
      "cell_type": "code",
      "source": [
        "sns.countplot(x=data[\"Treatment\"],hue=data[\"Treatment\"])\n",
        "plt.text(-0.15,1500,s=\"5174\\n(73%)\",size=10)\n",
        "plt.text(0.85,500,s=\"1869\\n(27%)\",size=10)\n",
        "plt.show()"
      ],
      "metadata": {
        "id": "Cb4LylkVGO_r"
      },
      "execution_count": null,
      "outputs": []
    },
    {
      "cell_type": "markdown",
      "source": [
        "https://www.youtube.com/watch?v=BbAhzkohbws&t=166s mirar\n",
        "minuto 9:09\n"
      ],
      "metadata": {
        "id": "NKSWSpSUHJcx"
      }
    },
    {
      "cell_type": "code",
      "source": [
        "def plot_cat(df,lista,fi_col,hue=None):\n",
        "\n",
        "    plt.figure(figsize=(20,15))\n",
        "    plt.subplots_adjust(top=1.2,hspace=0.5)\n",
        "    for i,j in enumerate(lista):\n",
        "        plt.subplot(*fi_col,i+1)\n",
        "        sns.countplot(data=df,x=j,hue=j if not bool(hue) else hue,)\n",
        "        plt.xticks(rotation=45)\n",
        "        plt.title(f'variable: {j}',fontsize=20)"
      ],
      "metadata": {
        "id": "FAnWzNhyG0zf"
      },
      "execution_count": null,
      "outputs": []
    },
    {
      "cell_type": "markdown",
      "source": [
        "Hacer consultas query"
      ],
      "metadata": {
        "id": "7a9TVT3cf8Zc"
      }
    },
    {
      "cell_type": "code",
      "source": [
        "!pip install sqlalchemy"
      ],
      "metadata": {
        "id": "xqB2iyeq41-c"
      },
      "execution_count": null,
      "outputs": []
    },
    {
      "cell_type": "markdown",
      "source": [
        "Preprocesamiento de datos para simplificar el análisis en el futuro"
      ],
      "metadata": {
        "id": "MsWEUrDK6eau"
      }
    },
    {
      "cell_type": "markdown",
      "source": [
        "En el mundo real, a menudo no podemos darnos el lujo de manejar datos perfectamente limpios y formateados. Por lo tanto, tendremos que realizar algunas operaciones en los datos proporcionados para obtener un formato que permita un análisis posterior.\n",
        "\n",
        "Por ejemplo, la columna ```Value``` es un valor numérico, pero actualmente está en formato de cadena, lo que dificulta la realización de operaciones matemáticas en ella. Esto se debe a que a esta columna le faltan algunos valores, que se registran como \"Not Available\":"
      ],
      "metadata": {
        "id": "axwgyl8j6op-"
      }
    },
    {
      "cell_type": "markdown",
      "source": [
        "A la hora de escribir una `consulta compleja` como la anterior se ebe evitar escribir mucho código y mas bien adoptar una estrategia que permita automatizar cualquier cambio futuro. Por ejemplo: Si las recodificaciones cambiaran, deberíamos borrar el texto actual y sutiruirlo por uno nuevo.\n",
        "\n",
        "Dos posibles enfoques serían:\n",
        "\n",
        "1. Crear una tabla de equivalencias con el diccionario y usar un `INNER JOIN`\n",
        "\n",
        "2. Crear un ciclo `for` que sustituya las tiquetas secuencialmente el lugar de toas al tiempo.\n",
        "\n",
        "\n",
        "\n",
        "A continuación se muestra como aplicar ambos enfoques:"
      ],
      "metadata": {
        "id": "BJMbZhxp7sYt"
      }
    },
    {
      "cell_type": "code",
      "source": [],
      "metadata": {
        "id": "hhGCfBG-8-NG"
      },
      "execution_count": null,
      "outputs": []
    },
    {
      "cell_type": "code",
      "source": [
        "import statsmodels.api as sm\n",
        "from sklearn.model_selection import train_test_split\n",
        "from sklearn.preprocessing import OrdinalEncoder\n",
        "import seaborn as sns\n",
        "import matplotlib.pyplot as plt"
      ],
      "metadata": {
        "id": "YFjqdt5n9d0E"
      },
      "execution_count": null,
      "outputs": []
    },
    {
      "cell_type": "code",
      "source": [
        "heart_attack_dataset_df =pd.DataFrame"
      ],
      "metadata": {
        "id": "UEBoQk277gi_"
      },
      "execution_count": null,
      "outputs": []
    },
    {
      "cell_type": "code",
      "source": [
        "energy_short_df = pd.DataFrame(energy_short_dict.items()\n",
        "                              , columns=[\"etiquetas_ant\",\"etiquetas_new\"])\n",
        "\n",
        "display(energy_short_df)"
      ],
      "metadata": {
        "id": "J7yqx_oC7Y5l"
      },
      "execution_count": null,
      "outputs": []
    },
    {
      "cell_type": "code",
      "source": [
        "import csv\n",
        "\n",
        "# Ruta al archivo CSV\n",
        "# archivo_csv = '../yo/Grupo 2/heart_attack_dataset.csv'\n",
        "\n",
        "# Inicializamos contadores\n",
        "LifestyleChanges = 0\n",
        "Angioplasty = 0\n",
        "\n",
        "#with open(archivo_csv, encoding='latin1') as fichero_csv:\n",
        "    #lector = csv.reader(fichero_csv)\n",
        "    # Saltamos la primera línea (encabezados)\n",
        "    #next(lector)\n",
        "\n",
        "    # Recorremos las filas del archivo\n",
        "    for column in lector:\n",
        "        # La primera columna está en la posición 0\n",
        "        valor_genero = column[7]\n",
        "\n",
        "        if valor_genero.lower() == 'lifestyle changes':\n",
        "            LifestyleChanges += 1\n",
        "        elif valor_genero.lower() == 'angioplasty':\n",
        "            Angioplasty += 1\n",
        "\n",
        "\n",
        "\n",
        "print(f\"Hay {LifestyleChanges} registros 'lifestyle changes' y {Angioplasty} registros 'angioplasty'.\")\n"
      ],
      "metadata": {
        "id": "nRzK-PjlX8F4"
      },
      "execution_count": null,
      "outputs": []
    }
  ]
}